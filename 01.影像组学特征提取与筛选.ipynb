{
 "cells": [
  {
   "cell_type": "markdown",
   "id": "5222758b",
   "metadata": {},
   "source": [
    "# 1.影响特征提取"
   ]
  },
  {
   "cell_type": "markdown",
   "id": "81bf909e",
   "metadata": {},
   "source": [
    "## 导入包"
   ]
  },
  {
   "cell_type": "code",
   "execution_count": 1,
   "id": "f079eb22",
   "metadata": {},
   "outputs": [],
   "source": [
    "from radiomics import featureextractor\n",
    "import os\n",
    "import SimpleITK as sitk\n",
    "# os.environ['KMP_DUPLICATE_LIB_OK=TRUE']=\"True\""
   ]
  },
  {
   "cell_type": "markdown",
   "id": "0a895fdf",
   "metadata": {},
   "source": [
    "## 定义提取函数参数"
   ]
  },
  {
   "cell_type": "code",
   "execution_count": 2,
   "id": "815c545a",
   "metadata": {},
   "outputs": [],
   "source": [
    "extractor = featureextractor.RadiomicsFeatureExtractor()\n",
    "#图像预处理\n",
    "settings = {}\n",
    "settings['binWidth'] = 25\n",
    "settings['resampledPixelSpacing'] = [3,3,3] # unit: mm\n",
    "settings['interpolator'] = sitk.sitkNearestNeighbor   #指定重采样的插值方法，处理方法有多种，这里选择的是第一种\n",
    "settings['normalize'] = True #图像归一化处理，避免不同设备引起的差异\n",
    "extractor = featureextractor.RadiomicsFeatureExtractor(**settings)\n",
    "\n",
    "#选择滤波器,图像类型\n",
    "extractor.disableAllImageTypes()\n",
    "extractor.enableImageTypes(Original={}, LoG={\"sigma\" : [4.0]}, Wavelet={})  #{\"sigma\" : [4.0]} 这个是参数 选择滤波器\n",
    "\n",
    "# #选择影像组学特定类\n",
    "# extractor.disableAllFeatures()\n",
    "# extractor.enableFeatureClassByName('glrlm')\n",
    "# extractor.enableFeatureClassByName('glcm')\n",
    "\n"
   ]
  },
  {
   "cell_type": "markdown",
   "id": "443e6c27",
   "metadata": {},
   "source": [
    "## 定义提取路径"
   ]
  },
  {
   "cell_type": "code",
   "execution_count": 10,
   "id": "0152502f",
   "metadata": {},
   "outputs": [],
   "source": [
    "import pandas as pd\n",
    "basePath = \"/home/gg/jupyter_notebook_wd/Radiomice/130_gg\"\n",
    "image_basePath = '/home/gg/jupyter_notebook_wd/Radiomice/130_gg/images/'\n",
    "mask_basePath = '/home/gg/jupyter_notebook_wd/Radiomice/130_gg/masks/'\n",
    "folders = os.listdir(image_basePath)"
   ]
  },
  {
   "cell_type": "markdown",
   "id": "1b90052c",
   "metadata": {},
   "source": [
    "## 单个样本特征提取"
   ]
  },
  {
   "cell_type": "code",
   "execution_count": 11,
   "id": "c2c9eb3e",
   "metadata": {},
   "outputs": [
    {
     "name": "stderr",
     "output_type": "stream",
     "text": [
      "GLCM is symmetrical, therefore Sum Average = 2 * Joint Average, only 1 needs to be calculated\n",
      "GLCM is symmetrical, therefore Sum Average = 2 * Joint Average, only 1 needs to be calculated\n",
      "GLCM is symmetrical, therefore Sum Average = 2 * Joint Average, only 1 needs to be calculated\n",
      "GLCM is symmetrical, therefore Sum Average = 2 * Joint Average, only 1 needs to be calculated\n",
      "GLCM is symmetrical, therefore Sum Average = 2 * Joint Average, only 1 needs to be calculated\n",
      "GLCM is symmetrical, therefore Sum Average = 2 * Joint Average, only 1 needs to be calculated\n",
      "GLCM is symmetrical, therefore Sum Average = 2 * Joint Average, only 1 needs to be calculated\n",
      "GLCM is symmetrical, therefore Sum Average = 2 * Joint Average, only 1 needs to be calculated\n",
      "GLCM is symmetrical, therefore Sum Average = 2 * Joint Average, only 1 needs to be calculated\n",
      "GLCM is symmetrical, therefore Sum Average = 2 * Joint Average, only 1 needs to be calculated\n"
     ]
    },
    {
     "name": "stdout",
     "output_type": "stream",
     "text": [
      "diagnostics_Versions_PyRadiomics: 3.1.0a2\n",
      "diagnostics_Versions_Numpy: 1.26.4\n",
      "diagnostics_Versions_SimpleITK: 2.0.2\n",
      "diagnostics_Versions_PyWavelet: 1.6.0\n",
      "diagnostics_Versions_Python: 3.9.19\n",
      "diagnostics_Configuration_Settings: {'minimumROIDimensions': 2, 'minimumROISize': None, 'normalize': True, 'normalizeScale': 1, 'removeOutliers': None, 'resampledPixelSpacing': [3, 3, 3], 'interpolator': 1, 'preCrop': False, 'padDistance': 5, 'distances': [1], 'force2D': False, 'force2Ddimension': 0, 'resegmentRange': None, 'label': 1, 'additionalInfo': True, 'binWidth': 25}\n",
      "diagnostics_Configuration_EnabledImageTypes: {'Original': {}, 'LoG': {'sigma': [4.0]}, 'Wavelet': {}}\n",
      "diagnostics_Image-original_Hash: f2e47708d9ba6cb4b1240a428df9404a9a63c096\n",
      "diagnostics_Image-original_Dimensionality: 3D\n",
      "diagnostics_Image-original_Spacing: (0.470703125, 0.470703125, 0.699999988079071)\n",
      "diagnostics_Image-original_Size: (512, 512, 553)\n",
      "diagnostics_Image-original_Mean: -815.9606299443443\n",
      "diagnostics_Image-original_Minimum: -1024.0\n",
      "diagnostics_Image-original_Maximum: 3071.0\n",
      "diagnostics_Mask-original_Hash: 00d22ce2b7fb40f319507505ce4f811393e43e72\n",
      "diagnostics_Mask-original_Spacing: (0.470703125, 0.470703125, 0.699999988079071)\n",
      "diagnostics_Mask-original_Size: (512, 512, 553)\n",
      "diagnostics_Mask-original_BoundingBox: (135, 216, 79, 90, 131, 111)\n",
      "diagnostics_Mask-original_VoxelNum: 618456\n",
      "diagnostics_Mask-original_VolumeNum: 1\n",
      "diagnostics_Mask-original_CenterOfMassIndex: (180.2292709586454, 277.8222605973586, 134.034553792024)\n",
      "diagnostics_Mask-original_CenterOfMass: (-76.43016738079386, -91.49284217975895, 230.6758139433996)\n",
      "diagnostics_Image-interpolated_Spacing: (3.0, 3.0, 3.0)\n",
      "diagnostics_Image-interpolated_Size: (26, 33, 38)\n",
      "diagnostics_Image-interpolated_Mean: 1.6628179185572751\n",
      "diagnostics_Image-interpolated_Minimum: -0.5496798285990738\n",
      "diagnostics_Image-interpolated_Maximum: 6.721630827167484\n",
      "diagnostics_Mask-interpolated_Spacing: (3.0, 3.0, 3.0)\n",
      "diagnostics_Mask-interpolated_Size: (26, 33, 38)\n",
      "diagnostics_Mask-interpolated_BoundingBox: (5, 6, 5, 14, 20, 26)\n",
      "diagnostics_Mask-interpolated_VoxelNum: 3570\n",
      "diagnostics_Mask-interpolated_VolumeNum: 1\n",
      "diagnostics_Mask-interpolated_CenterOfMassIndex: (11.840896358543418, 15.143417366946778, 17.874789915966385)\n",
      "diagnostics_Mask-interpolated_CenterOfMass: (-76.47731092436975, -91.56974789915967, 230.72563024614038)\n",
      "diagnostics_Mask-interpolated_Mean: 2.2897574202613726\n",
      "diagnostics_Mask-interpolated_Minimum: 2.026456759108918\n",
      "diagnostics_Mask-interpolated_Maximum: 2.8085454052233443\n",
      "original_shape_Elongation: 0.7875384248617444\n",
      "original_shape_Flatness: 0.532941179891963\n",
      "original_shape_LeastAxisLength: 38.00151492802642\n",
      "original_shape_MajorAxisLength: 71.30527037848721\n",
      "original_shape_Maximum2DDiameterColumn: 80.049984384758\n",
      "original_shape_Maximum2DDiameterRow: 80.49844718999243\n",
      "original_shape_Maximum2DDiameterSlice: 62.6418390534633\n",
      "original_shape_Maximum3DDiameter: 84.2140130857092\n",
      "original_shape_MeshVolume: 95870.25\n",
      "original_shape_MinorAxisLength: 56.155640318214616\n",
      "original_shape_Sphericity: 0.6789883994630694\n",
      "original_shape_SurfaceArea: 14919.159030472636\n",
      "original_shape_SurfaceVolumeRatio: 0.15561823433726976\n",
      "original_shape_VoxelVolume: 96390.0\n",
      "original_firstorder_10Percentile: 2.2246211120095327\n",
      "original_firstorder_90Percentile: 2.362015063353959\n",
      "original_firstorder_Energy: 18736.092386120694\n",
      "original_firstorder_Entropy: -3.203426503814917e-16\n",
      "original_firstorder_InterquartileRange: 0.06341259292819679\n",
      "original_firstorder_Kurtosis: 9.824159702808515\n",
      "original_firstorder_Maximum: 2.8085454052233443\n",
      "original_firstorder_MeanAbsoluteDeviation: 0.04837589839445638\n",
      "original_firstorder_Mean: 2.2897574202613726\n",
      "original_firstorder_Median: 2.2774649394496964\n",
      "original_firstorder_Minimum: 2.026456759108918\n",
      "original_firstorder_Range: 0.7820886461144263\n",
      "original_firstorder_RobustMeanAbsoluteDeviation: 0.027257146843521703\n",
      "original_firstorder_RootMeanSquared: 2.2908961456543295\n",
      "original_firstorder_Skewness: 1.9808578132713226\n",
      "original_firstorder_TotalEnergy: 505874.4944252587\n",
      "original_firstorder_Uniformity: 1.0\n",
      "original_firstorder_Variance: 0.005216106531845961\n",
      "original_glcm_Autocorrelation: 1.0\n",
      "original_glcm_ClusterProminence: 0.0\n",
      "original_glcm_ClusterShade: 0.0\n",
      "original_glcm_ClusterTendency: 0.0\n",
      "original_glcm_Contrast: 0.0\n",
      "original_glcm_Correlation: 1.0\n",
      "original_glcm_DifferenceAverage: 0.0\n",
      "original_glcm_DifferenceEntropy: -3.2034265038149176e-16\n",
      "original_glcm_DifferenceVariance: 0.0\n",
      "original_glcm_Id: 1.0\n",
      "original_glcm_Idm: 1.0\n",
      "original_glcm_Idmn: 1.0\n",
      "original_glcm_Idn: 1.0\n",
      "original_glcm_Imc1: 0.0\n",
      "original_glcm_Imc2: 0.0\n",
      "original_glcm_InverseVariance: 0.0\n",
      "original_glcm_JointAverage: 1.0\n",
      "original_glcm_JointEnergy: 1.0\n",
      "original_glcm_JointEntropy: -3.2034265038149176e-16\n",
      "original_glcm_MCC: 1\n",
      "original_glcm_MaximumProbability: 1.0\n",
      "original_glcm_SumAverage: 2.0\n",
      "original_glcm_SumEntropy: -3.2034265038149176e-16\n",
      "original_glcm_SumSquares: 0.0\n",
      "original_gldm_DependenceEntropy: 3.1473307408198425\n",
      "original_gldm_DependenceNonUniformity: 805.793837535014\n",
      "original_gldm_DependenceNonUniformityNormalized: 0.22571255953361738\n",
      "original_gldm_DependenceVariance: 23.621757408845887\n",
      "original_gldm_GrayLevelNonUniformity: 3570.0\n",
      "original_gldm_GrayLevelVariance: 0.0\n",
      "original_gldm_HighGrayLevelEmphasis: 1.0\n",
      "original_gldm_LargeDependenceEmphasis: 556.7271708683473\n",
      "original_gldm_LargeDependenceHighGrayLevelEmphasis: 556.7271708683473\n",
      "original_gldm_LargeDependenceLowGrayLevelEmphasis: 556.7271708683473\n",
      "original_gldm_LowGrayLevelEmphasis: 1.0\n",
      "original_gldm_SmallDependenceEmphasis: 0.0023192237252662434\n",
      "original_gldm_SmallDependenceHighGrayLevelEmphasis: 0.0023192237252662434\n",
      "original_gldm_SmallDependenceLowGrayLevelEmphasis: 0.0023192237252662434\n",
      "original_glrlm_GrayLevelNonUniformity: 537.0\n",
      "original_glrlm_GrayLevelNonUniformityNormalized: 1.0\n",
      "original_glrlm_GrayLevelVariance: 0.0\n",
      "original_glrlm_HighGrayLevelRunEmphasis: 1.0\n",
      "original_glrlm_LongRunEmphasis: 69.5188781703413\n",
      "original_glrlm_LongRunHighGrayLevelEmphasis: 69.5188781703413\n",
      "original_glrlm_LongRunLowGrayLevelEmphasis: 69.5188781703413\n",
      "original_glrlm_LowGrayLevelRunEmphasis: 1.0\n",
      "original_glrlm_RunEntropy: 3.6776932147847816\n",
      "original_glrlm_RunLengthNonUniformity: 47.797474910669955\n",
      "original_glrlm_RunLengthNonUniformityNormalized: 0.08572393929530613\n",
      "original_glrlm_RunPercentage: 0.15042016806722688\n",
      "original_glrlm_RunVariance: 16.2876562540629\n",
      "original_glrlm_ShortRunEmphasis: 0.11985030410018448\n",
      "original_glrlm_ShortRunHighGrayLevelEmphasis: 0.11985030410018448\n",
      "original_glrlm_ShortRunLowGrayLevelEmphasis: 0.11985030410018448\n",
      "original_glszm_GrayLevelNonUniformity: 1.0\n",
      "original_glszm_GrayLevelNonUniformityNormalized: 1.0\n",
      "original_glszm_GrayLevelVariance: 0.0\n",
      "original_glszm_HighGrayLevelZoneEmphasis: 1.0\n",
      "original_glszm_LargeAreaEmphasis: 12744900.0\n",
      "original_glszm_LargeAreaHighGrayLevelEmphasis: 12744900.0\n",
      "original_glszm_LargeAreaLowGrayLevelEmphasis: 12744900.0\n",
      "original_glszm_LowGrayLevelZoneEmphasis: 1.0\n",
      "original_glszm_SizeZoneNonUniformity: 1.0\n",
      "original_glszm_SizeZoneNonUniformityNormalized: 1.0\n",
      "original_glszm_SmallAreaEmphasis: 7.846275765208044e-08\n",
      "original_glszm_SmallAreaHighGrayLevelEmphasis: 7.846275765208044e-08\n",
      "original_glszm_SmallAreaLowGrayLevelEmphasis: 7.846275765208044e-08\n",
      "original_glszm_ZoneEntropy: -3.203426503814917e-16\n",
      "original_glszm_ZonePercentage: 0.00028011204481792715\n",
      "original_glszm_ZoneVariance: 0.0\n",
      "original_ngtdm_Busyness: 0.0\n",
      "original_ngtdm_Coarseness: 1000000.0\n",
      "original_ngtdm_Complexity: 0.0\n",
      "original_ngtdm_Contrast: 0.0\n",
      "original_ngtdm_Strength: 0.0\n",
      "log-sigma-4-0-mm-3D_firstorder_10Percentile: -0.05768094547092914\n",
      "log-sigma-4-0-mm-3D_firstorder_90Percentile: 0.09317018613219259\n",
      "log-sigma-4-0-mm-3D_firstorder_Energy: 22.25755349959641\n",
      "log-sigma-4-0-mm-3D_firstorder_Entropy: 0.9643825275866971\n",
      "log-sigma-4-0-mm-3D_firstorder_InterquartileRange: 0.053076156647875905\n",
      "log-sigma-4-0-mm-3D_firstorder_Kurtosis: 11.654531179739244\n",
      "log-sigma-4-0-mm-3D_firstorder_Maximum: 0.2778133749961853\n",
      "log-sigma-4-0-mm-3D_firstorder_MeanAbsoluteDeviation: 0.048232832193147133\n",
      "log-sigma-4-0-mm-3D_firstorder_Mean: 0.009600726313716014\n",
      "log-sigma-4-0-mm-3D_firstorder_Median: 0.009669853374361992\n",
      "log-sigma-4-0-mm-3D_firstorder_Minimum: -0.5602301955223083\n",
      "log-sigma-4-0-mm-3D_firstorder_Range: 0.8380435705184937\n",
      "log-sigma-4-0-mm-3D_firstorder_RobustMeanAbsoluteDeviation: 0.024533450875204223\n",
      "log-sigma-4-0-mm-3D_firstorder_RootMeanSquared: 0.07895953915402724\n",
      "log-sigma-4-0-mm-3D_firstorder_Skewness: -1.4953658268880767\n",
      "log-sigma-4-0-mm-3D_firstorder_TotalEnergy: 600.953944489103\n",
      "log-sigma-4-0-mm-3D_firstorder_Uniformity: 0.5244843035253317\n",
      "log-sigma-4-0-mm-3D_firstorder_Variance: 0.006142434877665483\n",
      "log-sigma-4-0-mm-3D_glcm_Autocorrelation: 2.7487213176302165\n",
      "log-sigma-4-0-mm-3D_glcm_ClusterProminence: 0.7699492140960518\n",
      "log-sigma-4-0-mm-3D_glcm_ClusterShade: -0.28029804510204126\n",
      "log-sigma-4-0-mm-3D_glcm_ClusterTendency: 0.6885585397501767\n",
      "log-sigma-4-0-mm-3D_glcm_Contrast: 0.24935428985753547\n",
      "log-sigma-4-0-mm-3D_glcm_Correlation: 0.46813547466906275\n",
      "log-sigma-4-0-mm-3D_glcm_DifferenceAverage: 0.24935428985753547\n",
      "log-sigma-4-0-mm-3D_glcm_DifferenceEntropy: 0.8012868997417038\n",
      "log-sigma-4-0-mm-3D_glcm_DifferenceVariance: 0.18497781067893715\n",
      "log-sigma-4-0-mm-3D_glcm_Id: 0.8753228550712322\n",
      "log-sigma-4-0-mm-3D_glcm_Idm: 0.8753228550712322\n",
      "log-sigma-4-0-mm-3D_glcm_Idmn: 0.950129142028493\n",
      "log-sigma-4-0-mm-3D_glcm_Idn: 0.9168819033808215\n",
      "log-sigma-4-0-mm-3D_glcm_Imc1: -0.17726703534859786\n",
      "log-sigma-4-0-mm-3D_glcm_Imc2: 0.519122487582811\n",
      "log-sigma-4-0-mm-3D_glcm_InverseVariance: 0.24935428985753547\n",
      "log-sigma-4-0-mm-3D_glcm_JointAverage: 1.6244661541863281\n",
      "log-sigma-4-0-mm-3D_glcm_JointEnergy: 0.3460657745172068\n",
      "log-sigma-4-0-mm-3D_glcm_JointEntropy: 1.7401418051964053\n",
      "log-sigma-4-0-mm-3D_glcm_MCC: 0.4681354746690628\n",
      "log-sigma-4-0-mm-3D_glcm_MaximumProbability: 0.4997890092575604\n",
      "log-sigma-4-0-mm-3D_glcm_SumAverage: 3.2489323083726567\n",
      "log-sigma-4-0-mm-3D_glcm_SumEntropy: 1.4907875153388703\n",
      "log-sigma-4-0-mm-3D_glcm_SumSquares: 0.23447820740192798\n",
      "log-sigma-4-0-mm-3D_gldm_DependenceEntropy: 5.279685477530505\n",
      "log-sigma-4-0-mm-3D_gldm_DependenceNonUniformity: 181.6638655462185\n",
      "log-sigma-4-0-mm-3D_gldm_DependenceNonUniformityNormalized: 0.05088623684768025\n",
      "log-sigma-4-0-mm-3D_gldm_DependenceVariance: 31.050098784611883\n",
      "log-sigma-4-0-mm-3D_gldm_GrayLevelNonUniformity: 1872.408963585434\n",
      "log-sigma-4-0-mm-3D_gldm_GrayLevelVariance: 0.23775784823733415\n",
      "log-sigma-4-0-mm-3D_gldm_HighGrayLevelEmphasis: 2.831932773109244\n",
      "log-sigma-4-0-mm-3D_gldm_LargeDependenceEmphasis: 341.44145658263307\n",
      "log-sigma-4-0-mm-3D_gldm_LargeDependenceHighGrayLevelEmphasis: 1057.9238095238095\n",
      "log-sigma-4-0-mm-3D_gldm_LargeDependenceLowGrayLevelEmphasis: 162.32086834733894\n",
      "log-sigma-4-0-mm-3D_gldm_LowGrayLevelEmphasis: 0.542016806722689\n",
      "log-sigma-4-0-mm-3D_gldm_SmallDependenceEmphasis: 0.006332604972311066\n",
      "log-sigma-4-0-mm-3D_gldm_SmallDependenceHighGrayLevelEmphasis: 0.013074201963678271\n",
      "log-sigma-4-0-mm-3D_gldm_SmallDependenceLowGrayLevelEmphasis: 0.004647205724469262\n",
      "log-sigma-4-0-mm-3D_glrlm_GrayLevelNonUniformity: 645.0957545745441\n",
      "log-sigma-4-0-mm-3D_glrlm_GrayLevelNonUniformityNormalized: 0.5006948582984889\n",
      "log-sigma-4-0-mm-3D_glrlm_GrayLevelVariance: 0.24965257085075557\n",
      "log-sigma-4-0-mm-3D_glrlm_HighGrayLevelRunEmphasis: 2.537592041044974\n",
      "log-sigma-4-0-mm-3D_glrlm_LongRunEmphasis: 13.771052609079483\n",
      "log-sigma-4-0-mm-3D_glrlm_LongRunHighGrayLevelEmphasis: 42.78937160930217\n",
      "log-sigma-4-0-mm-3D_glrlm_LongRunLowGrayLevelEmphasis: 6.516472859023808\n",
      "log-sigma-4-0-mm-3D_glrlm_LowGrayLevelRunEmphasis: 0.6156019897387565\n",
      "log-sigma-4-0-mm-3D_glrlm_RunEntropy: 3.534919385437532\n",
      "log-sigma-4-0-mm-3D_glrlm_RunLengthNonUniformity: 284.254000116822\n",
      "log-sigma-4-0-mm-3D_glrlm_RunLengthNonUniformityNormalized: 0.2130349963107521\n",
      "log-sigma-4-0-mm-3D_glrlm_RunPercentage: 0.36084895496660196\n",
      "log-sigma-4-0-mm-3D_glrlm_RunVariance: 4.945616139927034\n",
      "log-sigma-4-0-mm-3D_glrlm_ShortRunEmphasis: 0.40703425472593235\n",
      "log-sigma-4-0-mm-3D_glrlm_ShortRunHighGrayLevelEmphasis: 0.8919994844072308\n",
      "log-sigma-4-0-mm-3D_glrlm_ShortRunLowGrayLevelEmphasis: 0.2857929473056078\n",
      "log-sigma-4-0-mm-3D_glszm_GrayLevelNonUniformity: 5.285714285714286\n",
      "log-sigma-4-0-mm-3D_glszm_GrayLevelNonUniformityNormalized: 0.7551020408163265\n",
      "log-sigma-4-0-mm-3D_glszm_GrayLevelVariance: 0.12244897959183673\n",
      "log-sigma-4-0-mm-3D_glszm_HighGrayLevelZoneEmphasis: 1.4285714285714286\n",
      "log-sigma-4-0-mm-3D_glszm_LargeAreaEmphasis: 949796.2857142857\n",
      "log-sigma-4-0-mm-3D_glszm_LargeAreaHighGrayLevelEmphasis: 2986539.1428571427\n",
      "log-sigma-4-0-mm-3D_glszm_LargeAreaLowGrayLevelEmphasis: 440610.5714285714\n",
      "log-sigma-4-0-mm-3D_glszm_LowGrayLevelZoneEmphasis: 0.8928571428571429\n",
      "log-sigma-4-0-mm-3D_glszm_SizeZoneNonUniformity: 1.5714285714285714\n",
      "log-sigma-4-0-mm-3D_glszm_SizeZoneNonUniformityNormalized: 0.22448979591836735\n",
      "log-sigma-4-0-mm-3D_glszm_SmallAreaEmphasis: 0.32317470857607117\n",
      "log-sigma-4-0-mm-3D_glszm_SmallAreaHighGrayLevelEmphasis: 0.32317479875607047\n",
      "log-sigma-4-0-mm-3D_glszm_SmallAreaLowGrayLevelEmphasis: 0.32317468603107136\n",
      "log-sigma-4-0-mm-3D_glszm_ZoneEntropy: 2.2359263506290312\n",
      "log-sigma-4-0-mm-3D_glszm_ZonePercentage: 0.00196078431372549\n",
      "log-sigma-4-0-mm-3D_glszm_ZoneVariance: 689696.2857142857\n",
      "log-sigma-4-0-mm-3D_ngtdm_Busyness: 260.0616297692448\n",
      "log-sigma-4-0-mm-3D_ngtdm_Coarseness: 0.002311029510748598\n",
      "log-sigma-4-0-mm-3D_ngtdm_Complexity: 0.24241321325852921\n",
      "log-sigma-4-0-mm-3D_ngtdm_Contrast: 0.05808768878713367\n",
      "log-sigma-4-0-mm-3D_ngtdm_Strength: 0.00229304482350214\n",
      "wavelet-LLH_firstorder_10Percentile: -0.056912778105339575\n",
      "wavelet-LLH_firstorder_90Percentile: 0.061496707446124246\n",
      "wavelet-LLH_firstorder_Energy: 21.201986646529754\n",
      "wavelet-LLH_firstorder_Entropy: 0.99832492928635\n",
      "wavelet-LLH_firstorder_InterquartileRange: 0.055866956840105855\n",
      "wavelet-LLH_firstorder_Kurtosis: 60.21158621231063\n",
      "wavelet-LLH_firstorder_Maximum: 0.549283378022619\n",
      "wavelet-LLH_firstorder_MeanAbsoluteDeviation: 0.044010471316177\n",
      "wavelet-LLH_firstorder_Mean: 0.0012166728646801717\n",
      "wavelet-LLH_firstorder_Median: 0.00200221454687273\n",
      "wavelet-LLH_firstorder_Minimum: -1.4386258865013088\n",
      "wavelet-LLH_firstorder_Range: 1.9879092645239278\n",
      "wavelet-LLH_firstorder_RobustMeanAbsoluteDeviation: 0.023648551762461605\n",
      "wavelet-LLH_firstorder_RootMeanSquared: 0.07706446544135524\n",
      "wavelet-LLH_firstorder_Skewness: -3.143131797134429\n",
      "wavelet-LLH_firstorder_TotalEnergy: 572.4536394563033\n",
      "wavelet-LLH_firstorder_Uniformity: 0.5011606211111895\n",
      "wavelet-LLH_firstorder_Variance: 0.005937451540902187\n",
      "wavelet-LLH_glcm_Autocorrelation: 2.3329353861984976\n",
      "wavelet-LLH_glcm_ClusterProminence: 0.5147262965011477\n",
      "wavelet-LLH_glcm_ClusterShade: -0.027558631565879902\n",
      "wavelet-LLH_glcm_ClusterTendency: 0.5144014048418751\n",
      "wavelet-LLH_glcm_Contrast: 0.4831229741456735\n",
      "wavelet-LLH_glcm_Correlation: 0.03138708258990063\n",
      "wavelet-LLH_glcm_DifferenceAverage: 0.4831229741456735\n",
      "wavelet-LLH_glcm_DifferenceEntropy: 0.9702142086943226\n",
      "wavelet-LLH_glcm_DifferenceVariance: 0.23987459067118228\n",
      "wavelet-LLH_glcm_Id: 0.7584385129271631\n",
      "wavelet-LLH_glcm_Idm: 0.7584385129271631\n",
      "wavelet-LLH_glcm_Idmn: 0.9033754051708652\n",
      "wavelet-LLH_glcm_Idn: 0.8389590086181088\n",
      "wavelet-LLH_glcm_Imc1: -0.02981203453952928\n",
      "wavelet-LLH_glcm_Imc2: 0.19094771938983657\n",
      "wavelet-LLH_glcm_InverseVariance: 0.4831229741456735\n",
      "wavelet-LLH_glcm_JointAverage: 1.5248322910904446\n",
      "wavelet-LLH_glcm_JointEnergy: 0.26136321983504335\n",
      "wavelet-LLH_glcm_JointEntropy: 1.9666728954495076\n",
      "wavelet-LLH_glcm_MCC: 0.16243126942943467\n",
      "wavelet-LLH_glcm_MaximumProbability: 0.29907794218380734\n",
      "wavelet-LLH_glcm_SumAverage: 3.049664582180889\n",
      "wavelet-LLH_glcm_SumEntropy: 1.4835499213038343\n",
      "wavelet-LLH_glcm_SumSquares: 0.24938109474688716\n",
      "wavelet-LLH_gldm_DependenceEntropy: 4.9592092325271295\n",
      "wavelet-LLH_gldm_DependenceNonUniformity: 255.41512605042016\n",
      "wavelet-LLH_gldm_DependenceNonUniformityNormalized: 0.0715448532354118\n",
      "wavelet-LLH_gldm_DependenceVariance: 14.816265015810245\n",
      "wavelet-LLH_gldm_GrayLevelNonUniformity: 1789.1434173669468\n",
      "wavelet-LLH_gldm_GrayLevelVariance: 0.2494196894444052\n",
      "wavelet-LLH_gldm_HighGrayLevelEmphasis: 2.5722689075630254\n",
      "wavelet-LLH_gldm_LargeDependenceEmphasis: 169.09075630252102\n",
      "wavelet-LLH_gldm_LargeDependenceHighGrayLevelEmphasis: 455.15546218487395\n",
      "wavelet-LLH_gldm_LargeDependenceLowGrayLevelEmphasis: 97.57457983193277\n",
      "wavelet-LLH_gldm_LowGrayLevelEmphasis: 0.6069327731092437\n",
      "wavelet-LLH_gldm_SmallDependenceEmphasis: 0.009894146592776555\n",
      "wavelet-LLH_gldm_SmallDependenceHighGrayLevelEmphasis: 0.02365389355077255\n",
      "wavelet-LLH_gldm_SmallDependenceLowGrayLevelEmphasis: 0.006454209853277554\n",
      "wavelet-LLH_glrlm_GrayLevelNonUniformity: 1001.0659559259985\n",
      "wavelet-LLH_glrlm_GrayLevelNonUniformityNormalized: 0.5000685502955701\n",
      "wavelet-LLH_glrlm_GrayLevelVariance: 0.24996572485221497\n",
      "wavelet-LLH_glrlm_HighGrayLevelRunEmphasis: 2.5154232330367776\n",
      "wavelet-LLH_glrlm_LongRunEmphasis: 5.002790884215975\n",
      "wavelet-LLH_glrlm_LongRunHighGrayLevelEmphasis: 13.172962715086031\n",
      "wavelet-LLH_glrlm_LongRunLowGrayLevelEmphasis: 2.9602479264984627\n",
      "wavelet-LLH_glrlm_LowGrayLevelRunEmphasis: 0.6211441917408056\n",
      "wavelet-LLH_glrlm_RunEntropy: 2.7641601352951044\n",
      "wavelet-LLH_glrlm_RunLengthNonUniformity: 800.1499950283808\n",
      "wavelet-LLH_glrlm_RunLengthNonUniformityNormalized: 0.3870748415256614\n",
      "wavelet-LLH_glrlm_RunPercentage: 0.560741219564749\n",
      "wavelet-LLH_glrlm_RunVariance: 1.4946766758776602\n",
      "wavelet-LLH_glrlm_ShortRunEmphasis: 0.6220062651173185\n",
      "wavelet-LLH_glrlm_ShortRunHighGrayLevelEmphasis: 1.5316950905197975\n",
      "wavelet-LLH_glrlm_ShortRunLowGrayLevelEmphasis: 0.3945840587666987\n",
      "wavelet-LLH_glszm_GrayLevelNonUniformity: 1.0\n",
      "wavelet-LLH_glszm_GrayLevelNonUniformityNormalized: 0.5\n",
      "wavelet-LLH_glszm_GrayLevelVariance: 0.25\n",
      "wavelet-LLH_glszm_HighGrayLevelZoneEmphasis: 2.5\n",
      "wavelet-LLH_glszm_LargeAreaEmphasis: 3193621.0\n",
      "wavelet-LLH_glszm_LargeAreaHighGrayLevelEmphasis: 8444582.5\n",
      "wavelet-LLH_glszm_LargeAreaLowGrayLevelEmphasis: 1880880.625\n",
      "wavelet-LLH_glszm_LowGrayLevelZoneEmphasis: 0.625\n",
      "wavelet-LLH_glszm_SizeZoneNonUniformity: 1.0\n",
      "wavelet-LLH_glszm_SizeZoneNonUniformityNormalized: 0.5\n",
      "wavelet-LLH_glszm_SmallAreaEmphasis: 3.160450863661878e-07\n",
      "wavelet-LLH_glszm_SmallAreaHighGrayLevelEmphasis: 7.445380395139112e-07\n",
      "wavelet-LLH_glszm_SmallAreaLowGrayLevelEmphasis: 2.0892184807925687e-07\n",
      "wavelet-LLH_glszm_ZoneEntropy: 0.9999999999999993\n",
      "wavelet-LLH_glszm_ZonePercentage: 0.0005602240896358543\n",
      "wavelet-LLH_glszm_ZoneVariance: 7396.0\n",
      "wavelet-LLH_ngtdm_Busyness: 754.1336235202081\n",
      "wavelet-LLH_ngtdm_Coarseness: 0.0011585680542104007\n",
      "wavelet-LLH_ngtdm_Complexity: 0.48354871135961375\n",
      "wavelet-LLH_ngtdm_Contrast: 0.12061760871432647\n",
      "wavelet-LLH_ngtdm_Strength: 0.0011584620184867977\n",
      "wavelet-LHL_firstorder_10Percentile: -0.09012553976728423\n",
      "wavelet-LHL_firstorder_90Percentile: 0.10347712152127463\n",
      "wavelet-LHL_firstorder_Energy: 115.34992905168333\n",
      "wavelet-LHL_firstorder_Entropy: 0.993600741628558\n",
      "wavelet-LHL_firstorder_InterquartileRange: 0.07656162376775272\n",
      "wavelet-LHL_firstorder_Kurtosis: 49.354556351425494\n",
      "wavelet-LHL_firstorder_Maximum: 1.3426481499368124\n",
      "wavelet-LHL_firstorder_MeanAbsoluteDeviation: 0.08317374756907724\n",
      "wavelet-LHL_firstorder_Mean: 0.0008827848266678915\n",
      "wavelet-LHL_firstorder_Median: 0.005475259403692955\n",
      "wavelet-LHL_firstorder_Minimum: -2.8343436484193107\n",
      "wavelet-LHL_firstorder_Range: 4.1769917983561236\n",
      "wavelet-LHL_firstorder_RobustMeanAbsoluteDeviation: 0.033774080842422956\n",
      "wavelet-LHL_firstorder_RootMeanSquared: 0.179752342116229\n",
      "wavelet-LHL_firstorder_Skewness: -3.346443903709993\n",
      "wavelet-LHL_firstorder_TotalEnergy: 3114.4480843954498\n",
      "wavelet-LHL_firstorder_Uniformity: 0.5044290657439447\n",
      "wavelet-LHL_firstorder_Variance: 0.032310125187219645\n",
      "wavelet-LHL_glcm_Autocorrelation: 2.4256974226081045\n",
      "wavelet-LHL_glcm_ClusterProminence: 0.5229735073773312\n",
      "wavelet-LHL_glcm_ClusterShade: -0.05858105746258255\n",
      "wavelet-LHL_glcm_ClusterTendency: 0.5221810665061312\n",
      "wavelet-LHL_glcm_Contrast: 0.46652286154474265\n",
      "wavelet-LHL_glcm_Correlation: 0.05592172261723128\n",
      "wavelet-LHL_glcm_DifferenceAverage: 0.46652286154474265\n",
      "wavelet-LHL_glcm_DifferenceEntropy: 0.9572622016249885\n",
      "wavelet-LHL_glcm_DifferenceVariance: 0.23564979838357114\n",
      "wavelet-LHL_glcm_Id: 0.7667385692276286\n",
      "wavelet-LHL_glcm_Idm: 0.7667385692276286\n",
      "wavelet-LHL_glcm_Idmn: 0.9066954276910515\n",
      "wavelet-LHL_glcm_Idn: 0.8444923794850857\n",
      "wavelet-LHL_glcm_Imc1: -0.04316489645768708\n",
      "wavelet-LHL_glcm_Imc2: 0.21781843734164325\n",
      "wavelet-LHL_glcm_InverseVariance: 0.46652286154474265\n",
      "wavelet-LHL_glcm_JointAverage: 1.5529862844601585\n",
      "wavelet-LHL_glcm_JointEnergy: 0.26999823759099195\n",
      "wavelet-LHL_glcm_JointEntropy: 1.9407994621165967\n",
      "wavelet-LHL_glcm_MCC: 0.18749112996058528\n",
      "wavelet-LHL_glcm_MaximumProbability: 0.3222220382346217\n",
      "wavelet-LHL_glcm_SumAverage: 3.105972568920317\n",
      "wavelet-LHL_glcm_SumEntropy: 1.4742766005718542\n",
      "wavelet-LHL_glcm_SumSquares: 0.24717598201271848\n",
      "wavelet-LHL_gldm_DependenceEntropy: 5.034184000947476\n",
      "wavelet-LHL_gldm_DependenceNonUniformity: 234.30980392156863\n",
      "wavelet-LHL_gldm_DependenceNonUniformityNormalized: 0.06563299829735816\n",
      "wavelet-LHL_gldm_DependenceVariance: 17.99355506908646\n",
      "wavelet-LHL_gldm_GrayLevelNonUniformity: 1800.8117647058823\n",
      "wavelet-LHL_gldm_GrayLevelVariance: 0.24778546712802768\n",
      "wavelet-LHL_gldm_HighGrayLevelEmphasis: 2.6411764705882352\n",
      "wavelet-LHL_gldm_LargeDependenceEmphasis: 182.86778711484592\n",
      "wavelet-LHL_gldm_LargeDependenceHighGrayLevelEmphasis: 532.9156862745098\n",
      "wavelet-LHL_gldm_LargeDependenceLowGrayLevelEmphasis: 95.35581232492997\n",
      "wavelet-LHL_gldm_LowGrayLevelEmphasis: 0.5897058823529412\n",
      "wavelet-LHL_gldm_SmallDependenceEmphasis: 0.009655060466497722\n",
      "wavelet-LHL_gldm_SmallDependenceHighGrayLevelEmphasis: 0.02230936147504864\n",
      "wavelet-LHL_gldm_SmallDependenceLowGrayLevelEmphasis: 0.006491485214359996\n",
      "wavelet-LHL_glrlm_GrayLevelNonUniformity: 972.3415830859981\n",
      "wavelet-LHL_glrlm_GrayLevelNonUniformityNormalized: 0.5001499454500681\n",
      "wavelet-LHL_glrlm_GrayLevelVariance: 0.24992502727496596\n",
      "wavelet-LHL_glrlm_HighGrayLevelRunEmphasis: 2.5152239827068064\n",
      "wavelet-LHL_glrlm_LongRunEmphasis: 5.914476334380878\n",
      "wavelet-LHL_glrlm_LongRunHighGrayLevelEmphasis: 16.600868660752717\n",
      "wavelet-LHL_glrlm_LongRunLowGrayLevelEmphasis: 3.2428782527879187\n",
      "wavelet-LHL_glrlm_LowGrayLevelRunEmphasis: 0.6211940043232984\n",
      "wavelet-LHL_glrlm_RunEntropy: 2.8240771680850068\n",
      "wavelet-LHL_glrlm_RunLengthNonUniformity: 768.096696369792\n",
      "wavelet-LHL_glrlm_RunLengthNonUniformityNormalized: 0.3747157042537553\n",
      "wavelet-LHL_glrlm_RunPercentage: 0.5446024563671622\n",
      "wavelet-LHL_glrlm_RunVariance: 1.8518479918723594\n",
      "wavelet-LHL_glrlm_ShortRunEmphasis: 0.6039361296626584\n",
      "wavelet-LHL_glrlm_ShortRunHighGrayLevelEmphasis: 1.447843778353106\n",
      "wavelet-LHL_glrlm_ShortRunLowGrayLevelEmphasis: 0.39295921749004675\n",
      "wavelet-LHL_glszm_GrayLevelNonUniformity: 1.6666666666666667\n",
      "wavelet-LHL_glszm_GrayLevelNonUniformityNormalized: 0.5555555555555556\n",
      "wavelet-LHL_glszm_GrayLevelVariance: 0.2222222222222222\n",
      "wavelet-LHL_glszm_HighGrayLevelZoneEmphasis: 3.0\n",
      "wavelet-LHL_glszm_LargeAreaEmphasis: 2130012.6666666665\n",
      "wavelet-LHL_glszm_LargeAreaHighGrayLevelEmphasis: 5905361.666666667\n",
      "wavelet-LHL_glszm_LargeAreaLowGrayLevelEmphasis: 1186175.4166666667\n",
      "wavelet-LHL_glszm_LowGrayLevelZoneEmphasis: 0.5\n",
      "wavelet-LHL_glszm_SizeZoneNonUniformity: 1.0\n",
      "wavelet-LHL_glszm_SizeZoneNonUniformityNormalized: 0.3333333333333333\n",
      "wavelet-LHL_glszm_SmallAreaEmphasis: 0.0033335491126177848\n",
      "wavelet-LHL_glszm_SmallAreaHighGrayLevelEmphasis: 0.01333381399580827\n",
      "wavelet-LHL_glszm_SmallAreaLowGrayLevelEmphasis: 0.0008334828918201633\n",
      "wavelet-LHL_glszm_ZoneEntropy: 1.5849625007211552\n",
      "wavelet-LHL_glszm_ZonePercentage: 0.0008403361344537816\n",
      "wavelet-LHL_glszm_ZoneVariance: 713912.6666666666\n",
      "wavelet-LHL_ngtdm_Busyness: 645.7523779904961\n",
      "wavelet-LHL_ngtdm_Coarseness: 0.0012076092018246422\n",
      "wavelet-LHL_ngtdm_Complexity: 0.46391174296236015\n",
      "wavelet-LHL_ngtdm_Contrast: 0.11505603762988686\n",
      "wavelet-LHL_ngtdm_Strength: 0.001206502419224071\n",
      "wavelet-LHH_firstorder_10Percentile: -0.05711707689609906\n",
      "wavelet-LHH_firstorder_90Percentile: 0.05264630913759373\n",
      "wavelet-LHH_firstorder_Energy: 17.960050216287602\n",
      "wavelet-LHH_firstorder_Entropy: 0.9999773603153019\n",
      "wavelet-LHH_firstorder_InterquartileRange: 0.050210674987689496\n",
      "wavelet-LHH_firstorder_Kurtosis: 34.716153100604984\n",
      "wavelet-LHH_firstorder_Maximum: 0.8607509741576771\n",
      "wavelet-LHH_firstorder_MeanAbsoluteDeviation: 0.0401337113719855\n",
      "wavelet-LHH_firstorder_Mean: -0.0015071723275715168\n",
      "wavelet-LHH_firstorder_Median: 0.00014998800435268004\n",
      "wavelet-LHH_firstorder_Minimum: -0.8236774683121362\n",
      "wavelet-LHH_firstorder_Range: 1.6844284424698133\n",
      "wavelet-LHH_firstorder_RobustMeanAbsoluteDeviation: 0.021371111254242302\n",
      "wavelet-LHH_firstorder_RootMeanSquared: 0.07092831868243442\n",
      "wavelet-LHH_firstorder_Skewness: -0.6939597557343433\n",
      "wavelet-LHH_firstorder_TotalEnergy: 484.9213558397652\n",
      "wavelet-LHH_firstorder_Uniformity: 0.5000156925515304\n",
      "wavelet-LHH_firstorder_Variance: 0.005028554822691977\n",
      "wavelet-LHH_glcm_Autocorrelation: 2.25196186676618\n",
      "wavelet-LHH_glcm_ClusterProminence: 0.48836863788657614\n",
      "wavelet-LHH_glcm_ClusterShade: -0.0017436083672553193\n",
      "wavelet-LHH_glcm_ClusterTendency: 0.4883806115636211\n",
      "wavelet-LHH_glcm_Contrast: 0.5115735790063766\n",
      "wavelet-LHH_glcm_Correlation: -0.02319695893122583\n",
      "wavelet-LHH_glcm_DifferenceAverage: 0.5115735790063766\n",
      "wavelet-LHH_glcm_DifferenceEntropy: 0.9692993415004303\n",
      "wavelet-LHH_glcm_DifferenceVariance: 0.23951447461509426\n",
      "wavelet-LHH_glcm_Id: 0.7442132104968116\n",
      "wavelet-LHH_glcm_Idm: 0.7442132104968116\n",
      "wavelet-LHH_glcm_Idmn: 0.8976852841987247\n",
      "wavelet-LHH_glcm_Idn: 0.8294754736645411\n",
      "wavelet-LHH_glcm_Imc1: -0.030711134530446264\n",
      "wavelet-LHH_glcm_Imc2: 0.21211719983439167\n",
      "wavelet-LHH_glcm_InverseVariance: 0.5115735790063766\n",
      "wavelet-LHH_glcm_JointAverage: 1.5025828854231225\n",
      "wavelet-LHH_glcm_JointEnergy: 0.260508430099907\n",
      "wavelet-LHH_glcm_JointEntropy: 1.9692237904669336\n",
      "wavelet-LHH_glcm_MCC: 0.17976083522387398\n",
      "wavelet-LHH_glcm_MaximumProbability: 0.2962622082451625\n",
      "wavelet-LHH_glcm_SumAverage: 3.0051657708462454\n",
      "wavelet-LHH_glcm_SumEntropy: 1.4576502114605576\n",
      "wavelet-LHH_glcm_SumSquares: 0.2499885476424994\n",
      "wavelet-LHH_gldm_DependenceEntropy: 4.528140509022222\n",
      "wavelet-LHH_gldm_DependenceNonUniformity: 351.5204481792717\n",
      "wavelet-LHH_gldm_DependenceNonUniformityNormalized: 0.09846511153481\n",
      "wavelet-LHH_gldm_DependenceVariance: 8.469386499697917\n",
      "wavelet-LHH_gldm_GrayLevelNonUniformity: 1785.0560224089636\n",
      "wavelet-LHH_gldm_GrayLevelVariance: 0.2499921537242348\n",
      "wavelet-LHH_gldm_HighGrayLevelEmphasis: 2.508403361344538\n",
      "wavelet-LHH_gldm_LargeDependenceEmphasis: 146.78543417366947\n",
      "wavelet-LHH_gldm_LargeDependenceHighGrayLevelEmphasis: 369.87871148459385\n",
      "wavelet-LHH_gldm_LargeDependenceLowGrayLevelEmphasis: 91.01211484593837\n",
      "wavelet-LHH_gldm_LowGrayLevelEmphasis: 0.6228991596638656\n",
      "wavelet-LHH_gldm_SmallDependenceEmphasis: 0.009534626400639599\n",
      "wavelet-LHH_gldm_SmallDependenceHighGrayLevelEmphasis: 0.02355624613736652\n",
      "wavelet-LHH_gldm_SmallDependenceLowGrayLevelEmphasis: 0.0060292214664578675\n",
      "wavelet-LHH_glrlm_GrayLevelNonUniformity: 1046.2836855520802\n",
      "wavelet-LHH_glrlm_GrayLevelNonUniformityNormalized: 0.5000294530985998\n",
      "wavelet-LHH_glrlm_GrayLevelVariance: 0.2499852734507001\n",
      "wavelet-LHH_glrlm_HighGrayLevelRunEmphasis: 2.503992452461508\n",
      "wavelet-LHH_glrlm_LongRunEmphasis: 4.336479749660485\n",
      "wavelet-LHH_glrlm_LongRunHighGrayLevelEmphasis: 10.88060504639815\n",
      "wavelet-LHH_glrlm_LongRunLowGrayLevelEmphasis: 2.7004484254760692\n",
      "wavelet-LHH_glrlm_LowGrayLevelRunEmphasis: 0.624001886884623\n",
      "wavelet-LHH_glrlm_RunEntropy: 2.6661357971903596\n",
      "wavelet-LHH_glrlm_RunLengthNonUniformity: 878.5086976309855\n",
      "wavelet-LHH_glrlm_RunLengthNonUniformityNormalized: 0.408622849673937\n",
      "wavelet-LHH_glrlm_RunPercentage: 0.5861236802413272\n",
      "wavelet-LHH_glrlm_RunVariance: 1.2074831936116366\n",
      "wavelet-LHH_glrlm_ShortRunEmphasis: 0.6442426693469652\n",
      "wavelet-LHH_glrlm_ShortRunHighGrayLevelEmphasis: 1.608583590607971\n",
      "wavelet-LHH_glrlm_ShortRunLowGrayLevelEmphasis: 0.40315743903171364\n",
      "wavelet-LHH_glszm_GrayLevelNonUniformity: 1.0\n",
      "wavelet-LHH_glszm_GrayLevelNonUniformityNormalized: 0.5\n",
      "wavelet-LHH_glszm_GrayLevelVariance: 0.25\n",
      "wavelet-LHH_glszm_HighGrayLevelZoneEmphasis: 2.5\n",
      "wavelet-LHH_glszm_LargeAreaEmphasis: 3186325.0\n",
      "wavelet-LHH_glszm_LargeAreaHighGrayLevelEmphasis: 8019362.5\n",
      "wavelet-LHH_glszm_LargeAreaLowGrayLevelEmphasis: 1978065.625\n",
      "wavelet-LHH_glszm_LowGrayLevelZoneEmphasis: 0.625\n",
      "wavelet-LHH_glszm_SizeZoneNonUniformity: 1.0\n",
      "wavelet-LHH_glszm_SizeZoneNonUniformityNormalized: 0.5\n",
      "wavelet-LHH_glszm_SmallAreaEmphasis: 3.138805828949689e-07\n",
      "wavelet-LHH_glszm_SmallAreaHighGrayLevelEmphasis: 7.794263188839821e-07\n",
      "wavelet-LHH_glszm_SmallAreaLowGrayLevelEmphasis: 1.9749414889771566e-07\n",
      "wavelet-LHH_glszm_ZoneEntropy: 0.9999999999999993\n",
      "wavelet-LHH_glszm_ZonePercentage: 0.0005602240896358543\n",
      "wavelet-LHH_glszm_ZoneVariance: 100.0\n",
      "wavelet-LHH_ngtdm_Busyness: 900.3634190069045\n",
      "wavelet-LHH_ngtdm_Coarseness: 0.0010923045668213933\n",
      "wavelet-LHH_ngtdm_Complexity: 0.5128826763638887\n",
      "wavelet-LHH_ngtdm_Contrast: 0.12821716745877684\n",
      "wavelet-LHH_ngtdm_Strength: 0.0010923001148133618\n",
      "wavelet-HLL_firstorder_10Percentile: -0.10818069850029767\n",
      "wavelet-HLL_firstorder_90Percentile: 0.11040312419792457\n",
      "wavelet-HLL_firstorder_Energy: 150.87522340789724\n",
      "wavelet-HLL_firstorder_Entropy: 0.9971582264386649\n",
      "wavelet-HLL_firstorder_InterquartileRange: 0.08010808151955076\n",
      "wavelet-HLL_firstorder_Kurtosis: 62.67953351169087\n",
      "wavelet-HLL_firstorder_Maximum: 1.3755036082213725\n",
      "wavelet-HLL_firstorder_MeanAbsoluteDeviation: 0.09083750768511309\n",
      "wavelet-HLL_firstorder_Mean: -0.003494984370608127\n",
      "wavelet-HLL_firstorder_Median: 0.005022283972959309\n",
      "wavelet-HLL_firstorder_Minimum: -3.095749000149794\n",
      "wavelet-HLL_firstorder_Range: 4.471252608371167\n",
      "wavelet-HLL_firstorder_RobustMeanAbsoluteDeviation: 0.035909729953181584\n",
      "wavelet-HLL_firstorder_RootMeanSquared: 0.20557715666179374\n",
      "wavelet-HLL_firstorder_Skewness: -4.617579397623225\n",
      "wavelet-HLL_firstorder_TotalEnergy: 4073.631032013225\n",
      "wavelet-HLL_firstorder_Uniformity: 0.5019684736639753\n",
      "wavelet-HLL_firstorder_Variance: 0.04224975242539689\n",
      "wavelet-HLL_glcm_Autocorrelation: 2.377480350228886\n",
      "wavelet-HLL_glcm_ClusterProminence: 0.5179184250950796\n",
      "wavelet-HLL_glcm_ClusterShade: -0.041224277406645124\n",
      "wavelet-HLL_glcm_ClusterTendency: 0.5177448308592381\n",
      "wavelet-HLL_glcm_Contrast: 0.4762678700480022\n",
      "wavelet-HLL_glcm_Correlation: 0.04153410621125943\n",
      "wavelet-HLL_glcm_DifferenceAverage: 0.4762678700480022\n",
      "wavelet-HLL_glcm_DifferenceEntropy: 0.9648170678145565\n",
      "wavelet-HLL_glcm_DifferenceVariance: 0.2381466938855666\n",
      "wavelet-HLL_glcm_Id: 0.7618660649759987\n",
      "wavelet-HLL_glcm_Idm: 0.7618660649759987\n",
      "wavelet-HLL_glcm_Idmn: 0.9047464259903997\n",
      "wavelet-HLL_glcm_Idn: 0.8412440433173326\n",
      "wavelet-HLL_glcm_Imc1: -0.0354897807487337\n",
      "wavelet-HLL_glcm_Imc2: 0.19896984217108601\n",
      "wavelet-HLL_glcm_InverseVariance: 0.4762678700480022\n",
      "wavelet-HLL_glcm_JointAverage: 1.5385380950842953\n",
      "wavelet-HLL_glcm_JointEnergy: 0.2648469556608133\n",
      "wavelet-HLL_glcm_JointEntropy: 1.9559941683239614\n",
      "wavelet-HLL_glcm_MCC: 0.17037416527804636\n",
      "wavelet-HLL_glcm_MaximumProbability: 0.3075320139368894\n",
      "wavelet-HLL_glcm_SumAverage: 3.0770761901685906\n",
      "wavelet-HLL_glcm_SumEntropy: 1.4797262982759598\n",
      "wavelet-HLL_glcm_SumSquares: 0.24850317522681004\n",
      "wavelet-HLL_gldm_DependenceEntropy: 4.965811207412676\n",
      "wavelet-HLL_gldm_DependenceNonUniformity: 253.6515406162465\n",
      "wavelet-HLL_gldm_DependenceNonUniformityNormalized: 0.07105085171323432\n",
      "wavelet-HLL_gldm_DependenceVariance: 15.777597627286207\n",
      "wavelet-HLL_gldm_GrayLevelNonUniformity: 1792.0274509803921\n",
      "wavelet-HLL_gldm_GrayLevelVariance: 0.2490157631680123\n",
      "wavelet-HLL_gldm_HighGrayLevelEmphasis: 2.5941176470588236\n",
      "wavelet-HLL_gldm_LargeDependenceEmphasis: 175.1310924369748\n",
      "wavelet-HLL_gldm_LargeDependenceHighGrayLevelEmphasis: 494.60420168067225\n",
      "wavelet-HLL_gldm_LargeDependenceLowGrayLevelEmphasis: 95.26281512605043\n",
      "wavelet-HLL_gldm_LowGrayLevelEmphasis: 0.6014705882352941\n",
      "wavelet-HLL_gldm_SmallDependenceEmphasis: 0.009843168118229152\n",
      "wavelet-HLL_gldm_SmallDependenceHighGrayLevelEmphasis: 0.02305148968192731\n",
      "wavelet-HLL_gldm_SmallDependenceLowGrayLevelEmphasis: 0.006541087727304612\n",
      "wavelet-HLL_glrlm_GrayLevelNonUniformity: 987.1124747091903\n",
      "wavelet-HLL_glrlm_GrayLevelNonUniformityNormalized: 0.5000518730205294\n",
      "wavelet-HLL_glrlm_GrayLevelVariance: 0.24997406348973528\n",
      "wavelet-HLL_glrlm_HighGrayLevelRunEmphasis: 2.49429014378336\n",
      "wavelet-HLL_glrlm_LongRunEmphasis: 5.578825068817036\n",
      "wavelet-HLL_glrlm_LongRunHighGrayLevelEmphasis: 15.297026786064608\n",
      "wavelet-HLL_glrlm_LongRunLowGrayLevelEmphasis: 3.1492746395051423\n",
      "wavelet-HLL_glrlm_LowGrayLevelRunEmphasis: 0.62642746405416\n",
      "wavelet-HLL_glrlm_RunEntropy: 2.792164461592083\n",
      "wavelet-HLL_glrlm_RunLengthNonUniformity: 786.817679927554\n",
      "wavelet-HLL_glrlm_RunLengthNonUniformityNormalized: 0.381269971085008\n",
      "wavelet-HLL_glrlm_RunPercentage: 0.5529411764705883\n",
      "wavelet-HLL_glrlm_RunVariance: 1.7220099396720214\n",
      "wavelet-HLL_glrlm_ShortRunEmphasis: 0.6115779148770767\n",
      "wavelet-HLL_glrlm_ShortRunHighGrayLevelEmphasis: 1.4746404397940747\n",
      "wavelet-HLL_glrlm_ShortRunLowGrayLevelEmphasis: 0.3958122836478273\n",
      "wavelet-HLL_glszm_GrayLevelNonUniformity: 1.6666666666666667\n",
      "wavelet-HLL_glszm_GrayLevelNonUniformityNormalized: 0.5555555555555556\n",
      "wavelet-HLL_glszm_GrayLevelVariance: 0.2222222222222222\n",
      "wavelet-HLL_glszm_HighGrayLevelZoneEmphasis: 2.0\n",
      "wavelet-HLL_glszm_LargeAreaEmphasis: 2130284.6666666665\n",
      "wavelet-HLL_glszm_LargeAreaHighGrayLevelEmphasis: 5728893.666666667\n",
      "wavelet-HLL_glszm_LargeAreaLowGrayLevelEmphasis: 1230632.4166666667\n",
      "wavelet-HLL_glszm_LowGrayLevelZoneEmphasis: 0.75\n",
      "wavelet-HLL_glszm_SizeZoneNonUniformity: 1.0\n",
      "wavelet-HLL_glszm_SizeZoneNonUniformityNormalized: 0.3333333333333333\n",
      "wavelet-HLL_glszm_SmallAreaEmphasis: 0.08333354534014169\n",
      "wavelet-HLL_glszm_SmallAreaHighGrayLevelEmphasis: 0.0833338232252912\n",
      "wavelet-HLL_glszm_SmallAreaLowGrayLevelEmphasis: 0.08333347586885431\n",
      "wavelet-HLL_glszm_ZoneEntropy: 1.5849625007211552\n",
      "wavelet-HLL_glszm_ZonePercentage: 0.0008403361344537816\n",
      "wavelet-HLL_glszm_ZoneVariance: 714184.6666666667\n",
      "wavelet-HLL_ngtdm_Busyness: 709.8063296703205\n",
      "wavelet-HLL_ngtdm_Coarseness: 0.001185653217275094\n",
      "wavelet-HLL_ngtdm_Complexity: 0.47250248341870077\n",
      "wavelet-HLL_ngtdm_Contrast: 0.11773923557113043\n",
      "wavelet-HLL_ngtdm_Strength: 0.001184861007030214\n",
      "wavelet-HLH_firstorder_10Percentile: -0.05927331757922222\n",
      "wavelet-HLH_firstorder_90Percentile: 0.06145161908854167\n",
      "wavelet-HLH_firstorder_Energy: 30.663641448382712\n",
      "wavelet-HLH_firstorder_Entropy: 0.9999889065840923\n",
      "wavelet-HLH_firstorder_InterquartileRange: 0.051244790398936466\n",
      "wavelet-HLH_firstorder_Kurtosis: 41.799810042235215\n",
      "wavelet-HLH_firstorder_Maximum: 1.2099749210056852\n",
      "wavelet-HLH_firstorder_MeanAbsoluteDeviation: 0.04780732490872545\n",
      "wavelet-HLH_firstorder_Mean: 0.00047845452391691567\n",
      "wavelet-HLH_firstorder_Median: 0.0001570996830027202\n",
      "wavelet-HLH_firstorder_Minimum: -1.104518102862065\n",
      "wavelet-HLH_firstorder_Range: 2.31449302386775\n",
      "wavelet-HLH_firstorder_RobustMeanAbsoluteDeviation: 0.022397143017962275\n",
      "wavelet-HLH_firstorder_RootMeanSquared: 0.09267823535043289\n",
      "wavelet-HLH_firstorder_Skewness: 0.4229204456671058\n",
      "wavelet-HLH_firstorder_TotalEnergy: 827.9183191063332\n",
      "wavelet-HLH_firstorder_Uniformity: 0.5000076893502499\n",
      "wavelet-HLH_firstorder_Variance: 0.008589026388938771\n",
      "wavelet-HLH_glcm_Autocorrelation: 2.251379614161741\n",
      "wavelet-HLH_glcm_ClusterProminence: 0.48748209410972654\n",
      "wavelet-HLH_glcm_ClusterShade: -0.002248797405569152\n",
      "wavelet-HLH_glcm_ClusterTendency: 0.48748597358523865\n",
      "wavelet-HLH_glcm_Contrast: 0.5124777595674945\n",
      "wavelet-HLH_glcm_Correlation: -0.024993079162409233\n",
      "wavelet-HLH_glcm_DifferenceAverage: 0.5124777595674945\n",
      "wavelet-HLH_glcm_DifferenceEntropy: 0.9726327537391639\n",
      "wavelet-HLH_glcm_DifferenceVariance: 0.24064950330230406\n",
      "wavelet-HLH_glcm_Id: 0.7437611202162527\n",
      "wavelet-HLH_glcm_Idm: 0.7437611202162527\n",
      "wavelet-HLH_glcm_Idmn: 0.8975044480865011\n",
      "wavelet-HLH_glcm_Idn: 0.8291740801441685\n",
      "wavelet-HLH_glcm_Imc1: -0.027372603870919478\n",
      "wavelet-HLH_glcm_Imc2: 0.19529954988781573\n",
      "wavelet-HLH_glcm_InverseVariance: 0.5124777595674945\n",
      "wavelet-HLH_glcm_JointAverage: 1.5025394979818298\n",
      "wavelet-HLH_glcm_JointEnergy: 0.2593686301213294\n",
      "wavelet-HLH_glcm_JointEntropy: 1.9725758800562072\n",
      "wavelet-HLH_glcm_MCC: 0.16537563040022257\n",
      "wavelet-HLH_glcm_MaximumProbability: 0.2926369406506089\n",
      "wavelet-HLH_glcm_SumAverage: 3.0050789959636592\n",
      "wavelet-HLH_glcm_SumEntropy: 1.4600981204887138\n",
      "wavelet-HLH_glcm_SumSquares: 0.24999093328818325\n",
      "wavelet-HLH_gldm_DependenceEntropy: 4.511902942271359\n",
      "wavelet-HLH_gldm_DependenceNonUniformity: 356.3641456582633\n",
      "wavelet-HLH_gldm_DependenceNonUniformityNormalized: 0.09982188954012977\n",
      "wavelet-HLH_gldm_DependenceVariance: 8.30056540263164\n",
      "wavelet-HLH_gldm_GrayLevelNonUniformity: 1785.0274509803921\n",
      "wavelet-HLH_gldm_GrayLevelVariance: 0.249996155324875\n",
      "wavelet-HLH_gldm_HighGrayLevelEmphasis: 2.5058823529411764\n",
      "wavelet-HLH_gldm_LargeDependenceEmphasis: 146.23473389355743\n",
      "wavelet-HLH_gldm_LargeDependenceHighGrayLevelEmphasis: 369.5204481792717\n",
      "wavelet-HLH_gldm_LargeDependenceLowGrayLevelEmphasis: 90.41330532212885\n",
      "wavelet-HLH_gldm_LowGrayLevelEmphasis: 0.6235294117647059\n",
      "wavelet-HLH_gldm_SmallDependenceEmphasis: 0.00942597767603959\n",
      "wavelet-HLH_gldm_SmallDependenceHighGrayLevelEmphasis: 0.02370331408361924\n",
      "wavelet-HLH_gldm_SmallDependenceLowGrayLevelEmphasis: 0.005856643574144679\n",
      "wavelet-HLH_glrlm_GrayLevelNonUniformity: 1047.370882424584\n",
      "wavelet-HLH_glrlm_GrayLevelNonUniformityNormalized: 0.5000123972712771\n",
      "wavelet-HLH_glrlm_GrayLevelVariance: 0.2499938013643614\n",
      "wavelet-HLH_glrlm_HighGrayLevelRunEmphasis: 2.498976514916779\n",
      "wavelet-HLH_glrlm_LongRunEmphasis: 4.284845280964574\n",
      "wavelet-HLH_glrlm_LongRunHighGrayLevelEmphasis: 10.810229320297701\n",
      "wavelet-HLH_glrlm_LongRunLowGrayLevelEmphasis: 2.6534992711312926\n",
      "wavelet-HLH_glrlm_LowGrayLevelRunEmphasis: 0.6252558712708053\n",
      "wavelet-HLH_glrlm_RunEntropy: 2.6629922725811137\n",
      "wavelet-HLH_glrlm_RunLengthNonUniformity: 875.4574671743699\n",
      "wavelet-HLH_glrlm_RunLengthNonUniformityNormalized: 0.4076473713749654\n",
      "wavelet-HLH_glrlm_RunPercentage: 0.5867485455720751\n",
      "wavelet-HLH_glrlm_RunVariance: 1.186938574394375\n",
      "wavelet-HLH_glrlm_ShortRunEmphasis: 0.6436412459283839\n",
      "wavelet-HLH_glrlm_ShortRunHighGrayLevelEmphasis: 1.6060831978327101\n",
      "wavelet-HLH_glrlm_ShortRunLowGrayLevelEmphasis: 0.40303075795230237\n",
      "wavelet-HLH_glszm_GrayLevelNonUniformity: 1.0\n",
      "wavelet-HLH_glszm_GrayLevelNonUniformityNormalized: 0.5\n",
      "wavelet-HLH_glszm_GrayLevelVariance: 0.25\n",
      "wavelet-HLH_glszm_HighGrayLevelZoneEmphasis: 2.5\n",
      "wavelet-HLH_glszm_LargeAreaEmphasis: 3186274.0\n",
      "wavelet-HLH_glszm_LargeAreaHighGrayLevelEmphasis: 8003170.0\n",
      "wavelet-HLH_glszm_LargeAreaLowGrayLevelEmphasis: 1982050.0\n",
      "wavelet-HLH_glszm_LowGrayLevelZoneEmphasis: 0.625\n",
      "wavelet-HLH_glszm_SizeZoneNonUniformity: 1.0\n",
      "wavelet-HLH_glszm_SizeZoneNonUniformityNormalized: 0.5\n",
      "wavelet-HLH_glszm_SmallAreaEmphasis: 3.1386551084246935e-07\n",
      "wavelet-HLH_glszm_SmallAreaHighGrayLevelEmphasis: 7.809712984700204e-07\n",
      "wavelet-HLH_glszm_SmallAreaLowGrayLevelEmphasis: 1.9708906393558163e-07\n",
      "wavelet-HLH_glszm_ZoneEntropy: 0.9999999999999993\n",
      "wavelet-HLH_glszm_ZonePercentage: 0.0005602240896358543\n",
      "wavelet-HLH_glszm_ZoneVariance: 49.0\n",
      "wavelet-HLH_ngtdm_Busyness: 906.5591467460312\n",
      "wavelet-HLH_ngtdm_Coarseness: 0.0010902455692724307\n",
      "wavelet-HLH_ngtdm_Complexity: 0.5138512876596386\n",
      "wavelet-HLH_ngtdm_Contrast: 0.12846074210865827\n",
      "wavelet-HLH_ngtdm_Strength: 0.0010902464537444249\n",
      "wavelet-HHL_firstorder_10Percentile: -0.08124985799914632\n",
      "wavelet-HHL_firstorder_90Percentile: 0.08733480261701551\n",
      "wavelet-HHL_firstorder_Energy: 107.82725932123358\n",
      "wavelet-HHL_firstorder_Entropy: 0.9997824228300852\n",
      "wavelet-HHL_firstorder_InterquartileRange: 0.06687619280871569\n",
      "wavelet-HHL_firstorder_Kurtosis: 36.43778078453805\n",
      "wavelet-HHL_firstorder_Maximum: 2.3451004060895126\n",
      "wavelet-HHL_firstorder_MeanAbsoluteDeviation: 0.07736670846402685\n",
      "wavelet-HHL_firstorder_Mean: -0.002314694505854197\n",
      "wavelet-HHL_firstorder_Median: -0.0007384528151320345\n",
      "wavelet-HHL_firstorder_Minimum: -1.4772038928021427\n",
      "wavelet-HHL_firstorder_Range: 3.8223042988916553\n",
      "wavelet-HHL_firstorder_RobustMeanAbsoluteDeviation: 0.029532016956294847\n",
      "wavelet-HHL_firstorder_RootMeanSquared: 0.17379215775052578\n",
      "wavelet-HHL_firstorder_Skewness: 0.5375170342521017\n",
      "wavelet-HHL_firstorder_TotalEnergy: 2911.336001673307\n",
      "wavelet-HHL_firstorder_Uniformity: 0.5001508054202073\n",
      "wavelet-HHL_firstorder_Variance: 0.03019835628492821\n",
      "wavelet-HHL_glcm_Autocorrelation: 2.214503189285945\n",
      "wavelet-HHL_glcm_ClusterProminence: 0.49500844692364987\n",
      "wavelet-HHL_glcm_ClusterShade: 0.011361980321418762\n",
      "wavelet-HHL_glcm_ClusterTendency: 0.4949653649385911\n",
      "wavelet-HHL_glcm_Contrast: 0.5045037895066395\n",
      "wavelet-HHL_glcm_Correlation: -0.00952404139327809\n",
      "wavelet-HHL_glcm_DifferenceAverage: 0.5045037895066395\n",
      "wavelet-HHL_glcm_DifferenceEntropy: 0.963559403790517\n",
      "wavelet-HHL_glcm_DifferenceVariance: 0.2376369940977892\n",
      "wavelet-HHL_glcm_Id: 0.7477481052466805\n",
      "wavelet-HHL_glcm_Idm: 0.7477481052466805\n",
      "wavelet-HHL_glcm_Idmn: 0.8990992420986721\n",
      "wavelet-HHL_glcm_Idn: 0.8318320701644536\n",
      "wavelet-HHL_glcm_Imc1: -0.0364549049728806\n",
      "wavelet-HHL_glcm_Imc2: 0.22854269492505083\n",
      "wavelet-HHL_glcm_InverseVariance: 0.5045037895066395\n",
      "wavelet-HHL_glcm_JointAverage: 1.4889183613464216\n",
      "wavelet-HHL_glcm_JointEnergy: 0.26262842867959546\n",
      "wavelet-HHL_glcm_JointEntropy: 1.962788523426551\n",
      "wavelet-HHL_glcm_MCC: 0.19451345972246686\n",
      "wavelet-HHL_glcm_MaximumProbability: 0.30551109263781073\n",
      "wavelet-HHL_glcm_SumAverage: 2.9778367226928433\n",
      "wavelet-HHL_glcm_SumEntropy: 1.4582847339199119\n",
      "wavelet-HHL_glcm_SumSquares: 0.24986728861130766\n",
      "wavelet-HHL_gldm_DependenceEntropy: 4.568191042077869\n",
      "wavelet-HHL_gldm_DependenceNonUniformity: 342.41960784313727\n",
      "wavelet-HHL_gldm_DependenceNonUniformityNormalized: 0.0959158565386939\n",
      "wavelet-HHL_gldm_DependenceVariance: 8.968888261186827\n",
      "wavelet-HHL_gldm_GrayLevelNonUniformity: 1785.53837535014\n",
      "wavelet-HHL_gldm_GrayLevelVariance: 0.24992459728989633\n",
      "wavelet-HHL_gldm_HighGrayLevelEmphasis: 2.473949579831933\n",
      "wavelet-HHL_gldm_LargeDependenceEmphasis: 151.5204481792717\n",
      "wavelet-HHL_gldm_LargeDependenceHighGrayLevelEmphasis: 363.49187675070027\n",
      "wavelet-HHL_gldm_LargeDependenceLowGrayLevelEmphasis: 98.52759103641456\n",
      "wavelet-HHL_gldm_LowGrayLevelEmphasis: 0.6315126050420168\n",
      "wavelet-HHL_gldm_SmallDependenceEmphasis: 0.009633258883732438\n",
      "wavelet-HHL_gldm_SmallDependenceHighGrayLevelEmphasis: 0.023909959587437735\n",
      "wavelet-HHL_gldm_SmallDependenceLowGrayLevelEmphasis: 0.0060640837078061146\n",
      "wavelet-HHL_glrlm_GrayLevelNonUniformity: 1034.0480520117355\n",
      "wavelet-HHL_glrlm_GrayLevelNonUniformityNormalized: 0.500044457342899\n",
      "wavelet-HHL_glrlm_GrayLevelVariance: 0.2499777713285505\n",
      "wavelet-HHL_glrlm_HighGrayLevelRunEmphasis: 2.5038063294242767\n",
      "wavelet-HHL_glrlm_LongRunEmphasis: 4.816590223862557\n",
      "wavelet-HHL_glrlm_LongRunHighGrayLevelEmphasis: 11.777265285805301\n",
      "wavelet-HHL_glrlm_LongRunLowGrayLevelEmphasis: 3.076421458376871\n",
      "wavelet-HHL_glrlm_LowGrayLevelRunEmphasis: 0.6240484176439308\n",
      "wavelet-HHL_glrlm_RunEntropy: 2.6978516953087963\n",
      "wavelet-HHL_glrlm_RunLengthNonUniformity: 862.583463232484\n",
      "wavelet-HHL_glrlm_RunLengthNonUniformityNormalized: 0.40242206073457115\n",
      "wavelet-HHL_glrlm_RunPercentage: 0.5792501616031027\n",
      "wavelet-HHL_glrlm_RunVariance: 1.398356570454535\n",
      "wavelet-HHL_glrlm_ShortRunEmphasis: 0.6363264264285955\n",
      "wavelet-HHL_glrlm_ShortRunHighGrayLevelEmphasis: 1.6141523319494195\n",
      "wavelet-HHL_glrlm_ShortRunLowGrayLevelEmphasis: 0.39186995004838937\n",
      "wavelet-HHL_glszm_GrayLevelNonUniformity: 1.6666666666666667\n",
      "wavelet-HHL_glszm_GrayLevelNonUniformityNormalized: 0.5555555555555556\n",
      "wavelet-HHL_glszm_GrayLevelVariance: 0.2222222222222222\n",
      "wavelet-HHL_glszm_HighGrayLevelZoneEmphasis: 2.0\n",
      "wavelet-HHL_glszm_LargeAreaEmphasis: 2123580.6666666665\n",
      "wavelet-HHL_glszm_LargeAreaHighGrayLevelEmphasis: 5200096.666666667\n",
      "wavelet-HHL_glszm_LargeAreaLowGrayLevelEmphasis: 1354451.6666666667\n",
      "wavelet-HHL_glszm_LowGrayLevelZoneEmphasis: 0.75\n",
      "wavelet-HHL_glszm_SizeZoneNonUniformity: 1.0\n",
      "wavelet-HHL_glszm_SizeZoneNonUniformityNormalized: 0.3333333333333333\n",
      "wavelet-HHL_glszm_SmallAreaEmphasis: 0.3333335428681796\n",
      "wavelet-HHL_glszm_SmallAreaHighGrayLevelEmphasis: 0.3333338679111828\n",
      "wavelet-HHL_glszm_SmallAreaLowGrayLevelEmphasis: 0.3333334616074288\n",
      "wavelet-HHL_glszm_ZoneEntropy: 1.5849625007211552\n",
      "wavelet-HHL_glszm_ZonePercentage: 0.0008403361344537816\n",
      "wavelet-HHL_glszm_ZoneVariance: 707480.6666666666\n",
      "wavelet-HHL_ngtdm_Busyness: 948.2000156669193\n",
      "wavelet-HHL_ngtdm_Coarseness: 0.0011125970486987177\n",
      "wavelet-HHL_ngtdm_Complexity: 0.5035282902206929\n",
      "wavelet-HHL_ngtdm_Contrast: 0.1258475654987965\n",
      "wavelet-HHL_ngtdm_Strength: 0.0011125664564061723\n",
      "wavelet-HHH_firstorder_10Percentile: -0.05798330997327919\n",
      "wavelet-HHH_firstorder_90Percentile: 0.053834817990929505\n",
      "wavelet-HHH_firstorder_Energy: 23.64379287394384\n",
      "wavelet-HHH_firstorder_Entropy: 0.9999999999999993\n",
      "wavelet-HHH_firstorder_InterquartileRange: 0.05042332150076337\n",
      "wavelet-HHH_firstorder_Kurtosis: 32.6632116521968\n",
      "wavelet-HHH_firstorder_Maximum: 0.668164427153149\n",
      "wavelet-HHH_firstorder_MeanAbsoluteDeviation: 0.04403356100425658\n",
      "wavelet-HHH_firstorder_Mean: -7.224960352440361e-06\n",
      "wavelet-HHH_firstorder_Median: -7.77496336483592e-06\n",
      "wavelet-HHH_firstorder_Minimum: -1.0971715490039708\n",
      "wavelet-HHH_firstorder_Range: 1.76533597615712\n",
      "wavelet-HHH_firstorder_RobustMeanAbsoluteDeviation: 0.021702617232584247\n",
      "wavelet-HHH_firstorder_RootMeanSquared: 0.08138127038312896\n",
      "wavelet-HHH_firstorder_Skewness: -0.3573744620791629\n",
      "wavelet-HHH_firstorder_TotalEnergy: 638.3824075964837\n",
      "wavelet-HHH_firstorder_Uniformity: 0.5\n",
      "wavelet-HHH_firstorder_Variance: 0.006622911116971893\n",
      "wavelet-HHH_glcm_Autocorrelation: 2.244395833796302\n",
      "wavelet-HHH_glcm_ClusterProminence: 0.4865874978335048\n",
      "wavelet-HHH_glcm_ClusterShade: -0.00011394667694258044\n",
      "wavelet-HHH_glcm_ClusterTendency: 0.4865874922395265\n",
      "wavelet-HHH_glcm_Contrast: 0.5134038328178564\n",
      "wavelet-HHH_glcm_Correlation: -0.026816338712831803\n",
      "wavelet-HHH_glcm_DifferenceAverage: 0.5134038328178564\n",
      "wavelet-HHH_glcm_DifferenceEntropy: 0.9663767710618877\n",
      "wavelet-HHH_glcm_DifferenceVariance: 0.23852838675762145\n",
      "wavelet-HHH_glcm_Id: 0.7432980835910719\n",
      "wavelet-HHH_glcm_Idm: 0.7432980835910719\n",
      "wavelet-HHH_glcm_Idmn: 0.8973192334364287\n",
      "wavelet-HHH_glcm_Idn: 0.8288653890607145\n",
      "wavelet-HHH_glcm_Imc1: -0.03362366033163538\n",
      "wavelet-HHH_glcm_Imc2: 0.2239618114738859\n",
      "wavelet-HHH_glcm_InverseVariance: 0.5134038328178564\n",
      "wavelet-HHH_glcm_JointAverage: 1.5003659167350767\n",
      "wavelet-HHH_glcm_JointEnergy: 0.2614759507136871\n",
      "wavelet-HHH_glcm_JointEntropy: 1.9663639358400467\n",
      "wavelet-HHH_glcm_MCC: 0.1900291707494731\n",
      "wavelet-HHH_glcm_MaximumProbability: 0.29792292404345666\n",
      "wavelet-HHH_glcm_SumAverage: 3.0007318334701534\n",
      "wavelet-HHH_glcm_SumEntropy: 1.452960103022191\n",
      "wavelet-HHH_glcm_SumSquares: 0.24999783126434572\n",
      "wavelet-HHH_gldm_DependenceEntropy: 4.433293377153301\n",
      "wavelet-HHH_gldm_DependenceNonUniformity: 378.53333333333336\n",
      "wavelet-HHH_gldm_DependenceNonUniformityNormalized: 0.10603174603174603\n",
      "wavelet-HHH_gldm_DependenceVariance: 7.771588635454181\n",
      "wavelet-HHH_gldm_GrayLevelNonUniformity: 1785.0\n",
      "wavelet-HHH_gldm_GrayLevelVariance: 0.25\n",
      "wavelet-HHH_gldm_HighGrayLevelEmphasis: 2.5\n",
      "wavelet-HHH_gldm_LargeDependenceEmphasis: 144.99607843137255\n",
      "wavelet-HHH_gldm_LargeDependenceHighGrayLevelEmphasis: 363.7296918767507\n",
      "wavelet-HHH_gldm_LargeDependenceLowGrayLevelEmphasis: 90.312675070028\n",
      "wavelet-HHH_gldm_LowGrayLevelEmphasis: 0.625\n",
      "wavelet-HHH_gldm_SmallDependenceEmphasis: 0.009364720216310197\n",
      "wavelet-HHH_gldm_SmallDependenceHighGrayLevelEmphasis: 0.02363038237301324\n",
      "wavelet-HHH_gldm_SmallDependenceLowGrayLevelEmphasis: 0.005798304677134436\n",
      "wavelet-HHH_glrlm_GrayLevelNonUniformity: 1049.4422454620637\n",
      "wavelet-HHH_glrlm_GrayLevelNonUniformityNormalized: 0.5000096158283477\n",
      "wavelet-HHH_glrlm_GrayLevelVariance: 0.24999519208582616\n",
      "wavelet-HHH_glrlm_HighGrayLevelRunEmphasis: 2.4988295462715175\n",
      "wavelet-HHH_glrlm_LongRunEmphasis: 4.31437808581325\n",
      "wavelet-HHH_glrlm_LongRunHighGrayLevelEmphasis: 10.799772436237491\n",
      "wavelet-HHH_glrlm_LongRunLowGrayLevelEmphasis: 2.6930294982071907\n",
      "wavelet-HHH_glrlm_LowGrayLevelRunEmphasis: 0.6252926134321206\n",
      "wavelet-HHH_glrlm_RunEntropy: 2.659308358958758\n",
      "wavelet-HHH_glrlm_RunLengthNonUniformity: 887.1881818918506\n",
      "wavelet-HHH_glrlm_RunLengthNonUniformityNormalized: 0.41046190850493197\n",
      "wavelet-HHH_glrlm_RunPercentage: 0.5879120879120878\n",
      "wavelet-HHH_glrlm_RunVariance: 1.2274613549424553\n",
      "wavelet-HHH_glrlm_ShortRunEmphasis: 0.6477333500825395\n",
      "wavelet-HHH_glrlm_ShortRunHighGrayLevelEmphasis: 1.6200925041432883\n",
      "wavelet-HHH_glrlm_ShortRunLowGrayLevelEmphasis: 0.4046435615673526\n",
      "wavelet-HHH_glszm_GrayLevelNonUniformity: 1.0\n",
      "wavelet-HHH_glszm_GrayLevelNonUniformityNormalized: 0.5\n",
      "wavelet-HHH_glszm_GrayLevelVariance: 0.25\n",
      "wavelet-HHH_glszm_HighGrayLevelZoneEmphasis: 2.5\n",
      "wavelet-HHH_glszm_LargeAreaEmphasis: 3186225.0\n",
      "wavelet-HHH_glszm_LargeAreaHighGrayLevelEmphasis: 7965562.5\n",
      "wavelet-HHH_glszm_LargeAreaLowGrayLevelEmphasis: 1991390.625\n",
      "wavelet-HHH_glszm_LowGrayLevelZoneEmphasis: 0.625\n",
      "wavelet-HHH_glszm_SizeZoneNonUniformity: 2.0\n",
      "wavelet-HHH_glszm_SizeZoneNonUniformityNormalized: 1.0\n",
      "wavelet-HHH_glszm_SmallAreaEmphasis: 3.1385103060832175e-07\n",
      "wavelet-HHH_glszm_SmallAreaHighGrayLevelEmphasis: 7.846275765208044e-07\n",
      "wavelet-HHH_glszm_SmallAreaLowGrayLevelEmphasis: 1.961568941302011e-07\n",
      "wavelet-HHH_glszm_ZoneEntropy: 0.9999999999999993\n",
      "wavelet-HHH_glszm_ZonePercentage: 0.0005602240896358543\n",
      "wavelet-HHH_glszm_ZoneVariance: 0.0\n",
      "wavelet-HHH_ngtdm_Busyness: 920.5881487226047\n",
      "wavelet-HHH_ngtdm_Coarseness: 0.0010862620829820437\n",
      "wavelet-HHH_ngtdm_Complexity: 0.5157356575476777\n",
      "wavelet-HHH_ngtdm_Contrast: 0.12893391438691942\n",
      "wavelet-HHH_ngtdm_Strength: 0.0010862620829820437\n",
      "wavelet-LLL_firstorder_10Percentile: 6.325503967196754\n",
      "wavelet-LLL_firstorder_90Percentile: 6.738473888158916\n",
      "wavelet-LLL_firstorder_Energy: 151334.54954647878\n",
      "wavelet-LLL_firstorder_Entropy: -3.203426503814917e-16\n",
      "wavelet-LLL_firstorder_InterquartileRange: 0.1670790834896385\n",
      "wavelet-LLL_firstorder_Kurtosis: 24.006706650314023\n",
      "wavelet-LLL_firstorder_Maximum: 8.903646765250508\n",
      "wavelet-LLL_firstorder_MeanAbsoluteDeviation: 0.14687384855774854\n",
      "wavelet-LLL_firstorder_Mean: 6.506444178492806\n",
      "wavelet-LLL_firstorder_Median: 6.456771217599346\n",
      "wavelet-LLL_firstorder_Minimum: 5.940509181821411\n",
      "wavelet-LLL_firstorder_Range: 2.9631375834290976\n",
      "wavelet-LLL_firstorder_RobustMeanAbsoluteDeviation: 0.07502389913198534\n",
      "wavelet-LLL_firstorder_RootMeanSquared: 6.510808715133941\n",
      "wavelet-LLL_firstorder_Skewness: 3.4047094771207598\n",
      "wavelet-LLL_firstorder_TotalEnergy: 4086032.837754927\n",
      "wavelet-LLL_firstorder_Uniformity: 1.0\n",
      "wavelet-LLL_firstorder_Variance: 0.05681427722115053\n",
      "wavelet-LLL_glcm_Autocorrelation: 1.0\n",
      "wavelet-LLL_glcm_ClusterProminence: 0.0\n",
      "wavelet-LLL_glcm_ClusterShade: 0.0\n",
      "wavelet-LLL_glcm_ClusterTendency: 0.0\n",
      "wavelet-LLL_glcm_Contrast: 0.0\n",
      "wavelet-LLL_glcm_Correlation: 1.0\n",
      "wavelet-LLL_glcm_DifferenceAverage: 0.0\n",
      "wavelet-LLL_glcm_DifferenceEntropy: -3.2034265038149176e-16\n",
      "wavelet-LLL_glcm_DifferenceVariance: 0.0\n",
      "wavelet-LLL_glcm_Id: 1.0\n",
      "wavelet-LLL_glcm_Idm: 1.0\n",
      "wavelet-LLL_glcm_Idmn: 1.0\n",
      "wavelet-LLL_glcm_Idn: 1.0\n",
      "wavelet-LLL_glcm_Imc1: 0.0\n",
      "wavelet-LLL_glcm_Imc2: 0.0\n",
      "wavelet-LLL_glcm_InverseVariance: 0.0\n",
      "wavelet-LLL_glcm_JointAverage: 1.0\n",
      "wavelet-LLL_glcm_JointEnergy: 1.0\n",
      "wavelet-LLL_glcm_JointEntropy: -3.2034265038149176e-16\n",
      "wavelet-LLL_glcm_MCC: 1\n",
      "wavelet-LLL_glcm_MaximumProbability: 1.0\n",
      "wavelet-LLL_glcm_SumAverage: 2.0\n",
      "wavelet-LLL_glcm_SumEntropy: -3.2034265038149176e-16\n",
      "wavelet-LLL_glcm_SumSquares: 0.0\n",
      "wavelet-LLL_gldm_DependenceEntropy: 3.1473307408198425\n",
      "wavelet-LLL_gldm_DependenceNonUniformity: 805.793837535014\n",
      "wavelet-LLL_gldm_DependenceNonUniformityNormalized: 0.22571255953361738\n",
      "wavelet-LLL_gldm_DependenceVariance: 23.621757408845887\n",
      "wavelet-LLL_gldm_GrayLevelNonUniformity: 3570.0\n",
      "wavelet-LLL_gldm_GrayLevelVariance: 0.0\n",
      "wavelet-LLL_gldm_HighGrayLevelEmphasis: 1.0\n",
      "wavelet-LLL_gldm_LargeDependenceEmphasis: 556.7271708683473\n",
      "wavelet-LLL_gldm_LargeDependenceHighGrayLevelEmphasis: 556.7271708683473\n",
      "wavelet-LLL_gldm_LargeDependenceLowGrayLevelEmphasis: 556.7271708683473\n",
      "wavelet-LLL_gldm_LowGrayLevelEmphasis: 1.0\n",
      "wavelet-LLL_gldm_SmallDependenceEmphasis: 0.0023192237252662434\n",
      "wavelet-LLL_gldm_SmallDependenceHighGrayLevelEmphasis: 0.0023192237252662434\n",
      "wavelet-LLL_gldm_SmallDependenceLowGrayLevelEmphasis: 0.0023192237252662434\n",
      "wavelet-LLL_glrlm_GrayLevelNonUniformity: 537.0\n",
      "wavelet-LLL_glrlm_GrayLevelNonUniformityNormalized: 1.0\n",
      "wavelet-LLL_glrlm_GrayLevelVariance: 0.0\n",
      "wavelet-LLL_glrlm_HighGrayLevelRunEmphasis: 1.0\n",
      "wavelet-LLL_glrlm_LongRunEmphasis: 69.5188781703413\n",
      "wavelet-LLL_glrlm_LongRunHighGrayLevelEmphasis: 69.5188781703413\n",
      "wavelet-LLL_glrlm_LongRunLowGrayLevelEmphasis: 69.5188781703413\n",
      "wavelet-LLL_glrlm_LowGrayLevelRunEmphasis: 1.0\n",
      "wavelet-LLL_glrlm_RunEntropy: 3.6776932147847816\n",
      "wavelet-LLL_glrlm_RunLengthNonUniformity: 47.797474910669955\n",
      "wavelet-LLL_glrlm_RunLengthNonUniformityNormalized: 0.08572393929530613\n",
      "wavelet-LLL_glrlm_RunPercentage: 0.15042016806722688\n",
      "wavelet-LLL_glrlm_RunVariance: 16.2876562540629\n",
      "wavelet-LLL_glrlm_ShortRunEmphasis: 0.11985030410018448\n",
      "wavelet-LLL_glrlm_ShortRunHighGrayLevelEmphasis: 0.11985030410018448\n",
      "wavelet-LLL_glrlm_ShortRunLowGrayLevelEmphasis: 0.11985030410018448\n",
      "wavelet-LLL_glszm_GrayLevelNonUniformity: 1.0\n",
      "wavelet-LLL_glszm_GrayLevelNonUniformityNormalized: 1.0\n",
      "wavelet-LLL_glszm_GrayLevelVariance: 0.0\n",
      "wavelet-LLL_glszm_HighGrayLevelZoneEmphasis: 1.0\n",
      "wavelet-LLL_glszm_LargeAreaEmphasis: 12744900.0\n",
      "wavelet-LLL_glszm_LargeAreaHighGrayLevelEmphasis: 12744900.0\n",
      "wavelet-LLL_glszm_LargeAreaLowGrayLevelEmphasis: 12744900.0\n",
      "wavelet-LLL_glszm_LowGrayLevelZoneEmphasis: 1.0\n",
      "wavelet-LLL_glszm_SizeZoneNonUniformity: 1.0\n",
      "wavelet-LLL_glszm_SizeZoneNonUniformityNormalized: 1.0\n",
      "wavelet-LLL_glszm_SmallAreaEmphasis: 7.846275765208044e-08\n",
      "wavelet-LLL_glszm_SmallAreaHighGrayLevelEmphasis: 7.846275765208044e-08\n",
      "wavelet-LLL_glszm_SmallAreaLowGrayLevelEmphasis: 7.846275765208044e-08\n",
      "wavelet-LLL_glszm_ZoneEntropy: -3.203426503814917e-16\n",
      "wavelet-LLL_glszm_ZonePercentage: 0.00028011204481792715\n",
      "wavelet-LLL_glszm_ZoneVariance: 0.0\n",
      "wavelet-LLL_ngtdm_Busyness: 0.0\n",
      "wavelet-LLL_ngtdm_Coarseness: 1000000.0\n",
      "wavelet-LLL_ngtdm_Complexity: 0.0\n",
      "wavelet-LLL_ngtdm_Contrast: 0.0\n",
      "wavelet-LLL_ngtdm_Strength: 0.0\n"
     ]
    }
   ],
   "source": [
    "imageFile = os.path.join(image_basePath, 'aoleixu.nii.gz')\n",
    "maskFile = os.path.join(mask_basePath, 'aoleixu.nii.gz')\n",
    "\n",
    "featureVector = extractor.execute(imageFile, maskFile)\n",
    "for featureName in featureVector.keys():\n",
    "    print(\"%s: %s\" % (featureName, featureVector[featureName]))"
   ]
  },
  {
   "cell_type": "markdown",
   "id": "20a30b3f",
   "metadata": {},
   "source": [
    "## 影像组学特征批量提取"
   ]
  },
  {
   "cell_type": "code",
   "execution_count": 12,
   "id": "ca5a0105",
   "metadata": {},
   "outputs": [
    {
     "name": "stderr",
     "output_type": "stream",
     "text": [
      "GLCM is symmetrical, therefore Sum Average = 2 * Joint Average, only 1 needs to be calculated\n",
      "GLCM is symmetrical, therefore Sum Average = 2 * Joint Average, only 1 needs to be calculated\n",
      "GLCM is symmetrical, therefore Sum Average = 2 * Joint Average, only 1 needs to be calculated\n",
      "GLCM is symmetrical, therefore Sum Average = 2 * Joint Average, only 1 needs to be calculated\n",
      "GLCM is symmetrical, therefore Sum Average = 2 * Joint Average, only 1 needs to be calculated\n",
      "GLCM is symmetrical, therefore Sum Average = 2 * Joint Average, only 1 needs to be calculated\n",
      "GLCM is symmetrical, therefore Sum Average = 2 * Joint Average, only 1 needs to be calculated\n",
      "GLCM is symmetrical, therefore Sum Average = 2 * Joint Average, only 1 needs to be calculated\n",
      "GLCM is symmetrical, therefore Sum Average = 2 * Joint Average, only 1 needs to be calculated\n",
      "GLCM is symmetrical, therefore Sum Average = 2 * Joint Average, only 1 needs to be calculated\n"
     ]
    },
    {
     "name": "stdout",
     "output_type": "stream",
     "text": [
      "liaoting.nii.gz\n"
     ]
    },
    {
     "name": "stderr",
     "output_type": "stream",
     "text": [
      "GLCM is symmetrical, therefore Sum Average = 2 * Joint Average, only 1 needs to be calculated\n",
      "GLCM is symmetrical, therefore Sum Average = 2 * Joint Average, only 1 needs to be calculated\n",
      "GLCM is symmetrical, therefore Sum Average = 2 * Joint Average, only 1 needs to be calculated\n",
      "GLCM is symmetrical, therefore Sum Average = 2 * Joint Average, only 1 needs to be calculated\n",
      "GLCM is symmetrical, therefore Sum Average = 2 * Joint Average, only 1 needs to be calculated\n",
      "GLCM is symmetrical, therefore Sum Average = 2 * Joint Average, only 1 needs to be calculated\n",
      "GLCM is symmetrical, therefore Sum Average = 2 * Joint Average, only 1 needs to be calculated\n",
      "GLCM is symmetrical, therefore Sum Average = 2 * Joint Average, only 1 needs to be calculated\n",
      "GLCM is symmetrical, therefore Sum Average = 2 * Joint Average, only 1 needs to be calculated\n",
      "GLCM is symmetrical, therefore Sum Average = 2 * Joint Average, only 1 needs to be calculated\n"
     ]
    },
    {
     "name": "stdout",
     "output_type": "stream",
     "text": [
      "wanghuilan.nii.gz\n"
     ]
    },
    {
     "name": "stderr",
     "output_type": "stream",
     "text": [
      "GLCM is symmetrical, therefore Sum Average = 2 * Joint Average, only 1 needs to be calculated\n",
      "GLCM is symmetrical, therefore Sum Average = 2 * Joint Average, only 1 needs to be calculated\n",
      "GLCM is symmetrical, therefore Sum Average = 2 * Joint Average, only 1 needs to be calculated\n",
      "GLCM is symmetrical, therefore Sum Average = 2 * Joint Average, only 1 needs to be calculated\n",
      "GLCM is symmetrical, therefore Sum Average = 2 * Joint Average, only 1 needs to be calculated\n",
      "GLCM is symmetrical, therefore Sum Average = 2 * Joint Average, only 1 needs to be calculated\n",
      "GLCM is symmetrical, therefore Sum Average = 2 * Joint Average, only 1 needs to be calculated\n",
      "GLCM is symmetrical, therefore Sum Average = 2 * Joint Average, only 1 needs to be calculated\n",
      "GLCM is symmetrical, therefore Sum Average = 2 * Joint Average, only 1 needs to be calculated\n",
      "GLCM is symmetrical, therefore Sum Average = 2 * Joint Average, only 1 needs to be calculated\n"
     ]
    },
    {
     "name": "stdout",
     "output_type": "stream",
     "text": [
      "lixizhen.nii.gz\n"
     ]
    },
    {
     "name": "stderr",
     "output_type": "stream",
     "text": [
      "GLCM is symmetrical, therefore Sum Average = 2 * Joint Average, only 1 needs to be calculated\n",
      "GLCM is symmetrical, therefore Sum Average = 2 * Joint Average, only 1 needs to be calculated\n",
      "GLCM is symmetrical, therefore Sum Average = 2 * Joint Average, only 1 needs to be calculated\n",
      "GLCM is symmetrical, therefore Sum Average = 2 * Joint Average, only 1 needs to be calculated\n",
      "GLCM is symmetrical, therefore Sum Average = 2 * Joint Average, only 1 needs to be calculated\n",
      "GLCM is symmetrical, therefore Sum Average = 2 * Joint Average, only 1 needs to be calculated\n",
      "GLCM is symmetrical, therefore Sum Average = 2 * Joint Average, only 1 needs to be calculated\n",
      "GLCM is symmetrical, therefore Sum Average = 2 * Joint Average, only 1 needs to be calculated\n",
      "GLCM is symmetrical, therefore Sum Average = 2 * Joint Average, only 1 needs to be calculated\n",
      "GLCM is symmetrical, therefore Sum Average = 2 * Joint Average, only 1 needs to be calculated\n"
     ]
    },
    {
     "name": "stdout",
     "output_type": "stream",
     "text": [
      "baoshiqing.nii.gz\n"
     ]
    },
    {
     "name": "stderr",
     "output_type": "stream",
     "text": [
      "GLCM is symmetrical, therefore Sum Average = 2 * Joint Average, only 1 needs to be calculated\n",
      "GLCM is symmetrical, therefore Sum Average = 2 * Joint Average, only 1 needs to be calculated\n",
      "GLCM is symmetrical, therefore Sum Average = 2 * Joint Average, only 1 needs to be calculated\n",
      "GLCM is symmetrical, therefore Sum Average = 2 * Joint Average, only 1 needs to be calculated\n",
      "GLCM is symmetrical, therefore Sum Average = 2 * Joint Average, only 1 needs to be calculated\n",
      "GLCM is symmetrical, therefore Sum Average = 2 * Joint Average, only 1 needs to be calculated\n",
      "GLCM is symmetrical, therefore Sum Average = 2 * Joint Average, only 1 needs to be calculated\n",
      "GLCM is symmetrical, therefore Sum Average = 2 * Joint Average, only 1 needs to be calculated\n",
      "GLCM is symmetrical, therefore Sum Average = 2 * Joint Average, only 1 needs to be calculated\n",
      "GLCM is symmetrical, therefore Sum Average = 2 * Joint Average, only 1 needs to be calculated\n"
     ]
    },
    {
     "name": "stdout",
     "output_type": "stream",
     "text": [
      "huangao.nii.gz\n"
     ]
    },
    {
     "name": "stderr",
     "output_type": "stream",
     "text": [
      "GLCM is symmetrical, therefore Sum Average = 2 * Joint Average, only 1 needs to be calculated\n",
      "GLCM is symmetrical, therefore Sum Average = 2 * Joint Average, only 1 needs to be calculated\n",
      "GLCM is symmetrical, therefore Sum Average = 2 * Joint Average, only 1 needs to be calculated\n",
      "GLCM is symmetrical, therefore Sum Average = 2 * Joint Average, only 1 needs to be calculated\n",
      "GLCM is symmetrical, therefore Sum Average = 2 * Joint Average, only 1 needs to be calculated\n",
      "GLCM is symmetrical, therefore Sum Average = 2 * Joint Average, only 1 needs to be calculated\n",
      "GLCM is symmetrical, therefore Sum Average = 2 * Joint Average, only 1 needs to be calculated\n",
      "GLCM is symmetrical, therefore Sum Average = 2 * Joint Average, only 1 needs to be calculated\n",
      "GLCM is symmetrical, therefore Sum Average = 2 * Joint Average, only 1 needs to be calculated\n",
      "GLCM is symmetrical, therefore Sum Average = 2 * Joint Average, only 1 needs to be calculated\n"
     ]
    },
    {
     "name": "stdout",
     "output_type": "stream",
     "text": [
      "yujiahui.nii.gz\n"
     ]
    },
    {
     "name": "stderr",
     "output_type": "stream",
     "text": [
      "GLCM is symmetrical, therefore Sum Average = 2 * Joint Average, only 1 needs to be calculated\n",
      "GLCM is symmetrical, therefore Sum Average = 2 * Joint Average, only 1 needs to be calculated\n",
      "GLCM is symmetrical, therefore Sum Average = 2 * Joint Average, only 1 needs to be calculated\n",
      "GLCM is symmetrical, therefore Sum Average = 2 * Joint Average, only 1 needs to be calculated\n",
      "GLCM is symmetrical, therefore Sum Average = 2 * Joint Average, only 1 needs to be calculated\n",
      "GLCM is symmetrical, therefore Sum Average = 2 * Joint Average, only 1 needs to be calculated\n",
      "GLCM is symmetrical, therefore Sum Average = 2 * Joint Average, only 1 needs to be calculated\n",
      "GLCM is symmetrical, therefore Sum Average = 2 * Joint Average, only 1 needs to be calculated\n",
      "GLCM is symmetrical, therefore Sum Average = 2 * Joint Average, only 1 needs to be calculated\n",
      "GLCM is symmetrical, therefore Sum Average = 2 * Joint Average, only 1 needs to be calculated\n"
     ]
    },
    {
     "name": "stdout",
     "output_type": "stream",
     "text": [
      "niehaifeng.nii.gz\n"
     ]
    },
    {
     "name": "stderr",
     "output_type": "stream",
     "text": [
      "GLCM is symmetrical, therefore Sum Average = 2 * Joint Average, only 1 needs to be calculated\n",
      "GLCM is symmetrical, therefore Sum Average = 2 * Joint Average, only 1 needs to be calculated\n",
      "GLCM is symmetrical, therefore Sum Average = 2 * Joint Average, only 1 needs to be calculated\n",
      "GLCM is symmetrical, therefore Sum Average = 2 * Joint Average, only 1 needs to be calculated\n",
      "GLCM is symmetrical, therefore Sum Average = 2 * Joint Average, only 1 needs to be calculated\n",
      "GLCM is symmetrical, therefore Sum Average = 2 * Joint Average, only 1 needs to be calculated\n",
      "GLCM is symmetrical, therefore Sum Average = 2 * Joint Average, only 1 needs to be calculated\n",
      "GLCM is symmetrical, therefore Sum Average = 2 * Joint Average, only 1 needs to be calculated\n",
      "GLCM is symmetrical, therefore Sum Average = 2 * Joint Average, only 1 needs to be calculated\n",
      "GLCM is symmetrical, therefore Sum Average = 2 * Joint Average, only 1 needs to be calculated\n"
     ]
    },
    {
     "name": "stdout",
     "output_type": "stream",
     "text": [
      "lijiaxin.nii.gz\n"
     ]
    },
    {
     "name": "stderr",
     "output_type": "stream",
     "text": [
      "GLCM is symmetrical, therefore Sum Average = 2 * Joint Average, only 1 needs to be calculated\n",
      "GLCM is symmetrical, therefore Sum Average = 2 * Joint Average, only 1 needs to be calculated\n",
      "GLCM is symmetrical, therefore Sum Average = 2 * Joint Average, only 1 needs to be calculated\n",
      "GLCM is symmetrical, therefore Sum Average = 2 * Joint Average, only 1 needs to be calculated\n",
      "GLCM is symmetrical, therefore Sum Average = 2 * Joint Average, only 1 needs to be calculated\n",
      "GLCM is symmetrical, therefore Sum Average = 2 * Joint Average, only 1 needs to be calculated\n",
      "GLCM is symmetrical, therefore Sum Average = 2 * Joint Average, only 1 needs to be calculated\n",
      "GLCM is symmetrical, therefore Sum Average = 2 * Joint Average, only 1 needs to be calculated\n",
      "GLCM is symmetrical, therefore Sum Average = 2 * Joint Average, only 1 needs to be calculated\n",
      "GLCM is symmetrical, therefore Sum Average = 2 * Joint Average, only 1 needs to be calculated\n"
     ]
    },
    {
     "name": "stdout",
     "output_type": "stream",
     "text": [
      "dingyahui.nii.gz\n"
     ]
    },
    {
     "name": "stderr",
     "output_type": "stream",
     "text": [
      "GLCM is symmetrical, therefore Sum Average = 2 * Joint Average, only 1 needs to be calculated\n",
      "GLCM is symmetrical, therefore Sum Average = 2 * Joint Average, only 1 needs to be calculated\n",
      "GLCM is symmetrical, therefore Sum Average = 2 * Joint Average, only 1 needs to be calculated\n",
      "GLCM is symmetrical, therefore Sum Average = 2 * Joint Average, only 1 needs to be calculated\n",
      "GLCM is symmetrical, therefore Sum Average = 2 * Joint Average, only 1 needs to be calculated\n",
      "GLCM is symmetrical, therefore Sum Average = 2 * Joint Average, only 1 needs to be calculated\n",
      "GLCM is symmetrical, therefore Sum Average = 2 * Joint Average, only 1 needs to be calculated\n",
      "GLCM is symmetrical, therefore Sum Average = 2 * Joint Average, only 1 needs to be calculated\n",
      "GLCM is symmetrical, therefore Sum Average = 2 * Joint Average, only 1 needs to be calculated\n",
      "GLCM is symmetrical, therefore Sum Average = 2 * Joint Average, only 1 needs to be calculated\n"
     ]
    },
    {
     "name": "stdout",
     "output_type": "stream",
     "text": [
      "zhoujinyun.nii.gz\n"
     ]
    },
    {
     "name": "stderr",
     "output_type": "stream",
     "text": [
      "GLCM is symmetrical, therefore Sum Average = 2 * Joint Average, only 1 needs to be calculated\n",
      "GLCM is symmetrical, therefore Sum Average = 2 * Joint Average, only 1 needs to be calculated\n",
      "GLCM is symmetrical, therefore Sum Average = 2 * Joint Average, only 1 needs to be calculated\n",
      "GLCM is symmetrical, therefore Sum Average = 2 * Joint Average, only 1 needs to be calculated\n",
      "GLCM is symmetrical, therefore Sum Average = 2 * Joint Average, only 1 needs to be calculated\n",
      "GLCM is symmetrical, therefore Sum Average = 2 * Joint Average, only 1 needs to be calculated\n",
      "GLCM is symmetrical, therefore Sum Average = 2 * Joint Average, only 1 needs to be calculated\n",
      "GLCM is symmetrical, therefore Sum Average = 2 * Joint Average, only 1 needs to be calculated\n",
      "GLCM is symmetrical, therefore Sum Average = 2 * Joint Average, only 1 needs to be calculated\n",
      "GLCM is symmetrical, therefore Sum Average = 2 * Joint Average, only 1 needs to be calculated\n"
     ]
    },
    {
     "name": "stdout",
     "output_type": "stream",
     "text": [
      "liuqiaoyue.nii.gz\n"
     ]
    },
    {
     "name": "stderr",
     "output_type": "stream",
     "text": [
      "GLCM is symmetrical, therefore Sum Average = 2 * Joint Average, only 1 needs to be calculated\n",
      "GLCM is symmetrical, therefore Sum Average = 2 * Joint Average, only 1 needs to be calculated\n",
      "GLCM is symmetrical, therefore Sum Average = 2 * Joint Average, only 1 needs to be calculated\n",
      "GLCM is symmetrical, therefore Sum Average = 2 * Joint Average, only 1 needs to be calculated\n",
      "GLCM is symmetrical, therefore Sum Average = 2 * Joint Average, only 1 needs to be calculated\n",
      "GLCM is symmetrical, therefore Sum Average = 2 * Joint Average, only 1 needs to be calculated\n",
      "GLCM is symmetrical, therefore Sum Average = 2 * Joint Average, only 1 needs to be calculated\n",
      "GLCM is symmetrical, therefore Sum Average = 2 * Joint Average, only 1 needs to be calculated\n",
      "GLCM is symmetrical, therefore Sum Average = 2 * Joint Average, only 1 needs to be calculated\n",
      "GLCM is symmetrical, therefore Sum Average = 2 * Joint Average, only 1 needs to be calculated\n"
     ]
    },
    {
     "name": "stdout",
     "output_type": "stream",
     "text": [
      "lvbin.nii.gz\n"
     ]
    },
    {
     "name": "stderr",
     "output_type": "stream",
     "text": [
      "GLCM is symmetrical, therefore Sum Average = 2 * Joint Average, only 1 needs to be calculated\n",
      "GLCM is symmetrical, therefore Sum Average = 2 * Joint Average, only 1 needs to be calculated\n",
      "GLCM is symmetrical, therefore Sum Average = 2 * Joint Average, only 1 needs to be calculated\n",
      "GLCM is symmetrical, therefore Sum Average = 2 * Joint Average, only 1 needs to be calculated\n",
      "GLCM is symmetrical, therefore Sum Average = 2 * Joint Average, only 1 needs to be calculated\n",
      "GLCM is symmetrical, therefore Sum Average = 2 * Joint Average, only 1 needs to be calculated\n",
      "GLCM is symmetrical, therefore Sum Average = 2 * Joint Average, only 1 needs to be calculated\n",
      "GLCM is symmetrical, therefore Sum Average = 2 * Joint Average, only 1 needs to be calculated\n",
      "GLCM is symmetrical, therefore Sum Average = 2 * Joint Average, only 1 needs to be calculated\n",
      "GLCM is symmetrical, therefore Sum Average = 2 * Joint Average, only 1 needs to be calculated\n"
     ]
    },
    {
     "name": "stdout",
     "output_type": "stream",
     "text": [
      "lichenghong2.nii.gz\n"
     ]
    },
    {
     "name": "stderr",
     "output_type": "stream",
     "text": [
      "GLCM is symmetrical, therefore Sum Average = 2 * Joint Average, only 1 needs to be calculated\n",
      "GLCM is symmetrical, therefore Sum Average = 2 * Joint Average, only 1 needs to be calculated\n",
      "GLCM is symmetrical, therefore Sum Average = 2 * Joint Average, only 1 needs to be calculated\n",
      "GLCM is symmetrical, therefore Sum Average = 2 * Joint Average, only 1 needs to be calculated\n",
      "GLCM is symmetrical, therefore Sum Average = 2 * Joint Average, only 1 needs to be calculated\n",
      "GLCM is symmetrical, therefore Sum Average = 2 * Joint Average, only 1 needs to be calculated\n",
      "GLCM is symmetrical, therefore Sum Average = 2 * Joint Average, only 1 needs to be calculated\n",
      "GLCM is symmetrical, therefore Sum Average = 2 * Joint Average, only 1 needs to be calculated\n",
      "GLCM is symmetrical, therefore Sum Average = 2 * Joint Average, only 1 needs to be calculated\n",
      "GLCM is symmetrical, therefore Sum Average = 2 * Joint Average, only 1 needs to be calculated\n"
     ]
    },
    {
     "name": "stdout",
     "output_type": "stream",
     "text": [
      "caijiamin.nii.gz\n"
     ]
    },
    {
     "name": "stderr",
     "output_type": "stream",
     "text": [
      "GLCM is symmetrical, therefore Sum Average = 2 * Joint Average, only 1 needs to be calculated\n",
      "GLCM is symmetrical, therefore Sum Average = 2 * Joint Average, only 1 needs to be calculated\n",
      "GLCM is symmetrical, therefore Sum Average = 2 * Joint Average, only 1 needs to be calculated\n",
      "GLCM is symmetrical, therefore Sum Average = 2 * Joint Average, only 1 needs to be calculated\n",
      "GLCM is symmetrical, therefore Sum Average = 2 * Joint Average, only 1 needs to be calculated\n",
      "GLCM is symmetrical, therefore Sum Average = 2 * Joint Average, only 1 needs to be calculated\n",
      "GLCM is symmetrical, therefore Sum Average = 2 * Joint Average, only 1 needs to be calculated\n",
      "GLCM is symmetrical, therefore Sum Average = 2 * Joint Average, only 1 needs to be calculated\n",
      "GLCM is symmetrical, therefore Sum Average = 2 * Joint Average, only 1 needs to be calculated\n",
      "GLCM is symmetrical, therefore Sum Average = 2 * Joint Average, only 1 needs to be calculated\n"
     ]
    },
    {
     "name": "stdout",
     "output_type": "stream",
     "text": [
      "wuzhenkun.nii.gz\n"
     ]
    },
    {
     "name": "stderr",
     "output_type": "stream",
     "text": [
      "GLCM is symmetrical, therefore Sum Average = 2 * Joint Average, only 1 needs to be calculated\n",
      "GLCM is symmetrical, therefore Sum Average = 2 * Joint Average, only 1 needs to be calculated\n",
      "GLCM is symmetrical, therefore Sum Average = 2 * Joint Average, only 1 needs to be calculated\n",
      "GLCM is symmetrical, therefore Sum Average = 2 * Joint Average, only 1 needs to be calculated\n",
      "GLCM is symmetrical, therefore Sum Average = 2 * Joint Average, only 1 needs to be calculated\n",
      "GLCM is symmetrical, therefore Sum Average = 2 * Joint Average, only 1 needs to be calculated\n",
      "GLCM is symmetrical, therefore Sum Average = 2 * Joint Average, only 1 needs to be calculated\n",
      "GLCM is symmetrical, therefore Sum Average = 2 * Joint Average, only 1 needs to be calculated\n",
      "GLCM is symmetrical, therefore Sum Average = 2 * Joint Average, only 1 needs to be calculated\n",
      "GLCM is symmetrical, therefore Sum Average = 2 * Joint Average, only 1 needs to be calculated\n"
     ]
    },
    {
     "name": "stdout",
     "output_type": "stream",
     "text": [
      "meixiaomin.nii.gz\n"
     ]
    },
    {
     "name": "stderr",
     "output_type": "stream",
     "text": [
      "GLCM is symmetrical, therefore Sum Average = 2 * Joint Average, only 1 needs to be calculated\n",
      "GLCM is symmetrical, therefore Sum Average = 2 * Joint Average, only 1 needs to be calculated\n",
      "GLCM is symmetrical, therefore Sum Average = 2 * Joint Average, only 1 needs to be calculated\n",
      "GLCM is symmetrical, therefore Sum Average = 2 * Joint Average, only 1 needs to be calculated\n",
      "GLCM is symmetrical, therefore Sum Average = 2 * Joint Average, only 1 needs to be calculated\n",
      "GLCM is symmetrical, therefore Sum Average = 2 * Joint Average, only 1 needs to be calculated\n",
      "GLCM is symmetrical, therefore Sum Average = 2 * Joint Average, only 1 needs to be calculated\n",
      "GLCM is symmetrical, therefore Sum Average = 2 * Joint Average, only 1 needs to be calculated\n",
      "GLCM is symmetrical, therefore Sum Average = 2 * Joint Average, only 1 needs to be calculated\n",
      "GLCM is symmetrical, therefore Sum Average = 2 * Joint Average, only 1 needs to be calculated\n"
     ]
    },
    {
     "name": "stdout",
     "output_type": "stream",
     "text": [
      "pengxiangyu.nii.gz\n"
     ]
    },
    {
     "name": "stderr",
     "output_type": "stream",
     "text": [
      "GLCM is symmetrical, therefore Sum Average = 2 * Joint Average, only 1 needs to be calculated\n",
      "GLCM is symmetrical, therefore Sum Average = 2 * Joint Average, only 1 needs to be calculated\n",
      "GLCM is symmetrical, therefore Sum Average = 2 * Joint Average, only 1 needs to be calculated\n",
      "GLCM is symmetrical, therefore Sum Average = 2 * Joint Average, only 1 needs to be calculated\n",
      "GLCM is symmetrical, therefore Sum Average = 2 * Joint Average, only 1 needs to be calculated\n",
      "GLCM is symmetrical, therefore Sum Average = 2 * Joint Average, only 1 needs to be calculated\n",
      "GLCM is symmetrical, therefore Sum Average = 2 * Joint Average, only 1 needs to be calculated\n",
      "GLCM is symmetrical, therefore Sum Average = 2 * Joint Average, only 1 needs to be calculated\n",
      "GLCM is symmetrical, therefore Sum Average = 2 * Joint Average, only 1 needs to be calculated\n",
      "GLCM is symmetrical, therefore Sum Average = 2 * Joint Average, only 1 needs to be calculated\n"
     ]
    },
    {
     "name": "stdout",
     "output_type": "stream",
     "text": [
      "fanzhenzhen.nii.gz\n"
     ]
    },
    {
     "name": "stderr",
     "output_type": "stream",
     "text": [
      "GLCM is symmetrical, therefore Sum Average = 2 * Joint Average, only 1 needs to be calculated\n",
      "GLCM is symmetrical, therefore Sum Average = 2 * Joint Average, only 1 needs to be calculated\n",
      "GLCM is symmetrical, therefore Sum Average = 2 * Joint Average, only 1 needs to be calculated\n",
      "GLCM is symmetrical, therefore Sum Average = 2 * Joint Average, only 1 needs to be calculated\n",
      "GLCM is symmetrical, therefore Sum Average = 2 * Joint Average, only 1 needs to be calculated\n",
      "GLCM is symmetrical, therefore Sum Average = 2 * Joint Average, only 1 needs to be calculated\n",
      "GLCM is symmetrical, therefore Sum Average = 2 * Joint Average, only 1 needs to be calculated\n",
      "GLCM is symmetrical, therefore Sum Average = 2 * Joint Average, only 1 needs to be calculated\n",
      "GLCM is symmetrical, therefore Sum Average = 2 * Joint Average, only 1 needs to be calculated\n",
      "GLCM is symmetrical, therefore Sum Average = 2 * Joint Average, only 1 needs to be calculated\n"
     ]
    },
    {
     "name": "stdout",
     "output_type": "stream",
     "text": [
      "zhangdandan.nii.gz\n"
     ]
    },
    {
     "name": "stderr",
     "output_type": "stream",
     "text": [
      "GLCM is symmetrical, therefore Sum Average = 2 * Joint Average, only 1 needs to be calculated\n",
      "GLCM is symmetrical, therefore Sum Average = 2 * Joint Average, only 1 needs to be calculated\n",
      "GLCM is symmetrical, therefore Sum Average = 2 * Joint Average, only 1 needs to be calculated\n",
      "GLCM is symmetrical, therefore Sum Average = 2 * Joint Average, only 1 needs to be calculated\n",
      "GLCM is symmetrical, therefore Sum Average = 2 * Joint Average, only 1 needs to be calculated\n",
      "GLCM is symmetrical, therefore Sum Average = 2 * Joint Average, only 1 needs to be calculated\n",
      "GLCM is symmetrical, therefore Sum Average = 2 * Joint Average, only 1 needs to be calculated\n",
      "GLCM is symmetrical, therefore Sum Average = 2 * Joint Average, only 1 needs to be calculated\n",
      "GLCM is symmetrical, therefore Sum Average = 2 * Joint Average, only 1 needs to be calculated\n",
      "GLCM is symmetrical, therefore Sum Average = 2 * Joint Average, only 1 needs to be calculated\n"
     ]
    },
    {
     "name": "stdout",
     "output_type": "stream",
     "text": [
      "zhangjiaying.nii.gz\n"
     ]
    },
    {
     "name": "stderr",
     "output_type": "stream",
     "text": [
      "GLCM is symmetrical, therefore Sum Average = 2 * Joint Average, only 1 needs to be calculated\n",
      "GLCM is symmetrical, therefore Sum Average = 2 * Joint Average, only 1 needs to be calculated\n",
      "GLCM is symmetrical, therefore Sum Average = 2 * Joint Average, only 1 needs to be calculated\n",
      "GLCM is symmetrical, therefore Sum Average = 2 * Joint Average, only 1 needs to be calculated\n",
      "GLCM is symmetrical, therefore Sum Average = 2 * Joint Average, only 1 needs to be calculated\n",
      "GLCM is symmetrical, therefore Sum Average = 2 * Joint Average, only 1 needs to be calculated\n",
      "GLCM is symmetrical, therefore Sum Average = 2 * Joint Average, only 1 needs to be calculated\n",
      "GLCM is symmetrical, therefore Sum Average = 2 * Joint Average, only 1 needs to be calculated\n",
      "GLCM is symmetrical, therefore Sum Average = 2 * Joint Average, only 1 needs to be calculated\n",
      "GLCM is symmetrical, therefore Sum Average = 2 * Joint Average, only 1 needs to be calculated\n"
     ]
    },
    {
     "name": "stdout",
     "output_type": "stream",
     "text": [
      "yanguilan.nii.gz\n"
     ]
    },
    {
     "name": "stderr",
     "output_type": "stream",
     "text": [
      "GLCM is symmetrical, therefore Sum Average = 2 * Joint Average, only 1 needs to be calculated\n",
      "GLCM is symmetrical, therefore Sum Average = 2 * Joint Average, only 1 needs to be calculated\n",
      "GLCM is symmetrical, therefore Sum Average = 2 * Joint Average, only 1 needs to be calculated\n",
      "GLCM is symmetrical, therefore Sum Average = 2 * Joint Average, only 1 needs to be calculated\n",
      "GLCM is symmetrical, therefore Sum Average = 2 * Joint Average, only 1 needs to be calculated\n",
      "GLCM is symmetrical, therefore Sum Average = 2 * Joint Average, only 1 needs to be calculated\n",
      "GLCM is symmetrical, therefore Sum Average = 2 * Joint Average, only 1 needs to be calculated\n",
      "GLCM is symmetrical, therefore Sum Average = 2 * Joint Average, only 1 needs to be calculated\n",
      "GLCM is symmetrical, therefore Sum Average = 2 * Joint Average, only 1 needs to be calculated\n",
      "GLCM is symmetrical, therefore Sum Average = 2 * Joint Average, only 1 needs to be calculated\n"
     ]
    },
    {
     "name": "stdout",
     "output_type": "stream",
     "text": [
      "tuxinrui.nii.gz\n"
     ]
    },
    {
     "name": "stderr",
     "output_type": "stream",
     "text": [
      "GLCM is symmetrical, therefore Sum Average = 2 * Joint Average, only 1 needs to be calculated\n",
      "GLCM is symmetrical, therefore Sum Average = 2 * Joint Average, only 1 needs to be calculated\n",
      "GLCM is symmetrical, therefore Sum Average = 2 * Joint Average, only 1 needs to be calculated\n",
      "GLCM is symmetrical, therefore Sum Average = 2 * Joint Average, only 1 needs to be calculated\n",
      "GLCM is symmetrical, therefore Sum Average = 2 * Joint Average, only 1 needs to be calculated\n",
      "GLCM is symmetrical, therefore Sum Average = 2 * Joint Average, only 1 needs to be calculated\n",
      "GLCM is symmetrical, therefore Sum Average = 2 * Joint Average, only 1 needs to be calculated\n",
      "GLCM is symmetrical, therefore Sum Average = 2 * Joint Average, only 1 needs to be calculated\n",
      "GLCM is symmetrical, therefore Sum Average = 2 * Joint Average, only 1 needs to be calculated\n",
      "GLCM is symmetrical, therefore Sum Average = 2 * Joint Average, only 1 needs to be calculated\n"
     ]
    },
    {
     "name": "stdout",
     "output_type": "stream",
     "text": [
      "fuzhihao.nii.gz\n"
     ]
    },
    {
     "name": "stderr",
     "output_type": "stream",
     "text": [
      "GLCM is symmetrical, therefore Sum Average = 2 * Joint Average, only 1 needs to be calculated\n",
      "GLCM is symmetrical, therefore Sum Average = 2 * Joint Average, only 1 needs to be calculated\n",
      "GLCM is symmetrical, therefore Sum Average = 2 * Joint Average, only 1 needs to be calculated\n",
      "GLCM is symmetrical, therefore Sum Average = 2 * Joint Average, only 1 needs to be calculated\n",
      "GLCM is symmetrical, therefore Sum Average = 2 * Joint Average, only 1 needs to be calculated\n",
      "GLCM is symmetrical, therefore Sum Average = 2 * Joint Average, only 1 needs to be calculated\n",
      "GLCM is symmetrical, therefore Sum Average = 2 * Joint Average, only 1 needs to be calculated\n",
      "GLCM is symmetrical, therefore Sum Average = 2 * Joint Average, only 1 needs to be calculated\n",
      "GLCM is symmetrical, therefore Sum Average = 2 * Joint Average, only 1 needs to be calculated\n",
      "GLCM is symmetrical, therefore Sum Average = 2 * Joint Average, only 1 needs to be calculated\n"
     ]
    },
    {
     "name": "stdout",
     "output_type": "stream",
     "text": [
      "humengyin.nii.gz\n"
     ]
    },
    {
     "name": "stderr",
     "output_type": "stream",
     "text": [
      "GLCM is symmetrical, therefore Sum Average = 2 * Joint Average, only 1 needs to be calculated\n",
      "GLCM is symmetrical, therefore Sum Average = 2 * Joint Average, only 1 needs to be calculated\n",
      "GLCM is symmetrical, therefore Sum Average = 2 * Joint Average, only 1 needs to be calculated\n",
      "GLCM is symmetrical, therefore Sum Average = 2 * Joint Average, only 1 needs to be calculated\n",
      "GLCM is symmetrical, therefore Sum Average = 2 * Joint Average, only 1 needs to be calculated\n",
      "GLCM is symmetrical, therefore Sum Average = 2 * Joint Average, only 1 needs to be calculated\n",
      "GLCM is symmetrical, therefore Sum Average = 2 * Joint Average, only 1 needs to be calculated\n",
      "GLCM is symmetrical, therefore Sum Average = 2 * Joint Average, only 1 needs to be calculated\n",
      "GLCM is symmetrical, therefore Sum Average = 2 * Joint Average, only 1 needs to be calculated\n",
      "GLCM is symmetrical, therefore Sum Average = 2 * Joint Average, only 1 needs to be calculated\n"
     ]
    },
    {
     "name": "stdout",
     "output_type": "stream",
     "text": [
      "caowenyan.nii.gz\n"
     ]
    },
    {
     "name": "stderr",
     "output_type": "stream",
     "text": [
      "GLCM is symmetrical, therefore Sum Average = 2 * Joint Average, only 1 needs to be calculated\n",
      "GLCM is symmetrical, therefore Sum Average = 2 * Joint Average, only 1 needs to be calculated\n",
      "GLCM is symmetrical, therefore Sum Average = 2 * Joint Average, only 1 needs to be calculated\n",
      "GLCM is symmetrical, therefore Sum Average = 2 * Joint Average, only 1 needs to be calculated\n",
      "GLCM is symmetrical, therefore Sum Average = 2 * Joint Average, only 1 needs to be calculated\n",
      "GLCM is symmetrical, therefore Sum Average = 2 * Joint Average, only 1 needs to be calculated\n",
      "GLCM is symmetrical, therefore Sum Average = 2 * Joint Average, only 1 needs to be calculated\n",
      "GLCM is symmetrical, therefore Sum Average = 2 * Joint Average, only 1 needs to be calculated\n",
      "GLCM is symmetrical, therefore Sum Average = 2 * Joint Average, only 1 needs to be calculated\n",
      "GLCM is symmetrical, therefore Sum Average = 2 * Joint Average, only 1 needs to be calculated\n"
     ]
    },
    {
     "name": "stdout",
     "output_type": "stream",
     "text": [
      "xiongjiaxiang.nii.gz\n"
     ]
    },
    {
     "name": "stderr",
     "output_type": "stream",
     "text": [
      "GLCM is symmetrical, therefore Sum Average = 2 * Joint Average, only 1 needs to be calculated\n",
      "GLCM is symmetrical, therefore Sum Average = 2 * Joint Average, only 1 needs to be calculated\n",
      "GLCM is symmetrical, therefore Sum Average = 2 * Joint Average, only 1 needs to be calculated\n",
      "GLCM is symmetrical, therefore Sum Average = 2 * Joint Average, only 1 needs to be calculated\n",
      "GLCM is symmetrical, therefore Sum Average = 2 * Joint Average, only 1 needs to be calculated\n",
      "GLCM is symmetrical, therefore Sum Average = 2 * Joint Average, only 1 needs to be calculated\n",
      "GLCM is symmetrical, therefore Sum Average = 2 * Joint Average, only 1 needs to be calculated\n",
      "GLCM is symmetrical, therefore Sum Average = 2 * Joint Average, only 1 needs to be calculated\n",
      "GLCM is symmetrical, therefore Sum Average = 2 * Joint Average, only 1 needs to be calculated\n",
      "GLCM is symmetrical, therefore Sum Average = 2 * Joint Average, only 1 needs to be calculated\n"
     ]
    },
    {
     "name": "stdout",
     "output_type": "stream",
     "text": [
      "yangxianhao.nii.gz\n"
     ]
    },
    {
     "name": "stderr",
     "output_type": "stream",
     "text": [
      "GLCM is symmetrical, therefore Sum Average = 2 * Joint Average, only 1 needs to be calculated\n",
      "GLCM is symmetrical, therefore Sum Average = 2 * Joint Average, only 1 needs to be calculated\n",
      "GLCM is symmetrical, therefore Sum Average = 2 * Joint Average, only 1 needs to be calculated\n",
      "GLCM is symmetrical, therefore Sum Average = 2 * Joint Average, only 1 needs to be calculated\n",
      "GLCM is symmetrical, therefore Sum Average = 2 * Joint Average, only 1 needs to be calculated\n",
      "GLCM is symmetrical, therefore Sum Average = 2 * Joint Average, only 1 needs to be calculated\n",
      "GLCM is symmetrical, therefore Sum Average = 2 * Joint Average, only 1 needs to be calculated\n",
      "GLCM is symmetrical, therefore Sum Average = 2 * Joint Average, only 1 needs to be calculated\n",
      "GLCM is symmetrical, therefore Sum Average = 2 * Joint Average, only 1 needs to be calculated\n",
      "GLCM is symmetrical, therefore Sum Average = 2 * Joint Average, only 1 needs to be calculated\n"
     ]
    },
    {
     "name": "stdout",
     "output_type": "stream",
     "text": [
      "yizehua.nii.gz\n"
     ]
    },
    {
     "name": "stderr",
     "output_type": "stream",
     "text": [
      "GLCM is symmetrical, therefore Sum Average = 2 * Joint Average, only 1 needs to be calculated\n",
      "GLCM is symmetrical, therefore Sum Average = 2 * Joint Average, only 1 needs to be calculated\n",
      "GLCM is symmetrical, therefore Sum Average = 2 * Joint Average, only 1 needs to be calculated\n",
      "GLCM is symmetrical, therefore Sum Average = 2 * Joint Average, only 1 needs to be calculated\n",
      "GLCM is symmetrical, therefore Sum Average = 2 * Joint Average, only 1 needs to be calculated\n",
      "GLCM is symmetrical, therefore Sum Average = 2 * Joint Average, only 1 needs to be calculated\n",
      "GLCM is symmetrical, therefore Sum Average = 2 * Joint Average, only 1 needs to be calculated\n",
      "GLCM is symmetrical, therefore Sum Average = 2 * Joint Average, only 1 needs to be calculated\n",
      "GLCM is symmetrical, therefore Sum Average = 2 * Joint Average, only 1 needs to be calculated\n",
      "GLCM is symmetrical, therefore Sum Average = 2 * Joint Average, only 1 needs to be calculated\n"
     ]
    },
    {
     "name": "stdout",
     "output_type": "stream",
     "text": [
      "chencanlin.nii.gz\n"
     ]
    },
    {
     "name": "stderr",
     "output_type": "stream",
     "text": [
      "GLCM is symmetrical, therefore Sum Average = 2 * Joint Average, only 1 needs to be calculated\n",
      "GLCM is symmetrical, therefore Sum Average = 2 * Joint Average, only 1 needs to be calculated\n",
      "GLCM is symmetrical, therefore Sum Average = 2 * Joint Average, only 1 needs to be calculated\n",
      "GLCM is symmetrical, therefore Sum Average = 2 * Joint Average, only 1 needs to be calculated\n",
      "GLCM is symmetrical, therefore Sum Average = 2 * Joint Average, only 1 needs to be calculated\n",
      "GLCM is symmetrical, therefore Sum Average = 2 * Joint Average, only 1 needs to be calculated\n",
      "GLCM is symmetrical, therefore Sum Average = 2 * Joint Average, only 1 needs to be calculated\n",
      "GLCM is symmetrical, therefore Sum Average = 2 * Joint Average, only 1 needs to be calculated\n",
      "GLCM is symmetrical, therefore Sum Average = 2 * Joint Average, only 1 needs to be calculated\n",
      "GLCM is symmetrical, therefore Sum Average = 2 * Joint Average, only 1 needs to be calculated\n"
     ]
    },
    {
     "name": "stdout",
     "output_type": "stream",
     "text": [
      "guoliwei.nii.gz\n"
     ]
    },
    {
     "name": "stderr",
     "output_type": "stream",
     "text": [
      "GLCM is symmetrical, therefore Sum Average = 2 * Joint Average, only 1 needs to be calculated\n",
      "GLCM is symmetrical, therefore Sum Average = 2 * Joint Average, only 1 needs to be calculated\n",
      "GLCM is symmetrical, therefore Sum Average = 2 * Joint Average, only 1 needs to be calculated\n",
      "GLCM is symmetrical, therefore Sum Average = 2 * Joint Average, only 1 needs to be calculated\n",
      "GLCM is symmetrical, therefore Sum Average = 2 * Joint Average, only 1 needs to be calculated\n",
      "GLCM is symmetrical, therefore Sum Average = 2 * Joint Average, only 1 needs to be calculated\n",
      "GLCM is symmetrical, therefore Sum Average = 2 * Joint Average, only 1 needs to be calculated\n",
      "GLCM is symmetrical, therefore Sum Average = 2 * Joint Average, only 1 needs to be calculated\n",
      "GLCM is symmetrical, therefore Sum Average = 2 * Joint Average, only 1 needs to be calculated\n",
      "GLCM is symmetrical, therefore Sum Average = 2 * Joint Average, only 1 needs to be calculated\n"
     ]
    },
    {
     "name": "stdout",
     "output_type": "stream",
     "text": [
      "qiuguoliang.nii.gz\n"
     ]
    },
    {
     "name": "stderr",
     "output_type": "stream",
     "text": [
      "GLCM is symmetrical, therefore Sum Average = 2 * Joint Average, only 1 needs to be calculated\n",
      "GLCM is symmetrical, therefore Sum Average = 2 * Joint Average, only 1 needs to be calculated\n",
      "GLCM is symmetrical, therefore Sum Average = 2 * Joint Average, only 1 needs to be calculated\n",
      "GLCM is symmetrical, therefore Sum Average = 2 * Joint Average, only 1 needs to be calculated\n",
      "GLCM is symmetrical, therefore Sum Average = 2 * Joint Average, only 1 needs to be calculated\n",
      "GLCM is symmetrical, therefore Sum Average = 2 * Joint Average, only 1 needs to be calculated\n",
      "GLCM is symmetrical, therefore Sum Average = 2 * Joint Average, only 1 needs to be calculated\n",
      "GLCM is symmetrical, therefore Sum Average = 2 * Joint Average, only 1 needs to be calculated\n",
      "GLCM is symmetrical, therefore Sum Average = 2 * Joint Average, only 1 needs to be calculated\n",
      "GLCM is symmetrical, therefore Sum Average = 2 * Joint Average, only 1 needs to be calculated\n"
     ]
    },
    {
     "name": "stdout",
     "output_type": "stream",
     "text": [
      "honglianqin.nii.gz\n"
     ]
    },
    {
     "name": "stderr",
     "output_type": "stream",
     "text": [
      "GLCM is symmetrical, therefore Sum Average = 2 * Joint Average, only 1 needs to be calculated\n",
      "GLCM is symmetrical, therefore Sum Average = 2 * Joint Average, only 1 needs to be calculated\n",
      "GLCM is symmetrical, therefore Sum Average = 2 * Joint Average, only 1 needs to be calculated\n",
      "GLCM is symmetrical, therefore Sum Average = 2 * Joint Average, only 1 needs to be calculated\n",
      "GLCM is symmetrical, therefore Sum Average = 2 * Joint Average, only 1 needs to be calculated\n",
      "GLCM is symmetrical, therefore Sum Average = 2 * Joint Average, only 1 needs to be calculated\n",
      "GLCM is symmetrical, therefore Sum Average = 2 * Joint Average, only 1 needs to be calculated\n",
      "GLCM is symmetrical, therefore Sum Average = 2 * Joint Average, only 1 needs to be calculated\n",
      "GLCM is symmetrical, therefore Sum Average = 2 * Joint Average, only 1 needs to be calculated\n",
      "GLCM is symmetrical, therefore Sum Average = 2 * Joint Average, only 1 needs to be calculated\n"
     ]
    },
    {
     "name": "stdout",
     "output_type": "stream",
     "text": [
      "liuxiuying.nii.gz\n"
     ]
    },
    {
     "name": "stderr",
     "output_type": "stream",
     "text": [
      "GLCM is symmetrical, therefore Sum Average = 2 * Joint Average, only 1 needs to be calculated\n",
      "GLCM is symmetrical, therefore Sum Average = 2 * Joint Average, only 1 needs to be calculated\n",
      "GLCM is symmetrical, therefore Sum Average = 2 * Joint Average, only 1 needs to be calculated\n",
      "GLCM is symmetrical, therefore Sum Average = 2 * Joint Average, only 1 needs to be calculated\n",
      "GLCM is symmetrical, therefore Sum Average = 2 * Joint Average, only 1 needs to be calculated\n",
      "GLCM is symmetrical, therefore Sum Average = 2 * Joint Average, only 1 needs to be calculated\n",
      "GLCM is symmetrical, therefore Sum Average = 2 * Joint Average, only 1 needs to be calculated\n",
      "GLCM is symmetrical, therefore Sum Average = 2 * Joint Average, only 1 needs to be calculated\n",
      "GLCM is symmetrical, therefore Sum Average = 2 * Joint Average, only 1 needs to be calculated\n",
      "GLCM is symmetrical, therefore Sum Average = 2 * Joint Average, only 1 needs to be calculated\n"
     ]
    },
    {
     "name": "stdout",
     "output_type": "stream",
     "text": [
      "chenziyan.nii.gz\n"
     ]
    },
    {
     "name": "stderr",
     "output_type": "stream",
     "text": [
      "GLCM is symmetrical, therefore Sum Average = 2 * Joint Average, only 1 needs to be calculated\n",
      "GLCM is symmetrical, therefore Sum Average = 2 * Joint Average, only 1 needs to be calculated\n",
      "GLCM is symmetrical, therefore Sum Average = 2 * Joint Average, only 1 needs to be calculated\n",
      "GLCM is symmetrical, therefore Sum Average = 2 * Joint Average, only 1 needs to be calculated\n",
      "GLCM is symmetrical, therefore Sum Average = 2 * Joint Average, only 1 needs to be calculated\n",
      "GLCM is symmetrical, therefore Sum Average = 2 * Joint Average, only 1 needs to be calculated\n",
      "GLCM is symmetrical, therefore Sum Average = 2 * Joint Average, only 1 needs to be calculated\n",
      "GLCM is symmetrical, therefore Sum Average = 2 * Joint Average, only 1 needs to be calculated\n",
      "GLCM is symmetrical, therefore Sum Average = 2 * Joint Average, only 1 needs to be calculated\n",
      "GLCM is symmetrical, therefore Sum Average = 2 * Joint Average, only 1 needs to be calculated\n"
     ]
    },
    {
     "name": "stdout",
     "output_type": "stream",
     "text": [
      "huangpanpan.nii.gz\n"
     ]
    },
    {
     "name": "stderr",
     "output_type": "stream",
     "text": [
      "GLCM is symmetrical, therefore Sum Average = 2 * Joint Average, only 1 needs to be calculated\n",
      "GLCM is symmetrical, therefore Sum Average = 2 * Joint Average, only 1 needs to be calculated\n",
      "GLCM is symmetrical, therefore Sum Average = 2 * Joint Average, only 1 needs to be calculated\n",
      "GLCM is symmetrical, therefore Sum Average = 2 * Joint Average, only 1 needs to be calculated\n",
      "GLCM is symmetrical, therefore Sum Average = 2 * Joint Average, only 1 needs to be calculated\n",
      "GLCM is symmetrical, therefore Sum Average = 2 * Joint Average, only 1 needs to be calculated\n",
      "GLCM is symmetrical, therefore Sum Average = 2 * Joint Average, only 1 needs to be calculated\n",
      "GLCM is symmetrical, therefore Sum Average = 2 * Joint Average, only 1 needs to be calculated\n",
      "GLCM is symmetrical, therefore Sum Average = 2 * Joint Average, only 1 needs to be calculated\n",
      "GLCM is symmetrical, therefore Sum Average = 2 * Joint Average, only 1 needs to be calculated\n"
     ]
    },
    {
     "name": "stdout",
     "output_type": "stream",
     "text": [
      "chenzhuoyong.nii.gz\n"
     ]
    },
    {
     "name": "stderr",
     "output_type": "stream",
     "text": [
      "GLCM is symmetrical, therefore Sum Average = 2 * Joint Average, only 1 needs to be calculated\n",
      "GLCM is symmetrical, therefore Sum Average = 2 * Joint Average, only 1 needs to be calculated\n",
      "GLCM is symmetrical, therefore Sum Average = 2 * Joint Average, only 1 needs to be calculated\n",
      "GLCM is symmetrical, therefore Sum Average = 2 * Joint Average, only 1 needs to be calculated\n",
      "GLCM is symmetrical, therefore Sum Average = 2 * Joint Average, only 1 needs to be calculated\n",
      "GLCM is symmetrical, therefore Sum Average = 2 * Joint Average, only 1 needs to be calculated\n",
      "GLCM is symmetrical, therefore Sum Average = 2 * Joint Average, only 1 needs to be calculated\n",
      "GLCM is symmetrical, therefore Sum Average = 2 * Joint Average, only 1 needs to be calculated\n",
      "GLCM is symmetrical, therefore Sum Average = 2 * Joint Average, only 1 needs to be calculated\n",
      "GLCM is symmetrical, therefore Sum Average = 2 * Joint Average, only 1 needs to be calculated\n"
     ]
    },
    {
     "name": "stdout",
     "output_type": "stream",
     "text": [
      "yuanlinfeng.nii.gz\n"
     ]
    },
    {
     "name": "stderr",
     "output_type": "stream",
     "text": [
      "GLCM is symmetrical, therefore Sum Average = 2 * Joint Average, only 1 needs to be calculated\n",
      "GLCM is symmetrical, therefore Sum Average = 2 * Joint Average, only 1 needs to be calculated\n",
      "GLCM is symmetrical, therefore Sum Average = 2 * Joint Average, only 1 needs to be calculated\n",
      "GLCM is symmetrical, therefore Sum Average = 2 * Joint Average, only 1 needs to be calculated\n",
      "GLCM is symmetrical, therefore Sum Average = 2 * Joint Average, only 1 needs to be calculated\n",
      "GLCM is symmetrical, therefore Sum Average = 2 * Joint Average, only 1 needs to be calculated\n",
      "GLCM is symmetrical, therefore Sum Average = 2 * Joint Average, only 1 needs to be calculated\n",
      "GLCM is symmetrical, therefore Sum Average = 2 * Joint Average, only 1 needs to be calculated\n",
      "GLCM is symmetrical, therefore Sum Average = 2 * Joint Average, only 1 needs to be calculated\n",
      "GLCM is symmetrical, therefore Sum Average = 2 * Joint Average, only 1 needs to be calculated\n"
     ]
    },
    {
     "name": "stdout",
     "output_type": "stream",
     "text": [
      "xiongdaofeng.nii.gz\n"
     ]
    },
    {
     "name": "stderr",
     "output_type": "stream",
     "text": [
      "GLCM is symmetrical, therefore Sum Average = 2 * Joint Average, only 1 needs to be calculated\n",
      "GLCM is symmetrical, therefore Sum Average = 2 * Joint Average, only 1 needs to be calculated\n",
      "GLCM is symmetrical, therefore Sum Average = 2 * Joint Average, only 1 needs to be calculated\n",
      "GLCM is symmetrical, therefore Sum Average = 2 * Joint Average, only 1 needs to be calculated\n",
      "GLCM is symmetrical, therefore Sum Average = 2 * Joint Average, only 1 needs to be calculated\n",
      "GLCM is symmetrical, therefore Sum Average = 2 * Joint Average, only 1 needs to be calculated\n",
      "GLCM is symmetrical, therefore Sum Average = 2 * Joint Average, only 1 needs to be calculated\n",
      "GLCM is symmetrical, therefore Sum Average = 2 * Joint Average, only 1 needs to be calculated\n",
      "GLCM is symmetrical, therefore Sum Average = 2 * Joint Average, only 1 needs to be calculated\n",
      "GLCM is symmetrical, therefore Sum Average = 2 * Joint Average, only 1 needs to be calculated\n"
     ]
    },
    {
     "name": "stdout",
     "output_type": "stream",
     "text": [
      "aoleixu.nii.gz\n"
     ]
    },
    {
     "name": "stderr",
     "output_type": "stream",
     "text": [
      "GLCM is symmetrical, therefore Sum Average = 2 * Joint Average, only 1 needs to be calculated\n",
      "GLCM is symmetrical, therefore Sum Average = 2 * Joint Average, only 1 needs to be calculated\n",
      "GLCM is symmetrical, therefore Sum Average = 2 * Joint Average, only 1 needs to be calculated\n",
      "GLCM is symmetrical, therefore Sum Average = 2 * Joint Average, only 1 needs to be calculated\n",
      "GLCM is symmetrical, therefore Sum Average = 2 * Joint Average, only 1 needs to be calculated\n",
      "GLCM is symmetrical, therefore Sum Average = 2 * Joint Average, only 1 needs to be calculated\n",
      "GLCM is symmetrical, therefore Sum Average = 2 * Joint Average, only 1 needs to be calculated\n",
      "GLCM is symmetrical, therefore Sum Average = 2 * Joint Average, only 1 needs to be calculated\n",
      "GLCM is symmetrical, therefore Sum Average = 2 * Joint Average, only 1 needs to be calculated\n",
      "GLCM is symmetrical, therefore Sum Average = 2 * Joint Average, only 1 needs to be calculated\n"
     ]
    },
    {
     "name": "stdout",
     "output_type": "stream",
     "text": [
      "tanguoqiang.nii.gz\n"
     ]
    },
    {
     "name": "stderr",
     "output_type": "stream",
     "text": [
      "GLCM is symmetrical, therefore Sum Average = 2 * Joint Average, only 1 needs to be calculated\n",
      "GLCM is symmetrical, therefore Sum Average = 2 * Joint Average, only 1 needs to be calculated\n",
      "GLCM is symmetrical, therefore Sum Average = 2 * Joint Average, only 1 needs to be calculated\n",
      "GLCM is symmetrical, therefore Sum Average = 2 * Joint Average, only 1 needs to be calculated\n",
      "GLCM is symmetrical, therefore Sum Average = 2 * Joint Average, only 1 needs to be calculated\n",
      "GLCM is symmetrical, therefore Sum Average = 2 * Joint Average, only 1 needs to be calculated\n",
      "GLCM is symmetrical, therefore Sum Average = 2 * Joint Average, only 1 needs to be calculated\n",
      "GLCM is symmetrical, therefore Sum Average = 2 * Joint Average, only 1 needs to be calculated\n",
      "GLCM is symmetrical, therefore Sum Average = 2 * Joint Average, only 1 needs to be calculated\n",
      "GLCM is symmetrical, therefore Sum Average = 2 * Joint Average, only 1 needs to be calculated\n"
     ]
    },
    {
     "name": "stdout",
     "output_type": "stream",
     "text": [
      "jiangweimin.nii.gz\n"
     ]
    },
    {
     "name": "stderr",
     "output_type": "stream",
     "text": [
      "GLCM is symmetrical, therefore Sum Average = 2 * Joint Average, only 1 needs to be calculated\n",
      "GLCM is symmetrical, therefore Sum Average = 2 * Joint Average, only 1 needs to be calculated\n",
      "GLCM is symmetrical, therefore Sum Average = 2 * Joint Average, only 1 needs to be calculated\n",
      "GLCM is symmetrical, therefore Sum Average = 2 * Joint Average, only 1 needs to be calculated\n",
      "GLCM is symmetrical, therefore Sum Average = 2 * Joint Average, only 1 needs to be calculated\n",
      "GLCM is symmetrical, therefore Sum Average = 2 * Joint Average, only 1 needs to be calculated\n",
      "GLCM is symmetrical, therefore Sum Average = 2 * Joint Average, only 1 needs to be calculated\n",
      "GLCM is symmetrical, therefore Sum Average = 2 * Joint Average, only 1 needs to be calculated\n",
      "GLCM is symmetrical, therefore Sum Average = 2 * Joint Average, only 1 needs to be calculated\n",
      "GLCM is symmetrical, therefore Sum Average = 2 * Joint Average, only 1 needs to be calculated\n"
     ]
    },
    {
     "name": "stdout",
     "output_type": "stream",
     "text": [
      "yaoyijin.nii.gz\n"
     ]
    },
    {
     "name": "stderr",
     "output_type": "stream",
     "text": [
      "GLCM is symmetrical, therefore Sum Average = 2 * Joint Average, only 1 needs to be calculated\n",
      "GLCM is symmetrical, therefore Sum Average = 2 * Joint Average, only 1 needs to be calculated\n",
      "GLCM is symmetrical, therefore Sum Average = 2 * Joint Average, only 1 needs to be calculated\n",
      "GLCM is symmetrical, therefore Sum Average = 2 * Joint Average, only 1 needs to be calculated\n",
      "GLCM is symmetrical, therefore Sum Average = 2 * Joint Average, only 1 needs to be calculated\n",
      "GLCM is symmetrical, therefore Sum Average = 2 * Joint Average, only 1 needs to be calculated\n",
      "GLCM is symmetrical, therefore Sum Average = 2 * Joint Average, only 1 needs to be calculated\n",
      "GLCM is symmetrical, therefore Sum Average = 2 * Joint Average, only 1 needs to be calculated\n",
      "GLCM is symmetrical, therefore Sum Average = 2 * Joint Average, only 1 needs to be calculated\n",
      "GLCM is symmetrical, therefore Sum Average = 2 * Joint Average, only 1 needs to be calculated\n"
     ]
    },
    {
     "name": "stdout",
     "output_type": "stream",
     "text": [
      "zoushiyan.nii.gz\n"
     ]
    },
    {
     "name": "stderr",
     "output_type": "stream",
     "text": [
      "GLCM is symmetrical, therefore Sum Average = 2 * Joint Average, only 1 needs to be calculated\n",
      "GLCM is symmetrical, therefore Sum Average = 2 * Joint Average, only 1 needs to be calculated\n",
      "GLCM is symmetrical, therefore Sum Average = 2 * Joint Average, only 1 needs to be calculated\n",
      "GLCM is symmetrical, therefore Sum Average = 2 * Joint Average, only 1 needs to be calculated\n",
      "GLCM is symmetrical, therefore Sum Average = 2 * Joint Average, only 1 needs to be calculated\n",
      "GLCM is symmetrical, therefore Sum Average = 2 * Joint Average, only 1 needs to be calculated\n",
      "GLCM is symmetrical, therefore Sum Average = 2 * Joint Average, only 1 needs to be calculated\n",
      "GLCM is symmetrical, therefore Sum Average = 2 * Joint Average, only 1 needs to be calculated\n",
      "GLCM is symmetrical, therefore Sum Average = 2 * Joint Average, only 1 needs to be calculated\n",
      "GLCM is symmetrical, therefore Sum Average = 2 * Joint Average, only 1 needs to be calculated\n"
     ]
    },
    {
     "name": "stdout",
     "output_type": "stream",
     "text": [
      "wangjiangmin.nii.gz\n"
     ]
    },
    {
     "name": "stderr",
     "output_type": "stream",
     "text": [
      "GLCM is symmetrical, therefore Sum Average = 2 * Joint Average, only 1 needs to be calculated\n",
      "GLCM is symmetrical, therefore Sum Average = 2 * Joint Average, only 1 needs to be calculated\n",
      "GLCM is symmetrical, therefore Sum Average = 2 * Joint Average, only 1 needs to be calculated\n",
      "GLCM is symmetrical, therefore Sum Average = 2 * Joint Average, only 1 needs to be calculated\n",
      "GLCM is symmetrical, therefore Sum Average = 2 * Joint Average, only 1 needs to be calculated\n",
      "GLCM is symmetrical, therefore Sum Average = 2 * Joint Average, only 1 needs to be calculated\n",
      "GLCM is symmetrical, therefore Sum Average = 2 * Joint Average, only 1 needs to be calculated\n",
      "GLCM is symmetrical, therefore Sum Average = 2 * Joint Average, only 1 needs to be calculated\n",
      "GLCM is symmetrical, therefore Sum Average = 2 * Joint Average, only 1 needs to be calculated\n",
      "GLCM is symmetrical, therefore Sum Average = 2 * Joint Average, only 1 needs to be calculated\n"
     ]
    },
    {
     "name": "stdout",
     "output_type": "stream",
     "text": [
      "zhangxinming.nii.gz\n"
     ]
    },
    {
     "name": "stderr",
     "output_type": "stream",
     "text": [
      "GLCM is symmetrical, therefore Sum Average = 2 * Joint Average, only 1 needs to be calculated\n",
      "GLCM is symmetrical, therefore Sum Average = 2 * Joint Average, only 1 needs to be calculated\n",
      "GLCM is symmetrical, therefore Sum Average = 2 * Joint Average, only 1 needs to be calculated\n",
      "GLCM is symmetrical, therefore Sum Average = 2 * Joint Average, only 1 needs to be calculated\n",
      "GLCM is symmetrical, therefore Sum Average = 2 * Joint Average, only 1 needs to be calculated\n",
      "GLCM is symmetrical, therefore Sum Average = 2 * Joint Average, only 1 needs to be calculated\n",
      "GLCM is symmetrical, therefore Sum Average = 2 * Joint Average, only 1 needs to be calculated\n",
      "GLCM is symmetrical, therefore Sum Average = 2 * Joint Average, only 1 needs to be calculated\n",
      "GLCM is symmetrical, therefore Sum Average = 2 * Joint Average, only 1 needs to be calculated\n",
      "GLCM is symmetrical, therefore Sum Average = 2 * Joint Average, only 1 needs to be calculated\n"
     ]
    },
    {
     "name": "stdout",
     "output_type": "stream",
     "text": [
      "lihaoming.nii.gz\n"
     ]
    },
    {
     "name": "stderr",
     "output_type": "stream",
     "text": [
      "GLCM is symmetrical, therefore Sum Average = 2 * Joint Average, only 1 needs to be calculated\n",
      "GLCM is symmetrical, therefore Sum Average = 2 * Joint Average, only 1 needs to be calculated\n",
      "GLCM is symmetrical, therefore Sum Average = 2 * Joint Average, only 1 needs to be calculated\n",
      "GLCM is symmetrical, therefore Sum Average = 2 * Joint Average, only 1 needs to be calculated\n",
      "GLCM is symmetrical, therefore Sum Average = 2 * Joint Average, only 1 needs to be calculated\n",
      "GLCM is symmetrical, therefore Sum Average = 2 * Joint Average, only 1 needs to be calculated\n",
      "GLCM is symmetrical, therefore Sum Average = 2 * Joint Average, only 1 needs to be calculated\n",
      "GLCM is symmetrical, therefore Sum Average = 2 * Joint Average, only 1 needs to be calculated\n",
      "GLCM is symmetrical, therefore Sum Average = 2 * Joint Average, only 1 needs to be calculated\n",
      "GLCM is symmetrical, therefore Sum Average = 2 * Joint Average, only 1 needs to be calculated\n"
     ]
    },
    {
     "name": "stdout",
     "output_type": "stream",
     "text": [
      "xuyanghao.nii.gz\n"
     ]
    },
    {
     "name": "stderr",
     "output_type": "stream",
     "text": [
      "GLCM is symmetrical, therefore Sum Average = 2 * Joint Average, only 1 needs to be calculated\n",
      "GLCM is symmetrical, therefore Sum Average = 2 * Joint Average, only 1 needs to be calculated\n",
      "GLCM is symmetrical, therefore Sum Average = 2 * Joint Average, only 1 needs to be calculated\n",
      "GLCM is symmetrical, therefore Sum Average = 2 * Joint Average, only 1 needs to be calculated\n",
      "GLCM is symmetrical, therefore Sum Average = 2 * Joint Average, only 1 needs to be calculated\n",
      "GLCM is symmetrical, therefore Sum Average = 2 * Joint Average, only 1 needs to be calculated\n",
      "GLCM is symmetrical, therefore Sum Average = 2 * Joint Average, only 1 needs to be calculated\n",
      "GLCM is symmetrical, therefore Sum Average = 2 * Joint Average, only 1 needs to be calculated\n",
      "GLCM is symmetrical, therefore Sum Average = 2 * Joint Average, only 1 needs to be calculated\n",
      "GLCM is symmetrical, therefore Sum Average = 2 * Joint Average, only 1 needs to be calculated\n"
     ]
    },
    {
     "name": "stdout",
     "output_type": "stream",
     "text": [
      "minxinyi.nii.gz\n"
     ]
    },
    {
     "name": "stderr",
     "output_type": "stream",
     "text": [
      "GLCM is symmetrical, therefore Sum Average = 2 * Joint Average, only 1 needs to be calculated\n",
      "GLCM is symmetrical, therefore Sum Average = 2 * Joint Average, only 1 needs to be calculated\n",
      "GLCM is symmetrical, therefore Sum Average = 2 * Joint Average, only 1 needs to be calculated\n",
      "GLCM is symmetrical, therefore Sum Average = 2 * Joint Average, only 1 needs to be calculated\n",
      "GLCM is symmetrical, therefore Sum Average = 2 * Joint Average, only 1 needs to be calculated\n",
      "GLCM is symmetrical, therefore Sum Average = 2 * Joint Average, only 1 needs to be calculated\n",
      "GLCM is symmetrical, therefore Sum Average = 2 * Joint Average, only 1 needs to be calculated\n",
      "GLCM is symmetrical, therefore Sum Average = 2 * Joint Average, only 1 needs to be calculated\n",
      "GLCM is symmetrical, therefore Sum Average = 2 * Joint Average, only 1 needs to be calculated\n",
      "GLCM is symmetrical, therefore Sum Average = 2 * Joint Average, only 1 needs to be calculated\n"
     ]
    },
    {
     "name": "stdout",
     "output_type": "stream",
     "text": [
      "tuzhixiao.nii.gz\n"
     ]
    },
    {
     "name": "stderr",
     "output_type": "stream",
     "text": [
      "GLCM is symmetrical, therefore Sum Average = 2 * Joint Average, only 1 needs to be calculated\n",
      "GLCM is symmetrical, therefore Sum Average = 2 * Joint Average, only 1 needs to be calculated\n",
      "GLCM is symmetrical, therefore Sum Average = 2 * Joint Average, only 1 needs to be calculated\n",
      "GLCM is symmetrical, therefore Sum Average = 2 * Joint Average, only 1 needs to be calculated\n",
      "GLCM is symmetrical, therefore Sum Average = 2 * Joint Average, only 1 needs to be calculated\n",
      "GLCM is symmetrical, therefore Sum Average = 2 * Joint Average, only 1 needs to be calculated\n",
      "GLCM is symmetrical, therefore Sum Average = 2 * Joint Average, only 1 needs to be calculated\n",
      "GLCM is symmetrical, therefore Sum Average = 2 * Joint Average, only 1 needs to be calculated\n",
      "GLCM is symmetrical, therefore Sum Average = 2 * Joint Average, only 1 needs to be calculated\n",
      "GLCM is symmetrical, therefore Sum Average = 2 * Joint Average, only 1 needs to be calculated\n"
     ]
    },
    {
     "name": "stdout",
     "output_type": "stream",
     "text": [
      "liuhaoxuan.nii.gz\n"
     ]
    },
    {
     "name": "stderr",
     "output_type": "stream",
     "text": [
      "GLCM is symmetrical, therefore Sum Average = 2 * Joint Average, only 1 needs to be calculated\n",
      "GLCM is symmetrical, therefore Sum Average = 2 * Joint Average, only 1 needs to be calculated\n",
      "GLCM is symmetrical, therefore Sum Average = 2 * Joint Average, only 1 needs to be calculated\n",
      "GLCM is symmetrical, therefore Sum Average = 2 * Joint Average, only 1 needs to be calculated\n",
      "GLCM is symmetrical, therefore Sum Average = 2 * Joint Average, only 1 needs to be calculated\n",
      "GLCM is symmetrical, therefore Sum Average = 2 * Joint Average, only 1 needs to be calculated\n",
      "GLCM is symmetrical, therefore Sum Average = 2 * Joint Average, only 1 needs to be calculated\n",
      "GLCM is symmetrical, therefore Sum Average = 2 * Joint Average, only 1 needs to be calculated\n",
      "GLCM is symmetrical, therefore Sum Average = 2 * Joint Average, only 1 needs to be calculated\n",
      "GLCM is symmetrical, therefore Sum Average = 2 * Joint Average, only 1 needs to be calculated\n"
     ]
    },
    {
     "name": "stdout",
     "output_type": "stream",
     "text": [
      "daiyanfang.nii.gz\n"
     ]
    },
    {
     "name": "stderr",
     "output_type": "stream",
     "text": [
      "GLCM is symmetrical, therefore Sum Average = 2 * Joint Average, only 1 needs to be calculated\n",
      "GLCM is symmetrical, therefore Sum Average = 2 * Joint Average, only 1 needs to be calculated\n",
      "GLCM is symmetrical, therefore Sum Average = 2 * Joint Average, only 1 needs to be calculated\n",
      "GLCM is symmetrical, therefore Sum Average = 2 * Joint Average, only 1 needs to be calculated\n",
      "GLCM is symmetrical, therefore Sum Average = 2 * Joint Average, only 1 needs to be calculated\n",
      "GLCM is symmetrical, therefore Sum Average = 2 * Joint Average, only 1 needs to be calculated\n",
      "GLCM is symmetrical, therefore Sum Average = 2 * Joint Average, only 1 needs to be calculated\n",
      "GLCM is symmetrical, therefore Sum Average = 2 * Joint Average, only 1 needs to be calculated\n",
      "GLCM is symmetrical, therefore Sum Average = 2 * Joint Average, only 1 needs to be calculated\n",
      "GLCM is symmetrical, therefore Sum Average = 2 * Joint Average, only 1 needs to be calculated\n"
     ]
    },
    {
     "name": "stdout",
     "output_type": "stream",
     "text": [
      "lezhikun.nii.gz\n"
     ]
    },
    {
     "name": "stderr",
     "output_type": "stream",
     "text": [
      "GLCM is symmetrical, therefore Sum Average = 2 * Joint Average, only 1 needs to be calculated\n",
      "GLCM is symmetrical, therefore Sum Average = 2 * Joint Average, only 1 needs to be calculated\n",
      "GLCM is symmetrical, therefore Sum Average = 2 * Joint Average, only 1 needs to be calculated\n",
      "GLCM is symmetrical, therefore Sum Average = 2 * Joint Average, only 1 needs to be calculated\n",
      "GLCM is symmetrical, therefore Sum Average = 2 * Joint Average, only 1 needs to be calculated\n",
      "GLCM is symmetrical, therefore Sum Average = 2 * Joint Average, only 1 needs to be calculated\n",
      "GLCM is symmetrical, therefore Sum Average = 2 * Joint Average, only 1 needs to be calculated\n",
      "GLCM is symmetrical, therefore Sum Average = 2 * Joint Average, only 1 needs to be calculated\n",
      "GLCM is symmetrical, therefore Sum Average = 2 * Joint Average, only 1 needs to be calculated\n",
      "GLCM is symmetrical, therefore Sum Average = 2 * Joint Average, only 1 needs to be calculated\n"
     ]
    },
    {
     "name": "stdout",
     "output_type": "stream",
     "text": [
      "cengzhiyu.nii.gz\n"
     ]
    },
    {
     "name": "stderr",
     "output_type": "stream",
     "text": [
      "GLCM is symmetrical, therefore Sum Average = 2 * Joint Average, only 1 needs to be calculated\n",
      "GLCM is symmetrical, therefore Sum Average = 2 * Joint Average, only 1 needs to be calculated\n",
      "GLCM is symmetrical, therefore Sum Average = 2 * Joint Average, only 1 needs to be calculated\n",
      "GLCM is symmetrical, therefore Sum Average = 2 * Joint Average, only 1 needs to be calculated\n",
      "GLCM is symmetrical, therefore Sum Average = 2 * Joint Average, only 1 needs to be calculated\n",
      "GLCM is symmetrical, therefore Sum Average = 2 * Joint Average, only 1 needs to be calculated\n",
      "GLCM is symmetrical, therefore Sum Average = 2 * Joint Average, only 1 needs to be calculated\n",
      "GLCM is symmetrical, therefore Sum Average = 2 * Joint Average, only 1 needs to be calculated\n",
      "GLCM is symmetrical, therefore Sum Average = 2 * Joint Average, only 1 needs to be calculated\n",
      "GLCM is symmetrical, therefore Sum Average = 2 * Joint Average, only 1 needs to be calculated\n"
     ]
    },
    {
     "name": "stdout",
     "output_type": "stream",
     "text": [
      "huangxin.nii.gz\n"
     ]
    },
    {
     "name": "stderr",
     "output_type": "stream",
     "text": [
      "GLCM is symmetrical, therefore Sum Average = 2 * Joint Average, only 1 needs to be calculated\n",
      "GLCM is symmetrical, therefore Sum Average = 2 * Joint Average, only 1 needs to be calculated\n",
      "GLCM is symmetrical, therefore Sum Average = 2 * Joint Average, only 1 needs to be calculated\n",
      "GLCM is symmetrical, therefore Sum Average = 2 * Joint Average, only 1 needs to be calculated\n",
      "GLCM is symmetrical, therefore Sum Average = 2 * Joint Average, only 1 needs to be calculated\n",
      "GLCM is symmetrical, therefore Sum Average = 2 * Joint Average, only 1 needs to be calculated\n",
      "GLCM is symmetrical, therefore Sum Average = 2 * Joint Average, only 1 needs to be calculated\n",
      "GLCM is symmetrical, therefore Sum Average = 2 * Joint Average, only 1 needs to be calculated\n",
      "GLCM is symmetrical, therefore Sum Average = 2 * Joint Average, only 1 needs to be calculated\n",
      "GLCM is symmetrical, therefore Sum Average = 2 * Joint Average, only 1 needs to be calculated\n"
     ]
    },
    {
     "name": "stdout",
     "output_type": "stream",
     "text": [
      "qiumeifeng.nii.gz\n"
     ]
    },
    {
     "name": "stderr",
     "output_type": "stream",
     "text": [
      "GLCM is symmetrical, therefore Sum Average = 2 * Joint Average, only 1 needs to be calculated\n",
      "GLCM is symmetrical, therefore Sum Average = 2 * Joint Average, only 1 needs to be calculated\n",
      "GLCM is symmetrical, therefore Sum Average = 2 * Joint Average, only 1 needs to be calculated\n",
      "GLCM is symmetrical, therefore Sum Average = 2 * Joint Average, only 1 needs to be calculated\n",
      "GLCM is symmetrical, therefore Sum Average = 2 * Joint Average, only 1 needs to be calculated\n",
      "GLCM is symmetrical, therefore Sum Average = 2 * Joint Average, only 1 needs to be calculated\n",
      "GLCM is symmetrical, therefore Sum Average = 2 * Joint Average, only 1 needs to be calculated\n",
      "GLCM is symmetrical, therefore Sum Average = 2 * Joint Average, only 1 needs to be calculated\n",
      "GLCM is symmetrical, therefore Sum Average = 2 * Joint Average, only 1 needs to be calculated\n",
      "GLCM is symmetrical, therefore Sum Average = 2 * Joint Average, only 1 needs to be calculated\n"
     ]
    },
    {
     "name": "stdout",
     "output_type": "stream",
     "text": [
      "liwu.nii.gz\n"
     ]
    },
    {
     "name": "stderr",
     "output_type": "stream",
     "text": [
      "GLCM is symmetrical, therefore Sum Average = 2 * Joint Average, only 1 needs to be calculated\n",
      "GLCM is symmetrical, therefore Sum Average = 2 * Joint Average, only 1 needs to be calculated\n",
      "GLCM is symmetrical, therefore Sum Average = 2 * Joint Average, only 1 needs to be calculated\n",
      "GLCM is symmetrical, therefore Sum Average = 2 * Joint Average, only 1 needs to be calculated\n",
      "GLCM is symmetrical, therefore Sum Average = 2 * Joint Average, only 1 needs to be calculated\n",
      "GLCM is symmetrical, therefore Sum Average = 2 * Joint Average, only 1 needs to be calculated\n",
      "GLCM is symmetrical, therefore Sum Average = 2 * Joint Average, only 1 needs to be calculated\n",
      "GLCM is symmetrical, therefore Sum Average = 2 * Joint Average, only 1 needs to be calculated\n",
      "GLCM is symmetrical, therefore Sum Average = 2 * Joint Average, only 1 needs to be calculated\n",
      "GLCM is symmetrical, therefore Sum Average = 2 * Joint Average, only 1 needs to be calculated\n"
     ]
    },
    {
     "name": "stdout",
     "output_type": "stream",
     "text": [
      "yuxinyue.nii.gz\n"
     ]
    },
    {
     "name": "stderr",
     "output_type": "stream",
     "text": [
      "GLCM is symmetrical, therefore Sum Average = 2 * Joint Average, only 1 needs to be calculated\n",
      "GLCM is symmetrical, therefore Sum Average = 2 * Joint Average, only 1 needs to be calculated\n",
      "GLCM is symmetrical, therefore Sum Average = 2 * Joint Average, only 1 needs to be calculated\n",
      "GLCM is symmetrical, therefore Sum Average = 2 * Joint Average, only 1 needs to be calculated\n",
      "GLCM is symmetrical, therefore Sum Average = 2 * Joint Average, only 1 needs to be calculated\n",
      "GLCM is symmetrical, therefore Sum Average = 2 * Joint Average, only 1 needs to be calculated\n",
      "GLCM is symmetrical, therefore Sum Average = 2 * Joint Average, only 1 needs to be calculated\n",
      "GLCM is symmetrical, therefore Sum Average = 2 * Joint Average, only 1 needs to be calculated\n",
      "GLCM is symmetrical, therefore Sum Average = 2 * Joint Average, only 1 needs to be calculated\n",
      "GLCM is symmetrical, therefore Sum Average = 2 * Joint Average, only 1 needs to be calculated\n"
     ]
    },
    {
     "name": "stdout",
     "output_type": "stream",
     "text": [
      "sunxiang.nii.gz\n"
     ]
    },
    {
     "name": "stderr",
     "output_type": "stream",
     "text": [
      "GLCM is symmetrical, therefore Sum Average = 2 * Joint Average, only 1 needs to be calculated\n",
      "GLCM is symmetrical, therefore Sum Average = 2 * Joint Average, only 1 needs to be calculated\n",
      "GLCM is symmetrical, therefore Sum Average = 2 * Joint Average, only 1 needs to be calculated\n",
      "GLCM is symmetrical, therefore Sum Average = 2 * Joint Average, only 1 needs to be calculated\n",
      "GLCM is symmetrical, therefore Sum Average = 2 * Joint Average, only 1 needs to be calculated\n",
      "GLCM is symmetrical, therefore Sum Average = 2 * Joint Average, only 1 needs to be calculated\n",
      "GLCM is symmetrical, therefore Sum Average = 2 * Joint Average, only 1 needs to be calculated\n",
      "GLCM is symmetrical, therefore Sum Average = 2 * Joint Average, only 1 needs to be calculated\n",
      "GLCM is symmetrical, therefore Sum Average = 2 * Joint Average, only 1 needs to be calculated\n",
      "GLCM is symmetrical, therefore Sum Average = 2 * Joint Average, only 1 needs to be calculated\n"
     ]
    },
    {
     "name": "stdout",
     "output_type": "stream",
     "text": [
      "guowenjing.nii.gz\n"
     ]
    },
    {
     "name": "stderr",
     "output_type": "stream",
     "text": [
      "GLCM is symmetrical, therefore Sum Average = 2 * Joint Average, only 1 needs to be calculated\n",
      "GLCM is symmetrical, therefore Sum Average = 2 * Joint Average, only 1 needs to be calculated\n",
      "GLCM is symmetrical, therefore Sum Average = 2 * Joint Average, only 1 needs to be calculated\n",
      "GLCM is symmetrical, therefore Sum Average = 2 * Joint Average, only 1 needs to be calculated\n",
      "GLCM is symmetrical, therefore Sum Average = 2 * Joint Average, only 1 needs to be calculated\n",
      "GLCM is symmetrical, therefore Sum Average = 2 * Joint Average, only 1 needs to be calculated\n",
      "GLCM is symmetrical, therefore Sum Average = 2 * Joint Average, only 1 needs to be calculated\n",
      "GLCM is symmetrical, therefore Sum Average = 2 * Joint Average, only 1 needs to be calculated\n",
      "GLCM is symmetrical, therefore Sum Average = 2 * Joint Average, only 1 needs to be calculated\n",
      "GLCM is symmetrical, therefore Sum Average = 2 * Joint Average, only 1 needs to be calculated\n"
     ]
    },
    {
     "name": "stdout",
     "output_type": "stream",
     "text": [
      "yuhaoyu.nii.gz\n"
     ]
    },
    {
     "name": "stderr",
     "output_type": "stream",
     "text": [
      "GLCM is symmetrical, therefore Sum Average = 2 * Joint Average, only 1 needs to be calculated\n",
      "GLCM is symmetrical, therefore Sum Average = 2 * Joint Average, only 1 needs to be calculated\n",
      "GLCM is symmetrical, therefore Sum Average = 2 * Joint Average, only 1 needs to be calculated\n",
      "GLCM is symmetrical, therefore Sum Average = 2 * Joint Average, only 1 needs to be calculated\n",
      "GLCM is symmetrical, therefore Sum Average = 2 * Joint Average, only 1 needs to be calculated\n",
      "GLCM is symmetrical, therefore Sum Average = 2 * Joint Average, only 1 needs to be calculated\n",
      "GLCM is symmetrical, therefore Sum Average = 2 * Joint Average, only 1 needs to be calculated\n",
      "GLCM is symmetrical, therefore Sum Average = 2 * Joint Average, only 1 needs to be calculated\n",
      "GLCM is symmetrical, therefore Sum Average = 2 * Joint Average, only 1 needs to be calculated\n",
      "GLCM is symmetrical, therefore Sum Average = 2 * Joint Average, only 1 needs to be calculated\n"
     ]
    },
    {
     "name": "stdout",
     "output_type": "stream",
     "text": [
      "zhouhuina.nii.gz\n"
     ]
    },
    {
     "name": "stderr",
     "output_type": "stream",
     "text": [
      "GLCM is symmetrical, therefore Sum Average = 2 * Joint Average, only 1 needs to be calculated\n",
      "GLCM is symmetrical, therefore Sum Average = 2 * Joint Average, only 1 needs to be calculated\n",
      "GLCM is symmetrical, therefore Sum Average = 2 * Joint Average, only 1 needs to be calculated\n",
      "GLCM is symmetrical, therefore Sum Average = 2 * Joint Average, only 1 needs to be calculated\n",
      "GLCM is symmetrical, therefore Sum Average = 2 * Joint Average, only 1 needs to be calculated\n",
      "GLCM is symmetrical, therefore Sum Average = 2 * Joint Average, only 1 needs to be calculated\n",
      "GLCM is symmetrical, therefore Sum Average = 2 * Joint Average, only 1 needs to be calculated\n",
      "GLCM is symmetrical, therefore Sum Average = 2 * Joint Average, only 1 needs to be calculated\n",
      "GLCM is symmetrical, therefore Sum Average = 2 * Joint Average, only 1 needs to be calculated\n",
      "GLCM is symmetrical, therefore Sum Average = 2 * Joint Average, only 1 needs to be calculated\n"
     ]
    },
    {
     "name": "stdout",
     "output_type": "stream",
     "text": [
      "xiehongbin.nii.gz\n"
     ]
    },
    {
     "name": "stderr",
     "output_type": "stream",
     "text": [
      "GLCM is symmetrical, therefore Sum Average = 2 * Joint Average, only 1 needs to be calculated\n",
      "GLCM is symmetrical, therefore Sum Average = 2 * Joint Average, only 1 needs to be calculated\n",
      "GLCM is symmetrical, therefore Sum Average = 2 * Joint Average, only 1 needs to be calculated\n",
      "GLCM is symmetrical, therefore Sum Average = 2 * Joint Average, only 1 needs to be calculated\n",
      "GLCM is symmetrical, therefore Sum Average = 2 * Joint Average, only 1 needs to be calculated\n",
      "GLCM is symmetrical, therefore Sum Average = 2 * Joint Average, only 1 needs to be calculated\n",
      "GLCM is symmetrical, therefore Sum Average = 2 * Joint Average, only 1 needs to be calculated\n",
      "GLCM is symmetrical, therefore Sum Average = 2 * Joint Average, only 1 needs to be calculated\n",
      "GLCM is symmetrical, therefore Sum Average = 2 * Joint Average, only 1 needs to be calculated\n",
      "GLCM is symmetrical, therefore Sum Average = 2 * Joint Average, only 1 needs to be calculated\n"
     ]
    },
    {
     "name": "stdout",
     "output_type": "stream",
     "text": [
      "zouchangbao.nii.gz\n"
     ]
    },
    {
     "name": "stderr",
     "output_type": "stream",
     "text": [
      "GLCM is symmetrical, therefore Sum Average = 2 * Joint Average, only 1 needs to be calculated\n",
      "GLCM is symmetrical, therefore Sum Average = 2 * Joint Average, only 1 needs to be calculated\n",
      "GLCM is symmetrical, therefore Sum Average = 2 * Joint Average, only 1 needs to be calculated\n",
      "GLCM is symmetrical, therefore Sum Average = 2 * Joint Average, only 1 needs to be calculated\n",
      "GLCM is symmetrical, therefore Sum Average = 2 * Joint Average, only 1 needs to be calculated\n",
      "GLCM is symmetrical, therefore Sum Average = 2 * Joint Average, only 1 needs to be calculated\n",
      "GLCM is symmetrical, therefore Sum Average = 2 * Joint Average, only 1 needs to be calculated\n",
      "GLCM is symmetrical, therefore Sum Average = 2 * Joint Average, only 1 needs to be calculated\n",
      "GLCM is symmetrical, therefore Sum Average = 2 * Joint Average, only 1 needs to be calculated\n",
      "GLCM is symmetrical, therefore Sum Average = 2 * Joint Average, only 1 needs to be calculated\n"
     ]
    },
    {
     "name": "stdout",
     "output_type": "stream",
     "text": [
      "luohuomin.nii.gz\n"
     ]
    },
    {
     "name": "stderr",
     "output_type": "stream",
     "text": [
      "GLCM is symmetrical, therefore Sum Average = 2 * Joint Average, only 1 needs to be calculated\n",
      "GLCM is symmetrical, therefore Sum Average = 2 * Joint Average, only 1 needs to be calculated\n",
      "GLCM is symmetrical, therefore Sum Average = 2 * Joint Average, only 1 needs to be calculated\n",
      "GLCM is symmetrical, therefore Sum Average = 2 * Joint Average, only 1 needs to be calculated\n",
      "GLCM is symmetrical, therefore Sum Average = 2 * Joint Average, only 1 needs to be calculated\n",
      "GLCM is symmetrical, therefore Sum Average = 2 * Joint Average, only 1 needs to be calculated\n",
      "GLCM is symmetrical, therefore Sum Average = 2 * Joint Average, only 1 needs to be calculated\n",
      "GLCM is symmetrical, therefore Sum Average = 2 * Joint Average, only 1 needs to be calculated\n",
      "GLCM is symmetrical, therefore Sum Average = 2 * Joint Average, only 1 needs to be calculated\n",
      "GLCM is symmetrical, therefore Sum Average = 2 * Joint Average, only 1 needs to be calculated\n"
     ]
    },
    {
     "name": "stdout",
     "output_type": "stream",
     "text": [
      "lichenghong.nii.gz\n"
     ]
    },
    {
     "name": "stderr",
     "output_type": "stream",
     "text": [
      "GLCM is symmetrical, therefore Sum Average = 2 * Joint Average, only 1 needs to be calculated\n",
      "GLCM is symmetrical, therefore Sum Average = 2 * Joint Average, only 1 needs to be calculated\n",
      "GLCM is symmetrical, therefore Sum Average = 2 * Joint Average, only 1 needs to be calculated\n",
      "GLCM is symmetrical, therefore Sum Average = 2 * Joint Average, only 1 needs to be calculated\n",
      "GLCM is symmetrical, therefore Sum Average = 2 * Joint Average, only 1 needs to be calculated\n",
      "GLCM is symmetrical, therefore Sum Average = 2 * Joint Average, only 1 needs to be calculated\n",
      "GLCM is symmetrical, therefore Sum Average = 2 * Joint Average, only 1 needs to be calculated\n",
      "GLCM is symmetrical, therefore Sum Average = 2 * Joint Average, only 1 needs to be calculated\n",
      "GLCM is symmetrical, therefore Sum Average = 2 * Joint Average, only 1 needs to be calculated\n",
      "GLCM is symmetrical, therefore Sum Average = 2 * Joint Average, only 1 needs to be calculated\n"
     ]
    },
    {
     "name": "stdout",
     "output_type": "stream",
     "text": [
      "yangsimin.nii.gz\n"
     ]
    },
    {
     "name": "stderr",
     "output_type": "stream",
     "text": [
      "GLCM is symmetrical, therefore Sum Average = 2 * Joint Average, only 1 needs to be calculated\n",
      "GLCM is symmetrical, therefore Sum Average = 2 * Joint Average, only 1 needs to be calculated\n",
      "GLCM is symmetrical, therefore Sum Average = 2 * Joint Average, only 1 needs to be calculated\n",
      "GLCM is symmetrical, therefore Sum Average = 2 * Joint Average, only 1 needs to be calculated\n",
      "GLCM is symmetrical, therefore Sum Average = 2 * Joint Average, only 1 needs to be calculated\n",
      "GLCM is symmetrical, therefore Sum Average = 2 * Joint Average, only 1 needs to be calculated\n",
      "GLCM is symmetrical, therefore Sum Average = 2 * Joint Average, only 1 needs to be calculated\n",
      "GLCM is symmetrical, therefore Sum Average = 2 * Joint Average, only 1 needs to be calculated\n",
      "GLCM is symmetrical, therefore Sum Average = 2 * Joint Average, only 1 needs to be calculated\n",
      "GLCM is symmetrical, therefore Sum Average = 2 * Joint Average, only 1 needs to be calculated\n"
     ]
    },
    {
     "name": "stdout",
     "output_type": "stream",
     "text": [
      "zhanglongyuan.nii.gz\n"
     ]
    },
    {
     "name": "stderr",
     "output_type": "stream",
     "text": [
      "GLCM is symmetrical, therefore Sum Average = 2 * Joint Average, only 1 needs to be calculated\n",
      "GLCM is symmetrical, therefore Sum Average = 2 * Joint Average, only 1 needs to be calculated\n",
      "GLCM is symmetrical, therefore Sum Average = 2 * Joint Average, only 1 needs to be calculated\n",
      "GLCM is symmetrical, therefore Sum Average = 2 * Joint Average, only 1 needs to be calculated\n",
      "GLCM is symmetrical, therefore Sum Average = 2 * Joint Average, only 1 needs to be calculated\n",
      "GLCM is symmetrical, therefore Sum Average = 2 * Joint Average, only 1 needs to be calculated\n",
      "GLCM is symmetrical, therefore Sum Average = 2 * Joint Average, only 1 needs to be calculated\n",
      "GLCM is symmetrical, therefore Sum Average = 2 * Joint Average, only 1 needs to be calculated\n",
      "GLCM is symmetrical, therefore Sum Average = 2 * Joint Average, only 1 needs to be calculated\n",
      "GLCM is symmetrical, therefore Sum Average = 2 * Joint Average, only 1 needs to be calculated\n"
     ]
    },
    {
     "name": "stdout",
     "output_type": "stream",
     "text": [
      "xiehuiyong.nii.gz\n"
     ]
    },
    {
     "name": "stderr",
     "output_type": "stream",
     "text": [
      "GLCM is symmetrical, therefore Sum Average = 2 * Joint Average, only 1 needs to be calculated\n",
      "GLCM is symmetrical, therefore Sum Average = 2 * Joint Average, only 1 needs to be calculated\n",
      "GLCM is symmetrical, therefore Sum Average = 2 * Joint Average, only 1 needs to be calculated\n",
      "GLCM is symmetrical, therefore Sum Average = 2 * Joint Average, only 1 needs to be calculated\n",
      "GLCM is symmetrical, therefore Sum Average = 2 * Joint Average, only 1 needs to be calculated\n",
      "GLCM is symmetrical, therefore Sum Average = 2 * Joint Average, only 1 needs to be calculated\n",
      "GLCM is symmetrical, therefore Sum Average = 2 * Joint Average, only 1 needs to be calculated\n",
      "GLCM is symmetrical, therefore Sum Average = 2 * Joint Average, only 1 needs to be calculated\n",
      "GLCM is symmetrical, therefore Sum Average = 2 * Joint Average, only 1 needs to be calculated\n",
      "GLCM is symmetrical, therefore Sum Average = 2 * Joint Average, only 1 needs to be calculated\n"
     ]
    },
    {
     "name": "stdout",
     "output_type": "stream",
     "text": [
      "huangyuzhi.nii.gz\n"
     ]
    },
    {
     "name": "stderr",
     "output_type": "stream",
     "text": [
      "GLCM is symmetrical, therefore Sum Average = 2 * Joint Average, only 1 needs to be calculated\n",
      "GLCM is symmetrical, therefore Sum Average = 2 * Joint Average, only 1 needs to be calculated\n",
      "GLCM is symmetrical, therefore Sum Average = 2 * Joint Average, only 1 needs to be calculated\n",
      "GLCM is symmetrical, therefore Sum Average = 2 * Joint Average, only 1 needs to be calculated\n",
      "GLCM is symmetrical, therefore Sum Average = 2 * Joint Average, only 1 needs to be calculated\n",
      "GLCM is symmetrical, therefore Sum Average = 2 * Joint Average, only 1 needs to be calculated\n",
      "GLCM is symmetrical, therefore Sum Average = 2 * Joint Average, only 1 needs to be calculated\n",
      "GLCM is symmetrical, therefore Sum Average = 2 * Joint Average, only 1 needs to be calculated\n",
      "GLCM is symmetrical, therefore Sum Average = 2 * Joint Average, only 1 needs to be calculated\n",
      "GLCM is symmetrical, therefore Sum Average = 2 * Joint Average, only 1 needs to be calculated\n"
     ]
    },
    {
     "name": "stdout",
     "output_type": "stream",
     "text": [
      "zhangchaoxu.nii.gz\n"
     ]
    },
    {
     "name": "stderr",
     "output_type": "stream",
     "text": [
      "GLCM is symmetrical, therefore Sum Average = 2 * Joint Average, only 1 needs to be calculated\n",
      "GLCM is symmetrical, therefore Sum Average = 2 * Joint Average, only 1 needs to be calculated\n",
      "GLCM is symmetrical, therefore Sum Average = 2 * Joint Average, only 1 needs to be calculated\n",
      "GLCM is symmetrical, therefore Sum Average = 2 * Joint Average, only 1 needs to be calculated\n",
      "GLCM is symmetrical, therefore Sum Average = 2 * Joint Average, only 1 needs to be calculated\n",
      "GLCM is symmetrical, therefore Sum Average = 2 * Joint Average, only 1 needs to be calculated\n",
      "GLCM is symmetrical, therefore Sum Average = 2 * Joint Average, only 1 needs to be calculated\n",
      "GLCM is symmetrical, therefore Sum Average = 2 * Joint Average, only 1 needs to be calculated\n",
      "GLCM is symmetrical, therefore Sum Average = 2 * Joint Average, only 1 needs to be calculated\n",
      "GLCM is symmetrical, therefore Sum Average = 2 * Joint Average, only 1 needs to be calculated\n"
     ]
    },
    {
     "name": "stdout",
     "output_type": "stream",
     "text": [
      "lifangzixin.nii.gz\n"
     ]
    },
    {
     "name": "stderr",
     "output_type": "stream",
     "text": [
      "GLCM is symmetrical, therefore Sum Average = 2 * Joint Average, only 1 needs to be calculated\n",
      "GLCM is symmetrical, therefore Sum Average = 2 * Joint Average, only 1 needs to be calculated\n",
      "GLCM is symmetrical, therefore Sum Average = 2 * Joint Average, only 1 needs to be calculated\n",
      "GLCM is symmetrical, therefore Sum Average = 2 * Joint Average, only 1 needs to be calculated\n",
      "GLCM is symmetrical, therefore Sum Average = 2 * Joint Average, only 1 needs to be calculated\n",
      "GLCM is symmetrical, therefore Sum Average = 2 * Joint Average, only 1 needs to be calculated\n",
      "GLCM is symmetrical, therefore Sum Average = 2 * Joint Average, only 1 needs to be calculated\n",
      "GLCM is symmetrical, therefore Sum Average = 2 * Joint Average, only 1 needs to be calculated\n",
      "GLCM is symmetrical, therefore Sum Average = 2 * Joint Average, only 1 needs to be calculated\n",
      "GLCM is symmetrical, therefore Sum Average = 2 * Joint Average, only 1 needs to be calculated\n"
     ]
    },
    {
     "name": "stdout",
     "output_type": "stream",
     "text": [
      "weiyinong.nii.gz\n"
     ]
    },
    {
     "name": "stderr",
     "output_type": "stream",
     "text": [
      "GLCM is symmetrical, therefore Sum Average = 2 * Joint Average, only 1 needs to be calculated\n",
      "GLCM is symmetrical, therefore Sum Average = 2 * Joint Average, only 1 needs to be calculated\n",
      "GLCM is symmetrical, therefore Sum Average = 2 * Joint Average, only 1 needs to be calculated\n",
      "GLCM is symmetrical, therefore Sum Average = 2 * Joint Average, only 1 needs to be calculated\n",
      "GLCM is symmetrical, therefore Sum Average = 2 * Joint Average, only 1 needs to be calculated\n",
      "GLCM is symmetrical, therefore Sum Average = 2 * Joint Average, only 1 needs to be calculated\n",
      "GLCM is symmetrical, therefore Sum Average = 2 * Joint Average, only 1 needs to be calculated\n",
      "GLCM is symmetrical, therefore Sum Average = 2 * Joint Average, only 1 needs to be calculated\n",
      "GLCM is symmetrical, therefore Sum Average = 2 * Joint Average, only 1 needs to be calculated\n",
      "GLCM is symmetrical, therefore Sum Average = 2 * Joint Average, only 1 needs to be calculated\n"
     ]
    },
    {
     "name": "stdout",
     "output_type": "stream",
     "text": [
      "gonghuiqin.nii.gz\n"
     ]
    },
    {
     "name": "stderr",
     "output_type": "stream",
     "text": [
      "GLCM is symmetrical, therefore Sum Average = 2 * Joint Average, only 1 needs to be calculated\n",
      "GLCM is symmetrical, therefore Sum Average = 2 * Joint Average, only 1 needs to be calculated\n",
      "GLCM is symmetrical, therefore Sum Average = 2 * Joint Average, only 1 needs to be calculated\n",
      "GLCM is symmetrical, therefore Sum Average = 2 * Joint Average, only 1 needs to be calculated\n",
      "GLCM is symmetrical, therefore Sum Average = 2 * Joint Average, only 1 needs to be calculated\n",
      "GLCM is symmetrical, therefore Sum Average = 2 * Joint Average, only 1 needs to be calculated\n",
      "GLCM is symmetrical, therefore Sum Average = 2 * Joint Average, only 1 needs to be calculated\n",
      "GLCM is symmetrical, therefore Sum Average = 2 * Joint Average, only 1 needs to be calculated\n",
      "GLCM is symmetrical, therefore Sum Average = 2 * Joint Average, only 1 needs to be calculated\n",
      "GLCM is symmetrical, therefore Sum Average = 2 * Joint Average, only 1 needs to be calculated\n"
     ]
    },
    {
     "name": "stdout",
     "output_type": "stream",
     "text": [
      "liaozhonghe.nii.gz\n"
     ]
    },
    {
     "name": "stderr",
     "output_type": "stream",
     "text": [
      "GLCM is symmetrical, therefore Sum Average = 2 * Joint Average, only 1 needs to be calculated\n",
      "GLCM is symmetrical, therefore Sum Average = 2 * Joint Average, only 1 needs to be calculated\n",
      "GLCM is symmetrical, therefore Sum Average = 2 * Joint Average, only 1 needs to be calculated\n",
      "GLCM is symmetrical, therefore Sum Average = 2 * Joint Average, only 1 needs to be calculated\n",
      "GLCM is symmetrical, therefore Sum Average = 2 * Joint Average, only 1 needs to be calculated\n",
      "GLCM is symmetrical, therefore Sum Average = 2 * Joint Average, only 1 needs to be calculated\n",
      "GLCM is symmetrical, therefore Sum Average = 2 * Joint Average, only 1 needs to be calculated\n",
      "GLCM is symmetrical, therefore Sum Average = 2 * Joint Average, only 1 needs to be calculated\n",
      "GLCM is symmetrical, therefore Sum Average = 2 * Joint Average, only 1 needs to be calculated\n",
      "GLCM is symmetrical, therefore Sum Average = 2 * Joint Average, only 1 needs to be calculated\n"
     ]
    },
    {
     "name": "stdout",
     "output_type": "stream",
     "text": [
      "wanghui.nii.gz\n"
     ]
    },
    {
     "name": "stderr",
     "output_type": "stream",
     "text": [
      "GLCM is symmetrical, therefore Sum Average = 2 * Joint Average, only 1 needs to be calculated\n",
      "GLCM is symmetrical, therefore Sum Average = 2 * Joint Average, only 1 needs to be calculated\n",
      "GLCM is symmetrical, therefore Sum Average = 2 * Joint Average, only 1 needs to be calculated\n",
      "GLCM is symmetrical, therefore Sum Average = 2 * Joint Average, only 1 needs to be calculated\n",
      "GLCM is symmetrical, therefore Sum Average = 2 * Joint Average, only 1 needs to be calculated\n",
      "GLCM is symmetrical, therefore Sum Average = 2 * Joint Average, only 1 needs to be calculated\n",
      "GLCM is symmetrical, therefore Sum Average = 2 * Joint Average, only 1 needs to be calculated\n",
      "GLCM is symmetrical, therefore Sum Average = 2 * Joint Average, only 1 needs to be calculated\n",
      "GLCM is symmetrical, therefore Sum Average = 2 * Joint Average, only 1 needs to be calculated\n",
      "GLCM is symmetrical, therefore Sum Average = 2 * Joint Average, only 1 needs to be calculated\n"
     ]
    },
    {
     "name": "stdout",
     "output_type": "stream",
     "text": [
      "tangxianglian.nii.gz\n"
     ]
    },
    {
     "name": "stderr",
     "output_type": "stream",
     "text": [
      "GLCM is symmetrical, therefore Sum Average = 2 * Joint Average, only 1 needs to be calculated\n",
      "GLCM is symmetrical, therefore Sum Average = 2 * Joint Average, only 1 needs to be calculated\n",
      "GLCM is symmetrical, therefore Sum Average = 2 * Joint Average, only 1 needs to be calculated\n",
      "GLCM is symmetrical, therefore Sum Average = 2 * Joint Average, only 1 needs to be calculated\n",
      "GLCM is symmetrical, therefore Sum Average = 2 * Joint Average, only 1 needs to be calculated\n",
      "GLCM is symmetrical, therefore Sum Average = 2 * Joint Average, only 1 needs to be calculated\n",
      "GLCM is symmetrical, therefore Sum Average = 2 * Joint Average, only 1 needs to be calculated\n",
      "GLCM is symmetrical, therefore Sum Average = 2 * Joint Average, only 1 needs to be calculated\n",
      "GLCM is symmetrical, therefore Sum Average = 2 * Joint Average, only 1 needs to be calculated\n",
      "GLCM is symmetrical, therefore Sum Average = 2 * Joint Average, only 1 needs to be calculated\n"
     ]
    },
    {
     "name": "stdout",
     "output_type": "stream",
     "text": [
      "zhouliang.nii.gz\n"
     ]
    },
    {
     "name": "stderr",
     "output_type": "stream",
     "text": [
      "GLCM is symmetrical, therefore Sum Average = 2 * Joint Average, only 1 needs to be calculated\n",
      "GLCM is symmetrical, therefore Sum Average = 2 * Joint Average, only 1 needs to be calculated\n",
      "GLCM is symmetrical, therefore Sum Average = 2 * Joint Average, only 1 needs to be calculated\n",
      "GLCM is symmetrical, therefore Sum Average = 2 * Joint Average, only 1 needs to be calculated\n",
      "GLCM is symmetrical, therefore Sum Average = 2 * Joint Average, only 1 needs to be calculated\n",
      "GLCM is symmetrical, therefore Sum Average = 2 * Joint Average, only 1 needs to be calculated\n",
      "GLCM is symmetrical, therefore Sum Average = 2 * Joint Average, only 1 needs to be calculated\n",
      "GLCM is symmetrical, therefore Sum Average = 2 * Joint Average, only 1 needs to be calculated\n",
      "GLCM is symmetrical, therefore Sum Average = 2 * Joint Average, only 1 needs to be calculated\n",
      "GLCM is symmetrical, therefore Sum Average = 2 * Joint Average, only 1 needs to be calculated\n"
     ]
    },
    {
     "name": "stdout",
     "output_type": "stream",
     "text": [
      "zenghao.nii.gz\n"
     ]
    },
    {
     "name": "stderr",
     "output_type": "stream",
     "text": [
      "GLCM is symmetrical, therefore Sum Average = 2 * Joint Average, only 1 needs to be calculated\n",
      "GLCM is symmetrical, therefore Sum Average = 2 * Joint Average, only 1 needs to be calculated\n",
      "GLCM is symmetrical, therefore Sum Average = 2 * Joint Average, only 1 needs to be calculated\n",
      "GLCM is symmetrical, therefore Sum Average = 2 * Joint Average, only 1 needs to be calculated\n",
      "GLCM is symmetrical, therefore Sum Average = 2 * Joint Average, only 1 needs to be calculated\n",
      "GLCM is symmetrical, therefore Sum Average = 2 * Joint Average, only 1 needs to be calculated\n",
      "GLCM is symmetrical, therefore Sum Average = 2 * Joint Average, only 1 needs to be calculated\n",
      "GLCM is symmetrical, therefore Sum Average = 2 * Joint Average, only 1 needs to be calculated\n",
      "GLCM is symmetrical, therefore Sum Average = 2 * Joint Average, only 1 needs to be calculated\n",
      "GLCM is symmetrical, therefore Sum Average = 2 * Joint Average, only 1 needs to be calculated\n"
     ]
    },
    {
     "name": "stdout",
     "output_type": "stream",
     "text": [
      "liuyilin.nii.gz\n"
     ]
    },
    {
     "name": "stderr",
     "output_type": "stream",
     "text": [
      "GLCM is symmetrical, therefore Sum Average = 2 * Joint Average, only 1 needs to be calculated\n",
      "GLCM is symmetrical, therefore Sum Average = 2 * Joint Average, only 1 needs to be calculated\n",
      "GLCM is symmetrical, therefore Sum Average = 2 * Joint Average, only 1 needs to be calculated\n",
      "GLCM is symmetrical, therefore Sum Average = 2 * Joint Average, only 1 needs to be calculated\n",
      "GLCM is symmetrical, therefore Sum Average = 2 * Joint Average, only 1 needs to be calculated\n",
      "GLCM is symmetrical, therefore Sum Average = 2 * Joint Average, only 1 needs to be calculated\n",
      "GLCM is symmetrical, therefore Sum Average = 2 * Joint Average, only 1 needs to be calculated\n",
      "GLCM is symmetrical, therefore Sum Average = 2 * Joint Average, only 1 needs to be calculated\n",
      "GLCM is symmetrical, therefore Sum Average = 2 * Joint Average, only 1 needs to be calculated\n",
      "GLCM is symmetrical, therefore Sum Average = 2 * Joint Average, only 1 needs to be calculated\n"
     ]
    },
    {
     "name": "stdout",
     "output_type": "stream",
     "text": [
      "zhaominghui.nii.gz\n"
     ]
    },
    {
     "name": "stderr",
     "output_type": "stream",
     "text": [
      "GLCM is symmetrical, therefore Sum Average = 2 * Joint Average, only 1 needs to be calculated\n",
      "GLCM is symmetrical, therefore Sum Average = 2 * Joint Average, only 1 needs to be calculated\n",
      "GLCM is symmetrical, therefore Sum Average = 2 * Joint Average, only 1 needs to be calculated\n",
      "GLCM is symmetrical, therefore Sum Average = 2 * Joint Average, only 1 needs to be calculated\n",
      "GLCM is symmetrical, therefore Sum Average = 2 * Joint Average, only 1 needs to be calculated\n",
      "GLCM is symmetrical, therefore Sum Average = 2 * Joint Average, only 1 needs to be calculated\n",
      "GLCM is symmetrical, therefore Sum Average = 2 * Joint Average, only 1 needs to be calculated\n",
      "GLCM is symmetrical, therefore Sum Average = 2 * Joint Average, only 1 needs to be calculated\n",
      "GLCM is symmetrical, therefore Sum Average = 2 * Joint Average, only 1 needs to be calculated\n",
      "GLCM is symmetrical, therefore Sum Average = 2 * Joint Average, only 1 needs to be calculated\n"
     ]
    },
    {
     "name": "stdout",
     "output_type": "stream",
     "text": [
      "hudaren.nii.gz\n"
     ]
    },
    {
     "name": "stderr",
     "output_type": "stream",
     "text": [
      "GLCM is symmetrical, therefore Sum Average = 2 * Joint Average, only 1 needs to be calculated\n",
      "GLCM is symmetrical, therefore Sum Average = 2 * Joint Average, only 1 needs to be calculated\n",
      "GLCM is symmetrical, therefore Sum Average = 2 * Joint Average, only 1 needs to be calculated\n",
      "GLCM is symmetrical, therefore Sum Average = 2 * Joint Average, only 1 needs to be calculated\n",
      "GLCM is symmetrical, therefore Sum Average = 2 * Joint Average, only 1 needs to be calculated\n",
      "GLCM is symmetrical, therefore Sum Average = 2 * Joint Average, only 1 needs to be calculated\n",
      "GLCM is symmetrical, therefore Sum Average = 2 * Joint Average, only 1 needs to be calculated\n",
      "GLCM is symmetrical, therefore Sum Average = 2 * Joint Average, only 1 needs to be calculated\n",
      "GLCM is symmetrical, therefore Sum Average = 2 * Joint Average, only 1 needs to be calculated\n",
      "GLCM is symmetrical, therefore Sum Average = 2 * Joint Average, only 1 needs to be calculated\n"
     ]
    },
    {
     "name": "stdout",
     "output_type": "stream",
     "text": [
      "maorunsong.nii.gz\n"
     ]
    },
    {
     "name": "stderr",
     "output_type": "stream",
     "text": [
      "GLCM is symmetrical, therefore Sum Average = 2 * Joint Average, only 1 needs to be calculated\n",
      "GLCM is symmetrical, therefore Sum Average = 2 * Joint Average, only 1 needs to be calculated\n",
      "GLCM is symmetrical, therefore Sum Average = 2 * Joint Average, only 1 needs to be calculated\n",
      "GLCM is symmetrical, therefore Sum Average = 2 * Joint Average, only 1 needs to be calculated\n",
      "GLCM is symmetrical, therefore Sum Average = 2 * Joint Average, only 1 needs to be calculated\n",
      "GLCM is symmetrical, therefore Sum Average = 2 * Joint Average, only 1 needs to be calculated\n",
      "GLCM is symmetrical, therefore Sum Average = 2 * Joint Average, only 1 needs to be calculated\n",
      "GLCM is symmetrical, therefore Sum Average = 2 * Joint Average, only 1 needs to be calculated\n",
      "GLCM is symmetrical, therefore Sum Average = 2 * Joint Average, only 1 needs to be calculated\n",
      "GLCM is symmetrical, therefore Sum Average = 2 * Joint Average, only 1 needs to be calculated\n"
     ]
    },
    {
     "name": "stdout",
     "output_type": "stream",
     "text": [
      "fengyilin.nii.gz\n"
     ]
    },
    {
     "name": "stderr",
     "output_type": "stream",
     "text": [
      "GLCM is symmetrical, therefore Sum Average = 2 * Joint Average, only 1 needs to be calculated\n",
      "GLCM is symmetrical, therefore Sum Average = 2 * Joint Average, only 1 needs to be calculated\n",
      "GLCM is symmetrical, therefore Sum Average = 2 * Joint Average, only 1 needs to be calculated\n",
      "GLCM is symmetrical, therefore Sum Average = 2 * Joint Average, only 1 needs to be calculated\n",
      "GLCM is symmetrical, therefore Sum Average = 2 * Joint Average, only 1 needs to be calculated\n",
      "GLCM is symmetrical, therefore Sum Average = 2 * Joint Average, only 1 needs to be calculated\n",
      "GLCM is symmetrical, therefore Sum Average = 2 * Joint Average, only 1 needs to be calculated\n",
      "GLCM is symmetrical, therefore Sum Average = 2 * Joint Average, only 1 needs to be calculated\n",
      "GLCM is symmetrical, therefore Sum Average = 2 * Joint Average, only 1 needs to be calculated\n",
      "GLCM is symmetrical, therefore Sum Average = 2 * Joint Average, only 1 needs to be calculated\n"
     ]
    },
    {
     "name": "stdout",
     "output_type": "stream",
     "text": [
      "zouxiuhua.nii.gz\n"
     ]
    },
    {
     "name": "stderr",
     "output_type": "stream",
     "text": [
      "GLCM is symmetrical, therefore Sum Average = 2 * Joint Average, only 1 needs to be calculated\n",
      "GLCM is symmetrical, therefore Sum Average = 2 * Joint Average, only 1 needs to be calculated\n",
      "GLCM is symmetrical, therefore Sum Average = 2 * Joint Average, only 1 needs to be calculated\n",
      "GLCM is symmetrical, therefore Sum Average = 2 * Joint Average, only 1 needs to be calculated\n",
      "GLCM is symmetrical, therefore Sum Average = 2 * Joint Average, only 1 needs to be calculated\n",
      "GLCM is symmetrical, therefore Sum Average = 2 * Joint Average, only 1 needs to be calculated\n",
      "GLCM is symmetrical, therefore Sum Average = 2 * Joint Average, only 1 needs to be calculated\n",
      "GLCM is symmetrical, therefore Sum Average = 2 * Joint Average, only 1 needs to be calculated\n",
      "GLCM is symmetrical, therefore Sum Average = 2 * Joint Average, only 1 needs to be calculated\n",
      "GLCM is symmetrical, therefore Sum Average = 2 * Joint Average, only 1 needs to be calculated\n"
     ]
    },
    {
     "name": "stdout",
     "output_type": "stream",
     "text": [
      "zhongbaojiao.nii.gz\n"
     ]
    },
    {
     "name": "stderr",
     "output_type": "stream",
     "text": [
      "GLCM is symmetrical, therefore Sum Average = 2 * Joint Average, only 1 needs to be calculated\n",
      "GLCM is symmetrical, therefore Sum Average = 2 * Joint Average, only 1 needs to be calculated\n",
      "GLCM is symmetrical, therefore Sum Average = 2 * Joint Average, only 1 needs to be calculated\n",
      "GLCM is symmetrical, therefore Sum Average = 2 * Joint Average, only 1 needs to be calculated\n",
      "GLCM is symmetrical, therefore Sum Average = 2 * Joint Average, only 1 needs to be calculated\n",
      "GLCM is symmetrical, therefore Sum Average = 2 * Joint Average, only 1 needs to be calculated\n",
      "GLCM is symmetrical, therefore Sum Average = 2 * Joint Average, only 1 needs to be calculated\n",
      "GLCM is symmetrical, therefore Sum Average = 2 * Joint Average, only 1 needs to be calculated\n",
      "GLCM is symmetrical, therefore Sum Average = 2 * Joint Average, only 1 needs to be calculated\n",
      "GLCM is symmetrical, therefore Sum Average = 2 * Joint Average, only 1 needs to be calculated\n"
     ]
    },
    {
     "name": "stdout",
     "output_type": "stream",
     "text": [
      "liujinyong.nii.gz\n"
     ]
    },
    {
     "name": "stderr",
     "output_type": "stream",
     "text": [
      "GLCM is symmetrical, therefore Sum Average = 2 * Joint Average, only 1 needs to be calculated\n",
      "GLCM is symmetrical, therefore Sum Average = 2 * Joint Average, only 1 needs to be calculated\n",
      "GLCM is symmetrical, therefore Sum Average = 2 * Joint Average, only 1 needs to be calculated\n",
      "GLCM is symmetrical, therefore Sum Average = 2 * Joint Average, only 1 needs to be calculated\n",
      "GLCM is symmetrical, therefore Sum Average = 2 * Joint Average, only 1 needs to be calculated\n",
      "GLCM is symmetrical, therefore Sum Average = 2 * Joint Average, only 1 needs to be calculated\n",
      "GLCM is symmetrical, therefore Sum Average = 2 * Joint Average, only 1 needs to be calculated\n",
      "GLCM is symmetrical, therefore Sum Average = 2 * Joint Average, only 1 needs to be calculated\n",
      "GLCM is symmetrical, therefore Sum Average = 2 * Joint Average, only 1 needs to be calculated\n",
      "GLCM is symmetrical, therefore Sum Average = 2 * Joint Average, only 1 needs to be calculated\n"
     ]
    },
    {
     "name": "stdout",
     "output_type": "stream",
     "text": [
      "liuxiaoqian.nii.gz\n"
     ]
    },
    {
     "name": "stderr",
     "output_type": "stream",
     "text": [
      "GLCM is symmetrical, therefore Sum Average = 2 * Joint Average, only 1 needs to be calculated\n",
      "GLCM is symmetrical, therefore Sum Average = 2 * Joint Average, only 1 needs to be calculated\n",
      "GLCM is symmetrical, therefore Sum Average = 2 * Joint Average, only 1 needs to be calculated\n",
      "GLCM is symmetrical, therefore Sum Average = 2 * Joint Average, only 1 needs to be calculated\n",
      "GLCM is symmetrical, therefore Sum Average = 2 * Joint Average, only 1 needs to be calculated\n",
      "GLCM is symmetrical, therefore Sum Average = 2 * Joint Average, only 1 needs to be calculated\n",
      "GLCM is symmetrical, therefore Sum Average = 2 * Joint Average, only 1 needs to be calculated\n",
      "GLCM is symmetrical, therefore Sum Average = 2 * Joint Average, only 1 needs to be calculated\n",
      "GLCM is symmetrical, therefore Sum Average = 2 * Joint Average, only 1 needs to be calculated\n",
      "GLCM is symmetrical, therefore Sum Average = 2 * Joint Average, only 1 needs to be calculated\n"
     ]
    },
    {
     "name": "stdout",
     "output_type": "stream",
     "text": [
      "liqianqi.nii.gz\n"
     ]
    },
    {
     "name": "stderr",
     "output_type": "stream",
     "text": [
      "GLCM is symmetrical, therefore Sum Average = 2 * Joint Average, only 1 needs to be calculated\n",
      "GLCM is symmetrical, therefore Sum Average = 2 * Joint Average, only 1 needs to be calculated\n",
      "GLCM is symmetrical, therefore Sum Average = 2 * Joint Average, only 1 needs to be calculated\n",
      "GLCM is symmetrical, therefore Sum Average = 2 * Joint Average, only 1 needs to be calculated\n",
      "GLCM is symmetrical, therefore Sum Average = 2 * Joint Average, only 1 needs to be calculated\n",
      "GLCM is symmetrical, therefore Sum Average = 2 * Joint Average, only 1 needs to be calculated\n",
      "GLCM is symmetrical, therefore Sum Average = 2 * Joint Average, only 1 needs to be calculated\n",
      "GLCM is symmetrical, therefore Sum Average = 2 * Joint Average, only 1 needs to be calculated\n",
      "GLCM is symmetrical, therefore Sum Average = 2 * Joint Average, only 1 needs to be calculated\n",
      "GLCM is symmetrical, therefore Sum Average = 2 * Joint Average, only 1 needs to be calculated\n"
     ]
    },
    {
     "name": "stdout",
     "output_type": "stream",
     "text": [
      "yihaiyun.nii.gz\n"
     ]
    },
    {
     "name": "stderr",
     "output_type": "stream",
     "text": [
      "GLCM is symmetrical, therefore Sum Average = 2 * Joint Average, only 1 needs to be calculated\n",
      "GLCM is symmetrical, therefore Sum Average = 2 * Joint Average, only 1 needs to be calculated\n",
      "GLCM is symmetrical, therefore Sum Average = 2 * Joint Average, only 1 needs to be calculated\n",
      "GLCM is symmetrical, therefore Sum Average = 2 * Joint Average, only 1 needs to be calculated\n",
      "GLCM is symmetrical, therefore Sum Average = 2 * Joint Average, only 1 needs to be calculated\n",
      "GLCM is symmetrical, therefore Sum Average = 2 * Joint Average, only 1 needs to be calculated\n",
      "GLCM is symmetrical, therefore Sum Average = 2 * Joint Average, only 1 needs to be calculated\n",
      "GLCM is symmetrical, therefore Sum Average = 2 * Joint Average, only 1 needs to be calculated\n",
      "GLCM is symmetrical, therefore Sum Average = 2 * Joint Average, only 1 needs to be calculated\n",
      "GLCM is symmetrical, therefore Sum Average = 2 * Joint Average, only 1 needs to be calculated\n"
     ]
    },
    {
     "name": "stdout",
     "output_type": "stream",
     "text": [
      "wuyuping.nii.gz\n"
     ]
    },
    {
     "name": "stderr",
     "output_type": "stream",
     "text": [
      "GLCM is symmetrical, therefore Sum Average = 2 * Joint Average, only 1 needs to be calculated\n",
      "GLCM is symmetrical, therefore Sum Average = 2 * Joint Average, only 1 needs to be calculated\n",
      "GLCM is symmetrical, therefore Sum Average = 2 * Joint Average, only 1 needs to be calculated\n",
      "GLCM is symmetrical, therefore Sum Average = 2 * Joint Average, only 1 needs to be calculated\n",
      "GLCM is symmetrical, therefore Sum Average = 2 * Joint Average, only 1 needs to be calculated\n",
      "GLCM is symmetrical, therefore Sum Average = 2 * Joint Average, only 1 needs to be calculated\n",
      "GLCM is symmetrical, therefore Sum Average = 2 * Joint Average, only 1 needs to be calculated\n",
      "GLCM is symmetrical, therefore Sum Average = 2 * Joint Average, only 1 needs to be calculated\n",
      "GLCM is symmetrical, therefore Sum Average = 2 * Joint Average, only 1 needs to be calculated\n",
      "GLCM is symmetrical, therefore Sum Average = 2 * Joint Average, only 1 needs to be calculated\n"
     ]
    },
    {
     "name": "stdout",
     "output_type": "stream",
     "text": [
      "pengjinlong.nii.gz\n"
     ]
    },
    {
     "name": "stderr",
     "output_type": "stream",
     "text": [
      "GLCM is symmetrical, therefore Sum Average = 2 * Joint Average, only 1 needs to be calculated\n",
      "GLCM is symmetrical, therefore Sum Average = 2 * Joint Average, only 1 needs to be calculated\n",
      "GLCM is symmetrical, therefore Sum Average = 2 * Joint Average, only 1 needs to be calculated\n",
      "GLCM is symmetrical, therefore Sum Average = 2 * Joint Average, only 1 needs to be calculated\n",
      "GLCM is symmetrical, therefore Sum Average = 2 * Joint Average, only 1 needs to be calculated\n",
      "GLCM is symmetrical, therefore Sum Average = 2 * Joint Average, only 1 needs to be calculated\n",
      "GLCM is symmetrical, therefore Sum Average = 2 * Joint Average, only 1 needs to be calculated\n",
      "GLCM is symmetrical, therefore Sum Average = 2 * Joint Average, only 1 needs to be calculated\n",
      "GLCM is symmetrical, therefore Sum Average = 2 * Joint Average, only 1 needs to be calculated\n",
      "GLCM is symmetrical, therefore Sum Average = 2 * Joint Average, only 1 needs to be calculated\n"
     ]
    },
    {
     "name": "stdout",
     "output_type": "stream",
     "text": [
      "niehaixin.nii.gz\n"
     ]
    },
    {
     "name": "stderr",
     "output_type": "stream",
     "text": [
      "GLCM is symmetrical, therefore Sum Average = 2 * Joint Average, only 1 needs to be calculated\n",
      "GLCM is symmetrical, therefore Sum Average = 2 * Joint Average, only 1 needs to be calculated\n",
      "GLCM is symmetrical, therefore Sum Average = 2 * Joint Average, only 1 needs to be calculated\n",
      "GLCM is symmetrical, therefore Sum Average = 2 * Joint Average, only 1 needs to be calculated\n",
      "GLCM is symmetrical, therefore Sum Average = 2 * Joint Average, only 1 needs to be calculated\n",
      "GLCM is symmetrical, therefore Sum Average = 2 * Joint Average, only 1 needs to be calculated\n",
      "GLCM is symmetrical, therefore Sum Average = 2 * Joint Average, only 1 needs to be calculated\n",
      "GLCM is symmetrical, therefore Sum Average = 2 * Joint Average, only 1 needs to be calculated\n",
      "GLCM is symmetrical, therefore Sum Average = 2 * Joint Average, only 1 needs to be calculated\n",
      "GLCM is symmetrical, therefore Sum Average = 2 * Joint Average, only 1 needs to be calculated\n"
     ]
    },
    {
     "name": "stdout",
     "output_type": "stream",
     "text": [
      "zhonghaoran.nii.gz\n"
     ]
    },
    {
     "name": "stderr",
     "output_type": "stream",
     "text": [
      "GLCM is symmetrical, therefore Sum Average = 2 * Joint Average, only 1 needs to be calculated\n",
      "GLCM is symmetrical, therefore Sum Average = 2 * Joint Average, only 1 needs to be calculated\n",
      "GLCM is symmetrical, therefore Sum Average = 2 * Joint Average, only 1 needs to be calculated\n",
      "GLCM is symmetrical, therefore Sum Average = 2 * Joint Average, only 1 needs to be calculated\n",
      "GLCM is symmetrical, therefore Sum Average = 2 * Joint Average, only 1 needs to be calculated\n",
      "GLCM is symmetrical, therefore Sum Average = 2 * Joint Average, only 1 needs to be calculated\n",
      "GLCM is symmetrical, therefore Sum Average = 2 * Joint Average, only 1 needs to be calculated\n",
      "GLCM is symmetrical, therefore Sum Average = 2 * Joint Average, only 1 needs to be calculated\n",
      "GLCM is symmetrical, therefore Sum Average = 2 * Joint Average, only 1 needs to be calculated\n",
      "GLCM is symmetrical, therefore Sum Average = 2 * Joint Average, only 1 needs to be calculated\n"
     ]
    },
    {
     "name": "stdout",
     "output_type": "stream",
     "text": [
      "liuweitao.nii.gz\n"
     ]
    },
    {
     "name": "stderr",
     "output_type": "stream",
     "text": [
      "GLCM is symmetrical, therefore Sum Average = 2 * Joint Average, only 1 needs to be calculated\n",
      "GLCM is symmetrical, therefore Sum Average = 2 * Joint Average, only 1 needs to be calculated\n",
      "GLCM is symmetrical, therefore Sum Average = 2 * Joint Average, only 1 needs to be calculated\n",
      "GLCM is symmetrical, therefore Sum Average = 2 * Joint Average, only 1 needs to be calculated\n",
      "GLCM is symmetrical, therefore Sum Average = 2 * Joint Average, only 1 needs to be calculated\n",
      "GLCM is symmetrical, therefore Sum Average = 2 * Joint Average, only 1 needs to be calculated\n",
      "GLCM is symmetrical, therefore Sum Average = 2 * Joint Average, only 1 needs to be calculated\n",
      "GLCM is symmetrical, therefore Sum Average = 2 * Joint Average, only 1 needs to be calculated\n",
      "GLCM is symmetrical, therefore Sum Average = 2 * Joint Average, only 1 needs to be calculated\n",
      "GLCM is symmetrical, therefore Sum Average = 2 * Joint Average, only 1 needs to be calculated\n"
     ]
    },
    {
     "name": "stdout",
     "output_type": "stream",
     "text": [
      "lintouxiang.nii.gz\n"
     ]
    },
    {
     "name": "stderr",
     "output_type": "stream",
     "text": [
      "GLCM is symmetrical, therefore Sum Average = 2 * Joint Average, only 1 needs to be calculated\n",
      "GLCM is symmetrical, therefore Sum Average = 2 * Joint Average, only 1 needs to be calculated\n",
      "GLCM is symmetrical, therefore Sum Average = 2 * Joint Average, only 1 needs to be calculated\n",
      "GLCM is symmetrical, therefore Sum Average = 2 * Joint Average, only 1 needs to be calculated\n",
      "GLCM is symmetrical, therefore Sum Average = 2 * Joint Average, only 1 needs to be calculated\n",
      "GLCM is symmetrical, therefore Sum Average = 2 * Joint Average, only 1 needs to be calculated\n",
      "GLCM is symmetrical, therefore Sum Average = 2 * Joint Average, only 1 needs to be calculated\n",
      "GLCM is symmetrical, therefore Sum Average = 2 * Joint Average, only 1 needs to be calculated\n",
      "GLCM is symmetrical, therefore Sum Average = 2 * Joint Average, only 1 needs to be calculated\n",
      "GLCM is symmetrical, therefore Sum Average = 2 * Joint Average, only 1 needs to be calculated\n"
     ]
    },
    {
     "name": "stdout",
     "output_type": "stream",
     "text": [
      "maojizong.nii.gz\n"
     ]
    },
    {
     "name": "stderr",
     "output_type": "stream",
     "text": [
      "GLCM is symmetrical, therefore Sum Average = 2 * Joint Average, only 1 needs to be calculated\n",
      "GLCM is symmetrical, therefore Sum Average = 2 * Joint Average, only 1 needs to be calculated\n",
      "GLCM is symmetrical, therefore Sum Average = 2 * Joint Average, only 1 needs to be calculated\n",
      "GLCM is symmetrical, therefore Sum Average = 2 * Joint Average, only 1 needs to be calculated\n",
      "GLCM is symmetrical, therefore Sum Average = 2 * Joint Average, only 1 needs to be calculated\n",
      "GLCM is symmetrical, therefore Sum Average = 2 * Joint Average, only 1 needs to be calculated\n",
      "GLCM is symmetrical, therefore Sum Average = 2 * Joint Average, only 1 needs to be calculated\n",
      "GLCM is symmetrical, therefore Sum Average = 2 * Joint Average, only 1 needs to be calculated\n",
      "GLCM is symmetrical, therefore Sum Average = 2 * Joint Average, only 1 needs to be calculated\n",
      "GLCM is symmetrical, therefore Sum Average = 2 * Joint Average, only 1 needs to be calculated\n"
     ]
    },
    {
     "name": "stdout",
     "output_type": "stream",
     "text": [
      "wangzhen.nii.gz\n"
     ]
    },
    {
     "name": "stderr",
     "output_type": "stream",
     "text": [
      "GLCM is symmetrical, therefore Sum Average = 2 * Joint Average, only 1 needs to be calculated\n",
      "GLCM is symmetrical, therefore Sum Average = 2 * Joint Average, only 1 needs to be calculated\n",
      "GLCM is symmetrical, therefore Sum Average = 2 * Joint Average, only 1 needs to be calculated\n",
      "GLCM is symmetrical, therefore Sum Average = 2 * Joint Average, only 1 needs to be calculated\n",
      "GLCM is symmetrical, therefore Sum Average = 2 * Joint Average, only 1 needs to be calculated\n",
      "GLCM is symmetrical, therefore Sum Average = 2 * Joint Average, only 1 needs to be calculated\n",
      "GLCM is symmetrical, therefore Sum Average = 2 * Joint Average, only 1 needs to be calculated\n",
      "GLCM is symmetrical, therefore Sum Average = 2 * Joint Average, only 1 needs to be calculated\n",
      "GLCM is symmetrical, therefore Sum Average = 2 * Joint Average, only 1 needs to be calculated\n",
      "GLCM is symmetrical, therefore Sum Average = 2 * Joint Average, only 1 needs to be calculated\n"
     ]
    },
    {
     "name": "stdout",
     "output_type": "stream",
     "text": [
      "chenjunxiang.nii.gz\n"
     ]
    },
    {
     "name": "stderr",
     "output_type": "stream",
     "text": [
      "GLCM is symmetrical, therefore Sum Average = 2 * Joint Average, only 1 needs to be calculated\n",
      "GLCM is symmetrical, therefore Sum Average = 2 * Joint Average, only 1 needs to be calculated\n",
      "GLCM is symmetrical, therefore Sum Average = 2 * Joint Average, only 1 needs to be calculated\n",
      "GLCM is symmetrical, therefore Sum Average = 2 * Joint Average, only 1 needs to be calculated\n",
      "GLCM is symmetrical, therefore Sum Average = 2 * Joint Average, only 1 needs to be calculated\n",
      "GLCM is symmetrical, therefore Sum Average = 2 * Joint Average, only 1 needs to be calculated\n",
      "GLCM is symmetrical, therefore Sum Average = 2 * Joint Average, only 1 needs to be calculated\n",
      "GLCM is symmetrical, therefore Sum Average = 2 * Joint Average, only 1 needs to be calculated\n",
      "GLCM is symmetrical, therefore Sum Average = 2 * Joint Average, only 1 needs to be calculated\n",
      "GLCM is symmetrical, therefore Sum Average = 2 * Joint Average, only 1 needs to be calculated\n"
     ]
    },
    {
     "name": "stdout",
     "output_type": "stream",
     "text": [
      "lichuncai.nii.gz\n"
     ]
    },
    {
     "name": "stderr",
     "output_type": "stream",
     "text": [
      "GLCM is symmetrical, therefore Sum Average = 2 * Joint Average, only 1 needs to be calculated\n",
      "GLCM is symmetrical, therefore Sum Average = 2 * Joint Average, only 1 needs to be calculated\n",
      "GLCM is symmetrical, therefore Sum Average = 2 * Joint Average, only 1 needs to be calculated\n",
      "GLCM is symmetrical, therefore Sum Average = 2 * Joint Average, only 1 needs to be calculated\n",
      "GLCM is symmetrical, therefore Sum Average = 2 * Joint Average, only 1 needs to be calculated\n",
      "GLCM is symmetrical, therefore Sum Average = 2 * Joint Average, only 1 needs to be calculated\n",
      "GLCM is symmetrical, therefore Sum Average = 2 * Joint Average, only 1 needs to be calculated\n",
      "GLCM is symmetrical, therefore Sum Average = 2 * Joint Average, only 1 needs to be calculated\n",
      "GLCM is symmetrical, therefore Sum Average = 2 * Joint Average, only 1 needs to be calculated\n",
      "GLCM is symmetrical, therefore Sum Average = 2 * Joint Average, only 1 needs to be calculated\n"
     ]
    },
    {
     "name": "stdout",
     "output_type": "stream",
     "text": [
      "caowenjiang.nii.gz\n"
     ]
    }
   ],
   "source": [
    "df = pd.DataFrame()\n",
    "\n",
    "for folder in folders:\n",
    "    imageFile = os.path.join(image_basePath,folder)\n",
    "    maskFile = os.path.join(mask_basePath,folder)\n",
    "    featureVector = extractor.execute(imageFile, maskFile)\n",
    "    df_new = pd.DataFrame.from_dict(featureVector.values()).T\n",
    "    df_new.columns = featureVector.keys()\n",
    "    df_new.index = [folder]   # 设置 DataFrame 的行索引为 folder 名\n",
    "    df = pd.concat([df,df_new])\n",
    "    print(folder)\n",
    "df.to_excel(os.path.join(basePath,'results_1.xlsx'))"
   ]
  },
  {
   "cell_type": "code",
   "execution_count": null,
   "id": "426e3424",
   "metadata": {},
   "outputs": [],
   "source": []
  },
  {
   "cell_type": "markdown",
   "id": "83018f44",
   "metadata": {},
   "source": [
    "# 2. 特征预处理/无量纲化处理（Normalization或称Min-Max Scaling）"
   ]
  },
  {
   "cell_type": "markdown",
   "id": "06302fd3",
   "metadata": {},
   "source": [
    "## 载入数据"
   ]
  },
  {
   "cell_type": "code",
   "execution_count": 13,
   "id": "f25424b3",
   "metadata": {},
   "outputs": [],
   "source": [
    "from sklearn.preprocessing import MinMaxScaler\n",
    "from sklearn.model_selection import train_test_split\n",
    "import pandas as pd"
   ]
  },
  {
   "cell_type": "code",
   "execution_count": 15,
   "id": "78ea73fd",
   "metadata": {},
   "outputs": [
    {
     "data": {
      "text/html": [
       "<div>\n",
       "<style scoped>\n",
       "    .dataframe tbody tr th:only-of-type {\n",
       "        vertical-align: middle;\n",
       "    }\n",
       "\n",
       "    .dataframe tbody tr th {\n",
       "        vertical-align: top;\n",
       "    }\n",
       "\n",
       "    .dataframe thead th {\n",
       "        text-align: right;\n",
       "    }\n",
       "</style>\n",
       "<table border=\"1\" class=\"dataframe\">\n",
       "  <thead>\n",
       "    <tr style=\"text-align: right;\">\n",
       "      <th></th>\n",
       "      <th>ID</th>\n",
       "      <th>survival</th>\n",
       "      <th>diagnostics_Mask-interpolated_Mean</th>\n",
       "      <th>diagnostics_Mask-interpolated_Minimum</th>\n",
       "      <th>diagnostics_Mask-interpolated_Maximum</th>\n",
       "      <th>original_shape_Elongation</th>\n",
       "      <th>original_shape_Flatness</th>\n",
       "      <th>original_shape_LeastAxisLength</th>\n",
       "      <th>original_shape_MajorAxisLength</th>\n",
       "      <th>original_shape_Maximum2DDiameterColumn</th>\n",
       "      <th>...</th>\n",
       "      <th>wavelet-LLL_glszm_SmallAreaHighGrayLevelEmphasis</th>\n",
       "      <th>wavelet-LLL_glszm_SmallAreaLowGrayLevelEmphasis</th>\n",
       "      <th>wavelet-LLL_glszm_ZoneEntropy</th>\n",
       "      <th>wavelet-LLL_glszm_ZonePercentage</th>\n",
       "      <th>wavelet-LLL_glszm_ZoneVariance</th>\n",
       "      <th>wavelet-LLL_ngtdm_Busyness</th>\n",
       "      <th>wavelet-LLL_ngtdm_Coarseness</th>\n",
       "      <th>wavelet-LLL_ngtdm_Complexity</th>\n",
       "      <th>wavelet-LLL_ngtdm_Contrast</th>\n",
       "      <th>wavelet-LLL_ngtdm_Strength</th>\n",
       "    </tr>\n",
       "  </thead>\n",
       "  <tbody>\n",
       "    <tr>\n",
       "      <th>0</th>\n",
       "      <td>zouxiuhua.nii.gz</td>\n",
       "      <td>1</td>\n",
       "      <td>1.551246</td>\n",
       "      <td>1.390149</td>\n",
       "      <td>1.930389</td>\n",
       "      <td>0.150819</td>\n",
       "      <td>0.142545</td>\n",
       "      <td>20.461500</td>\n",
       "      <td>143.544551</td>\n",
       "      <td>75.239617</td>\n",
       "      <td>...</td>\n",
       "      <td>5.116649e-07</td>\n",
       "      <td>5.116649e-07</td>\n",
       "      <td>-3.203427e-16</td>\n",
       "      <td>0.000715</td>\n",
       "      <td>0.0</td>\n",
       "      <td>0.0</td>\n",
       "      <td>1000000.0</td>\n",
       "      <td>0.0</td>\n",
       "      <td>0.0</td>\n",
       "      <td>0.0</td>\n",
       "    </tr>\n",
       "    <tr>\n",
       "      <th>1</th>\n",
       "      <td>zoushiyan.nii.gz</td>\n",
       "      <td>0</td>\n",
       "      <td>1.149525</td>\n",
       "      <td>0.998975</td>\n",
       "      <td>1.342239</td>\n",
       "      <td>0.662552</td>\n",
       "      <td>0.506363</td>\n",
       "      <td>13.868811</td>\n",
       "      <td>27.389086</td>\n",
       "      <td>30.594117</td>\n",
       "      <td>...</td>\n",
       "      <td>4.056960e-05</td>\n",
       "      <td>4.056960e-05</td>\n",
       "      <td>-3.203427e-16</td>\n",
       "      <td>0.006369</td>\n",
       "      <td>0.0</td>\n",
       "      <td>0.0</td>\n",
       "      <td>1000000.0</td>\n",
       "      <td>0.0</td>\n",
       "      <td>0.0</td>\n",
       "      <td>0.0</td>\n",
       "    </tr>\n",
       "    <tr>\n",
       "      <th>2</th>\n",
       "      <td>zouchangbao.nii.gz</td>\n",
       "      <td>1</td>\n",
       "      <td>1.192932</td>\n",
       "      <td>0.437862</td>\n",
       "      <td>2.159089</td>\n",
       "      <td>0.621389</td>\n",
       "      <td>0.492888</td>\n",
       "      <td>27.610354</td>\n",
       "      <td>56.017468</td>\n",
       "      <td>55.317267</td>\n",
       "      <td>...</td>\n",
       "      <td>6.180531e-07</td>\n",
       "      <td>6.180531e-07</td>\n",
       "      <td>-3.203427e-16</td>\n",
       "      <td>0.000786</td>\n",
       "      <td>0.0</td>\n",
       "      <td>0.0</td>\n",
       "      <td>1000000.0</td>\n",
       "      <td>0.0</td>\n",
       "      <td>0.0</td>\n",
       "      <td>0.0</td>\n",
       "    </tr>\n",
       "    <tr>\n",
       "      <th>3</th>\n",
       "      <td>zhouliang.nii.gz</td>\n",
       "      <td>0</td>\n",
       "      <td>1.772372</td>\n",
       "      <td>1.192958</td>\n",
       "      <td>2.605635</td>\n",
       "      <td>0.793056</td>\n",
       "      <td>0.500661</td>\n",
       "      <td>27.894539</td>\n",
       "      <td>55.715466</td>\n",
       "      <td>60.671245</td>\n",
       "      <td>...</td>\n",
       "      <td>3.704460e-07</td>\n",
       "      <td>3.704460e-07</td>\n",
       "      <td>-3.203427e-16</td>\n",
       "      <td>0.000609</td>\n",
       "      <td>0.0</td>\n",
       "      <td>0.0</td>\n",
       "      <td>1000000.0</td>\n",
       "      <td>0.0</td>\n",
       "      <td>0.0</td>\n",
       "      <td>0.0</td>\n",
       "    </tr>\n",
       "    <tr>\n",
       "      <th>4</th>\n",
       "      <td>zhoujinyun.nii.gz</td>\n",
       "      <td>0</td>\n",
       "      <td>1.567333</td>\n",
       "      <td>0.924172</td>\n",
       "      <td>2.648966</td>\n",
       "      <td>0.626618</td>\n",
       "      <td>0.498994</td>\n",
       "      <td>44.678242</td>\n",
       "      <td>89.536699</td>\n",
       "      <td>100.129916</td>\n",
       "      <td>...</td>\n",
       "      <td>3.522667e-08</td>\n",
       "      <td>3.522667e-08</td>\n",
       "      <td>-3.203427e-16</td>\n",
       "      <td>0.000188</td>\n",
       "      <td>0.0</td>\n",
       "      <td>0.0</td>\n",
       "      <td>1000000.0</td>\n",
       "      <td>0.0</td>\n",
       "      <td>0.0</td>\n",
       "      <td>0.0</td>\n",
       "    </tr>\n",
       "  </tbody>\n",
       "</table>\n",
       "<p>5 rows × 949 columns</p>\n",
       "</div>"
      ],
      "text/plain": [
       "                   ID  survival  diagnostics_Mask-interpolated_Mean  \\\n",
       "0    zouxiuhua.nii.gz         1                            1.551246   \n",
       "1    zoushiyan.nii.gz         0                            1.149525   \n",
       "2  zouchangbao.nii.gz         1                            1.192932   \n",
       "3    zhouliang.nii.gz         0                            1.772372   \n",
       "4   zhoujinyun.nii.gz         0                            1.567333   \n",
       "\n",
       "   diagnostics_Mask-interpolated_Minimum  \\\n",
       "0                               1.390149   \n",
       "1                               0.998975   \n",
       "2                               0.437862   \n",
       "3                               1.192958   \n",
       "4                               0.924172   \n",
       "\n",
       "   diagnostics_Mask-interpolated_Maximum  original_shape_Elongation  \\\n",
       "0                               1.930389                   0.150819   \n",
       "1                               1.342239                   0.662552   \n",
       "2                               2.159089                   0.621389   \n",
       "3                               2.605635                   0.793056   \n",
       "4                               2.648966                   0.626618   \n",
       "\n",
       "   original_shape_Flatness  original_shape_LeastAxisLength  \\\n",
       "0                 0.142545                       20.461500   \n",
       "1                 0.506363                       13.868811   \n",
       "2                 0.492888                       27.610354   \n",
       "3                 0.500661                       27.894539   \n",
       "4                 0.498994                       44.678242   \n",
       "\n",
       "   original_shape_MajorAxisLength  original_shape_Maximum2DDiameterColumn  \\\n",
       "0                      143.544551                               75.239617   \n",
       "1                       27.389086                               30.594117   \n",
       "2                       56.017468                               55.317267   \n",
       "3                       55.715466                               60.671245   \n",
       "4                       89.536699                              100.129916   \n",
       "\n",
       "   ...  wavelet-LLL_glszm_SmallAreaHighGrayLevelEmphasis  \\\n",
       "0  ...                                      5.116649e-07   \n",
       "1  ...                                      4.056960e-05   \n",
       "2  ...                                      6.180531e-07   \n",
       "3  ...                                      3.704460e-07   \n",
       "4  ...                                      3.522667e-08   \n",
       "\n",
       "   wavelet-LLL_glszm_SmallAreaLowGrayLevelEmphasis  \\\n",
       "0                                     5.116649e-07   \n",
       "1                                     4.056960e-05   \n",
       "2                                     6.180531e-07   \n",
       "3                                     3.704460e-07   \n",
       "4                                     3.522667e-08   \n",
       "\n",
       "   wavelet-LLL_glszm_ZoneEntropy  wavelet-LLL_glszm_ZonePercentage  \\\n",
       "0                  -3.203427e-16                          0.000715   \n",
       "1                  -3.203427e-16                          0.006369   \n",
       "2                  -3.203427e-16                          0.000786   \n",
       "3                  -3.203427e-16                          0.000609   \n",
       "4                  -3.203427e-16                          0.000188   \n",
       "\n",
       "   wavelet-LLL_glszm_ZoneVariance  wavelet-LLL_ngtdm_Busyness  \\\n",
       "0                             0.0                         0.0   \n",
       "1                             0.0                         0.0   \n",
       "2                             0.0                         0.0   \n",
       "3                             0.0                         0.0   \n",
       "4                             0.0                         0.0   \n",
       "\n",
       "   wavelet-LLL_ngtdm_Coarseness  wavelet-LLL_ngtdm_Complexity  \\\n",
       "0                     1000000.0                           0.0   \n",
       "1                     1000000.0                           0.0   \n",
       "2                     1000000.0                           0.0   \n",
       "3                     1000000.0                           0.0   \n",
       "4                     1000000.0                           0.0   \n",
       "\n",
       "   wavelet-LLL_ngtdm_Contrast  wavelet-LLL_ngtdm_Strength  \n",
       "0                         0.0                         0.0  \n",
       "1                         0.0                         0.0  \n",
       "2                         0.0                         0.0  \n",
       "3                         0.0                         0.0  \n",
       "4                         0.0                         0.0  \n",
       "\n",
       "[5 rows x 949 columns]"
      ]
     },
     "execution_count": 15,
     "metadata": {},
     "output_type": "execute_result"
    }
   ],
   "source": [
    "dataFile = '/home/gg/jupyter_notebook_wd/Radiomice/130_gg/results_1.csv'\n",
    "data = pd.read_csv(dataFile)\n",
    "data.head()"
   ]
  },
  {
   "cell_type": "markdown",
   "id": "2fc0bc61",
   "metadata": {},
   "source": [
    "## 数据分割"
   ]
  },
  {
   "cell_type": "code",
   "execution_count": 16,
   "id": "bc507695",
   "metadata": {},
   "outputs": [
    {
     "name": "stdout",
     "output_type": "stream",
     "text": [
      "   diagnostics_Mask-interpolated_Mean  diagnostics_Mask-interpolated_Minimum  \\\n",
      "0                            1.551246                               1.390149   \n",
      "1                            1.149525                               0.998975   \n",
      "2                            1.192932                               0.437862   \n",
      "3                            1.772372                               1.192958   \n",
      "4                            1.567333                               0.924172   \n",
      "\n",
      "   diagnostics_Mask-interpolated_Maximum  original_shape_Elongation  \\\n",
      "0                               1.930389                   0.150819   \n",
      "1                               1.342239                   0.662552   \n",
      "2                               2.159089                   0.621389   \n",
      "3                               2.605635                   0.793056   \n",
      "4                               2.648966                   0.626618   \n",
      "\n",
      "   original_shape_Flatness  original_shape_LeastAxisLength  \\\n",
      "0                 0.142545                       20.461500   \n",
      "1                 0.506363                       13.868811   \n",
      "2                 0.492888                       27.610354   \n",
      "3                 0.500661                       27.894539   \n",
      "4                 0.498994                       44.678242   \n",
      "\n",
      "   original_shape_MajorAxisLength  original_shape_Maximum2DDiameterColumn  \\\n",
      "0                      143.544551                               75.239617   \n",
      "1                       27.389086                               30.594117   \n",
      "2                       56.017468                               55.317267   \n",
      "3                       55.715466                               60.671245   \n",
      "4                       89.536699                              100.129916   \n",
      "\n",
      "   original_shape_Maximum2DDiameterRow  original_shape_Maximum2DDiameterSlice  \\\n",
      "0                           139.459672                              33.541020   \n",
      "1                            30.149627                              21.633308   \n",
      "2                            56.920998                              46.572524   \n",
      "3                            54.332311                              60.299254   \n",
      "4                           100.129916                              61.188234   \n",
      "\n",
      "   ...  wavelet-LLL_glszm_SmallAreaHighGrayLevelEmphasis  \\\n",
      "0  ...                                      5.116649e-07   \n",
      "1  ...                                      4.056960e-05   \n",
      "2  ...                                      6.180531e-07   \n",
      "3  ...                                      3.704460e-07   \n",
      "4  ...                                      3.522667e-08   \n",
      "\n",
      "   wavelet-LLL_glszm_SmallAreaLowGrayLevelEmphasis  \\\n",
      "0                                     5.116649e-07   \n",
      "1                                     4.056960e-05   \n",
      "2                                     6.180531e-07   \n",
      "3                                     3.704460e-07   \n",
      "4                                     3.522667e-08   \n",
      "\n",
      "   wavelet-LLL_glszm_ZoneEntropy  wavelet-LLL_glszm_ZonePercentage  \\\n",
      "0                  -3.203427e-16                          0.000715   \n",
      "1                  -3.203427e-16                          0.006369   \n",
      "2                  -3.203427e-16                          0.000786   \n",
      "3                  -3.203427e-16                          0.000609   \n",
      "4                  -3.203427e-16                          0.000188   \n",
      "\n",
      "   wavelet-LLL_glszm_ZoneVariance  wavelet-LLL_ngtdm_Busyness  \\\n",
      "0                             0.0                         0.0   \n",
      "1                             0.0                         0.0   \n",
      "2                             0.0                         0.0   \n",
      "3                             0.0                         0.0   \n",
      "4                             0.0                         0.0   \n",
      "\n",
      "   wavelet-LLL_ngtdm_Coarseness  wavelet-LLL_ngtdm_Complexity  \\\n",
      "0                     1000000.0                           0.0   \n",
      "1                     1000000.0                           0.0   \n",
      "2                     1000000.0                           0.0   \n",
      "3                     1000000.0                           0.0   \n",
      "4                     1000000.0                           0.0   \n",
      "\n",
      "   wavelet-LLL_ngtdm_Contrast  wavelet-LLL_ngtdm_Strength  \n",
      "0                         0.0                         0.0  \n",
      "1                         0.0                         0.0  \n",
      "2                         0.0                         0.0  \n",
      "3                         0.0                         0.0  \n",
      "4                         0.0                         0.0  \n",
      "\n",
      "[5 rows x 947 columns]\n"
     ]
    }
   ],
   "source": [
    "X = data.iloc[: ,2:]\n",
    "y = data['survival']\n",
    "print(X.head())\n",
    "X_train, X_test, y_train, y_test = train_test_split(X, y, test_size = 0.3)"
   ]
  },
  {
   "cell_type": "markdown",
   "id": "01faad42",
   "metadata": {},
   "source": [
    "## MinMaxScaler缩放处理"
   ]
  },
  {
   "cell_type": "code",
   "execution_count": 18,
   "id": "0b0e0844",
   "metadata": {},
   "outputs": [],
   "source": [
    "scaler_mm = MinMaxScaler()  # (feature_range = (-1,1)) #定义数据缩放范围，如果是0-1就是数据归一化\n",
    "scaler_mm_train = scaler_mm.fit(X_train)\n",
    "\n",
    "X_train_mm = scaler_mm_train.transform(X_train)\n",
    "X_train_mm = pd.DataFrame(X_train_mm,columns = X_train.columns)\n",
    "\n",
    "X_test_mm = scaler_mm_train.transform(X_test) #用训练集拟合的参数对验证集进行缩放\n",
    "X_test_mm = pd.DataFrame(X_test_mm,columns = X_test.columns)"
   ]
  },
  {
   "cell_type": "markdown",
   "id": "b1a0abe7",
   "metadata": {},
   "source": [
    "## StandardScaler缩放处理"
   ]
  },
  {
   "cell_type": "code",
   "execution_count": 23,
   "id": "ba431f7c",
   "metadata": {},
   "outputs": [],
   "source": [
    "from sklearn.preprocessing import StandardScaler\n",
    "scaler_ss = StandardScaler()\n",
    "scaler_ss_train = scaler_ss.fit(X_train)\n",
    "\n",
    "X_train_ss = scaler_ss_train.transform(X_train)\n",
    "X_train_ss = pd.DataFrame(X_train_ss, columns = X_train.columns)\n",
    "\n",
    "X_test_ss = scaler_ss_train.transform(X_test)\n",
    "X_test_ss = pd.DataFrame(X_test_ss, columns = X_test.columns)\n"
   ]
  },
  {
   "cell_type": "markdown",
   "id": "d5fce0f8",
   "metadata": {},
   "source": [
    "# 3.特征筛选"
   ]
  },
  {
   "cell_type": "code",
   "execution_count": 55,
   "id": "b9e1e0cc",
   "metadata": {},
   "outputs": [],
   "source": [
    "import pandas as pd\n",
    "from scipy.stats import ttest_ind, levene\n",
    "from scipy.stats import mannwhitneyu"
   ]
  },
  {
   "cell_type": "code",
   "execution_count": 56,
   "id": "a149f6aa",
   "metadata": {},
   "outputs": [],
   "source": [
    "dataFile = '/home/gg/jupyter_notebook_wd/Radiomice/130_gg/results_1.csv'\n",
    "data1 = pd.read_csv(dataFile)\n",
    "data = data1.iloc[:,1:]\n",
    "data_a = data[data['survival'] == 0]\n",
    "data_b = data[data['survival'] == 1]"
   ]
  },
  {
   "cell_type": "code",
   "execution_count": 59,
   "id": "a86c9171",
   "metadata": {},
   "outputs": [
    {
     "data": {
      "text/html": [
       "<div>\n",
       "<style scoped>\n",
       "    .dataframe tbody tr th:only-of-type {\n",
       "        vertical-align: middle;\n",
       "    }\n",
       "\n",
       "    .dataframe tbody tr th {\n",
       "        vertical-align: top;\n",
       "    }\n",
       "\n",
       "    .dataframe thead th {\n",
       "        text-align: right;\n",
       "    }\n",
       "</style>\n",
       "<table border=\"1\" class=\"dataframe\">\n",
       "  <thead>\n",
       "    <tr style=\"text-align: right;\">\n",
       "      <th></th>\n",
       "      <th>ID</th>\n",
       "      <th>survival</th>\n",
       "      <th>diagnostics_Mask-interpolated_Mean</th>\n",
       "      <th>diagnostics_Mask-interpolated_Minimum</th>\n",
       "      <th>diagnostics_Mask-interpolated_Maximum</th>\n",
       "      <th>original_shape_Elongation</th>\n",
       "      <th>original_shape_Flatness</th>\n",
       "      <th>original_shape_LeastAxisLength</th>\n",
       "      <th>original_shape_MajorAxisLength</th>\n",
       "      <th>original_shape_Maximum2DDiameterColumn</th>\n",
       "      <th>...</th>\n",
       "      <th>wavelet-LLL_glszm_SmallAreaHighGrayLevelEmphasis</th>\n",
       "      <th>wavelet-LLL_glszm_SmallAreaLowGrayLevelEmphasis</th>\n",
       "      <th>wavelet-LLL_glszm_ZoneEntropy</th>\n",
       "      <th>wavelet-LLL_glszm_ZonePercentage</th>\n",
       "      <th>wavelet-LLL_glszm_ZoneVariance</th>\n",
       "      <th>wavelet-LLL_ngtdm_Busyness</th>\n",
       "      <th>wavelet-LLL_ngtdm_Coarseness</th>\n",
       "      <th>wavelet-LLL_ngtdm_Complexity</th>\n",
       "      <th>wavelet-LLL_ngtdm_Contrast</th>\n",
       "      <th>wavelet-LLL_ngtdm_Strength</th>\n",
       "    </tr>\n",
       "  </thead>\n",
       "  <tbody>\n",
       "    <tr>\n",
       "      <th>0</th>\n",
       "      <td>zouxiuhua.nii.gz</td>\n",
       "      <td>1</td>\n",
       "      <td>1.551246</td>\n",
       "      <td>1.390149</td>\n",
       "      <td>1.930389</td>\n",
       "      <td>0.150819</td>\n",
       "      <td>0.142545</td>\n",
       "      <td>20.461500</td>\n",
       "      <td>143.544551</td>\n",
       "      <td>75.239617</td>\n",
       "      <td>...</td>\n",
       "      <td>5.116649e-07</td>\n",
       "      <td>5.116649e-07</td>\n",
       "      <td>-3.203427e-16</td>\n",
       "      <td>0.000715</td>\n",
       "      <td>0.0</td>\n",
       "      <td>0.0</td>\n",
       "      <td>1000000.0</td>\n",
       "      <td>0.0</td>\n",
       "      <td>0.0</td>\n",
       "      <td>0.0</td>\n",
       "    </tr>\n",
       "    <tr>\n",
       "      <th>1</th>\n",
       "      <td>zoushiyan.nii.gz</td>\n",
       "      <td>0</td>\n",
       "      <td>1.149525</td>\n",
       "      <td>0.998975</td>\n",
       "      <td>1.342239</td>\n",
       "      <td>0.662552</td>\n",
       "      <td>0.506363</td>\n",
       "      <td>13.868811</td>\n",
       "      <td>27.389086</td>\n",
       "      <td>30.594117</td>\n",
       "      <td>...</td>\n",
       "      <td>4.056960e-05</td>\n",
       "      <td>4.056960e-05</td>\n",
       "      <td>-3.203427e-16</td>\n",
       "      <td>0.006369</td>\n",
       "      <td>0.0</td>\n",
       "      <td>0.0</td>\n",
       "      <td>1000000.0</td>\n",
       "      <td>0.0</td>\n",
       "      <td>0.0</td>\n",
       "      <td>0.0</td>\n",
       "    </tr>\n",
       "    <tr>\n",
       "      <th>2</th>\n",
       "      <td>zouchangbao.nii.gz</td>\n",
       "      <td>1</td>\n",
       "      <td>1.192932</td>\n",
       "      <td>0.437862</td>\n",
       "      <td>2.159089</td>\n",
       "      <td>0.621389</td>\n",
       "      <td>0.492888</td>\n",
       "      <td>27.610354</td>\n",
       "      <td>56.017468</td>\n",
       "      <td>55.317267</td>\n",
       "      <td>...</td>\n",
       "      <td>6.180531e-07</td>\n",
       "      <td>6.180531e-07</td>\n",
       "      <td>-3.203427e-16</td>\n",
       "      <td>0.000786</td>\n",
       "      <td>0.0</td>\n",
       "      <td>0.0</td>\n",
       "      <td>1000000.0</td>\n",
       "      <td>0.0</td>\n",
       "      <td>0.0</td>\n",
       "      <td>0.0</td>\n",
       "    </tr>\n",
       "    <tr>\n",
       "      <th>3</th>\n",
       "      <td>zhouliang.nii.gz</td>\n",
       "      <td>0</td>\n",
       "      <td>1.772372</td>\n",
       "      <td>1.192958</td>\n",
       "      <td>2.605635</td>\n",
       "      <td>0.793056</td>\n",
       "      <td>0.500661</td>\n",
       "      <td>27.894539</td>\n",
       "      <td>55.715466</td>\n",
       "      <td>60.671245</td>\n",
       "      <td>...</td>\n",
       "      <td>3.704460e-07</td>\n",
       "      <td>3.704460e-07</td>\n",
       "      <td>-3.203427e-16</td>\n",
       "      <td>0.000609</td>\n",
       "      <td>0.0</td>\n",
       "      <td>0.0</td>\n",
       "      <td>1000000.0</td>\n",
       "      <td>0.0</td>\n",
       "      <td>0.0</td>\n",
       "      <td>0.0</td>\n",
       "    </tr>\n",
       "    <tr>\n",
       "      <th>4</th>\n",
       "      <td>zhoujinyun.nii.gz</td>\n",
       "      <td>0</td>\n",
       "      <td>1.567333</td>\n",
       "      <td>0.924172</td>\n",
       "      <td>2.648966</td>\n",
       "      <td>0.626618</td>\n",
       "      <td>0.498994</td>\n",
       "      <td>44.678242</td>\n",
       "      <td>89.536699</td>\n",
       "      <td>100.129916</td>\n",
       "      <td>...</td>\n",
       "      <td>3.522667e-08</td>\n",
       "      <td>3.522667e-08</td>\n",
       "      <td>-3.203427e-16</td>\n",
       "      <td>0.000188</td>\n",
       "      <td>0.0</td>\n",
       "      <td>0.0</td>\n",
       "      <td>1000000.0</td>\n",
       "      <td>0.0</td>\n",
       "      <td>0.0</td>\n",
       "      <td>0.0</td>\n",
       "    </tr>\n",
       "  </tbody>\n",
       "</table>\n",
       "<p>5 rows × 949 columns</p>\n",
       "</div>"
      ],
      "text/plain": [
       "                   ID  survival  diagnostics_Mask-interpolated_Mean  \\\n",
       "0    zouxiuhua.nii.gz         1                            1.551246   \n",
       "1    zoushiyan.nii.gz         0                            1.149525   \n",
       "2  zouchangbao.nii.gz         1                            1.192932   \n",
       "3    zhouliang.nii.gz         0                            1.772372   \n",
       "4   zhoujinyun.nii.gz         0                            1.567333   \n",
       "\n",
       "   diagnostics_Mask-interpolated_Minimum  \\\n",
       "0                               1.390149   \n",
       "1                               0.998975   \n",
       "2                               0.437862   \n",
       "3                               1.192958   \n",
       "4                               0.924172   \n",
       "\n",
       "   diagnostics_Mask-interpolated_Maximum  original_shape_Elongation  \\\n",
       "0                               1.930389                   0.150819   \n",
       "1                               1.342239                   0.662552   \n",
       "2                               2.159089                   0.621389   \n",
       "3                               2.605635                   0.793056   \n",
       "4                               2.648966                   0.626618   \n",
       "\n",
       "   original_shape_Flatness  original_shape_LeastAxisLength  \\\n",
       "0                 0.142545                       20.461500   \n",
       "1                 0.506363                       13.868811   \n",
       "2                 0.492888                       27.610354   \n",
       "3                 0.500661                       27.894539   \n",
       "4                 0.498994                       44.678242   \n",
       "\n",
       "   original_shape_MajorAxisLength  original_shape_Maximum2DDiameterColumn  \\\n",
       "0                      143.544551                               75.239617   \n",
       "1                       27.389086                               30.594117   \n",
       "2                       56.017468                               55.317267   \n",
       "3                       55.715466                               60.671245   \n",
       "4                       89.536699                              100.129916   \n",
       "\n",
       "   ...  wavelet-LLL_glszm_SmallAreaHighGrayLevelEmphasis  \\\n",
       "0  ...                                      5.116649e-07   \n",
       "1  ...                                      4.056960e-05   \n",
       "2  ...                                      6.180531e-07   \n",
       "3  ...                                      3.704460e-07   \n",
       "4  ...                                      3.522667e-08   \n",
       "\n",
       "   wavelet-LLL_glszm_SmallAreaLowGrayLevelEmphasis  \\\n",
       "0                                     5.116649e-07   \n",
       "1                                     4.056960e-05   \n",
       "2                                     6.180531e-07   \n",
       "3                                     3.704460e-07   \n",
       "4                                     3.522667e-08   \n",
       "\n",
       "   wavelet-LLL_glszm_ZoneEntropy  wavelet-LLL_glszm_ZonePercentage  \\\n",
       "0                  -3.203427e-16                          0.000715   \n",
       "1                  -3.203427e-16                          0.006369   \n",
       "2                  -3.203427e-16                          0.000786   \n",
       "3                  -3.203427e-16                          0.000609   \n",
       "4                  -3.203427e-16                          0.000188   \n",
       "\n",
       "   wavelet-LLL_glszm_ZoneVariance  wavelet-LLL_ngtdm_Busyness  \\\n",
       "0                             0.0                         0.0   \n",
       "1                             0.0                         0.0   \n",
       "2                             0.0                         0.0   \n",
       "3                             0.0                         0.0   \n",
       "4                             0.0                         0.0   \n",
       "\n",
       "   wavelet-LLL_ngtdm_Coarseness  wavelet-LLL_ngtdm_Complexity  \\\n",
       "0                     1000000.0                           0.0   \n",
       "1                     1000000.0                           0.0   \n",
       "2                     1000000.0                           0.0   \n",
       "3                     1000000.0                           0.0   \n",
       "4                     1000000.0                           0.0   \n",
       "\n",
       "   wavelet-LLL_ngtdm_Contrast  wavelet-LLL_ngtdm_Strength  \n",
       "0                         0.0                         0.0  \n",
       "1                         0.0                         0.0  \n",
       "2                         0.0                         0.0  \n",
       "3                         0.0                         0.0  \n",
       "4                         0.0                         0.0  \n",
       "\n",
       "[5 rows x 949 columns]"
      ]
     },
     "execution_count": 59,
     "metadata": {},
     "output_type": "execute_result"
    }
   ],
   "source": [
    "data1.head()"
   ]
  },
  {
   "cell_type": "code",
   "execution_count": null,
   "id": "2eb0795d",
   "metadata": {},
   "outputs": [],
   "source": []
  },
  {
   "cell_type": "code",
   "execution_count": 57,
   "id": "1f8edba3",
   "metadata": {},
   "outputs": [
    {
     "name": "stdout",
     "output_type": "stream",
     "text": [
      "(60, 947) (40, 947)\n"
     ]
    }
   ],
   "source": [
    "X_a = data_a.iloc[: ,1:]\n",
    "y_a = data_a['survival']\n",
    "X_b = data_b.iloc[: ,1:]\n",
    "y_b = data_b['survival']\n",
    "print(X_a.shape, X_b.shape)"
   ]
  },
  {
   "cell_type": "markdown",
   "id": "5a159dcf",
   "metadata": {},
   "source": [
    "## 曼惠特尼方法筛选"
   ]
  },
  {
   "cell_type": "code",
   "execution_count": 58,
   "id": "781294cc",
   "metadata": {},
   "outputs": [
    {
     "name": "stdout",
     "output_type": "stream",
     "text": [
      "24\n",
      "['wavelet-LLH_glszm_GrayLevelNonUniformity', 'wavelet-LLH_glszm_SizeZoneNonUniformityNormalized', 'wavelet-LLH_glszm_SmallAreaLowGrayLevelEmphasis', 'wavelet-LLH_glszm_ZoneEntropy', 'wavelet-LHL_glcm_DifferenceEntropy', 'wavelet-LHL_glcm_DifferenceVariance', 'wavelet-LHL_glcm_Imc1', 'wavelet-LHL_glszm_SizeZoneNonUniformityNormalized', 'wavelet-LHL_glszm_ZoneEntropy', 'wavelet-LHH_firstorder_Mean', 'wavelet-LHH_glcm_Imc2', 'wavelet-LHH_glcm_MCC', 'wavelet-LHH_glszm_GrayLevelNonUniformity', 'wavelet-LHH_glszm_SizeZoneNonUniformityNormalized', 'wavelet-LHH_glszm_ZoneEntropy', 'wavelet-HHL_glszm_GrayLevelNonUniformity', 'wavelet-HHH_glcm_ClusterShade', 'wavelet-HHH_glszm_GrayLevelNonUniformity', 'wavelet-HHH_glszm_GrayLevelNonUniformityNormalized', 'wavelet-HHH_glszm_GrayLevelVariance', 'wavelet-HHH_glszm_SizeZoneNonUniformityNormalized', 'wavelet-HHH_glszm_SmallAreaLowGrayLevelEmphasis', 'wavelet-HHH_glszm_ZoneEntropy', 'wavelet-HHH_glszm_ZoneVariance']\n"
     ]
    }
   ],
   "source": [
    "#不需要进行方差齐性\n",
    "colNamesSel_mwU = []\n",
    "for colName in X_a.columns[:]: \n",
    "    if mannwhitneyu(X_a[colName],X_b[colName])[1] < 0.05:\n",
    "        colNamesSel_mwU.append(colName)\n",
    "print(len(colNamesSel_mwU))\n",
    "print(colNamesSel_mwU)"
   ]
  },
  {
   "cell_type": "code",
   "execution_count": 62,
   "id": "5a3cf62b",
   "metadata": {},
   "outputs": [],
   "source": [
    "Out_X = data1[colNamesSel_mwU]\n",
    "Out_y = data1.iloc[:,:2]"
   ]
  },
  {
   "cell_type": "code",
   "execution_count": 2,
   "id": "d5782f48",
   "metadata": {},
   "outputs": [
    {
     "ename": "NameError",
     "evalue": "name 'pd' is not defined",
     "output_type": "error",
     "traceback": [
      "\u001b[0;31m---------------------------------------------------------------------------\u001b[0m",
      "\u001b[0;31mNameError\u001b[0m                                 Traceback (most recent call last)",
      "Cell \u001b[0;32mIn[2], line 1\u001b[0m\n\u001b[0;32m----> 1\u001b[0m data_combined \u001b[38;5;241m=\u001b[39m \u001b[43mpd\u001b[49m\u001b[38;5;241m.\u001b[39mconcat([Out_y , Out_X ], axis\u001b[38;5;241m=\u001b[39m\u001b[38;5;241m1\u001b[39m)\n\u001b[1;32m      2\u001b[0m data_combined\u001b[38;5;241m.\u001b[39mto_csv(\u001b[38;5;124m'\u001b[39m\u001b[38;5;124mdeep_feature_output.csv\u001b[39m\u001b[38;5;124m'\u001b[39m, index\u001b[38;5;241m=\u001b[39m\u001b[38;5;28;01mFalse\u001b[39;00m)\n",
      "\u001b[0;31mNameError\u001b[0m: name 'pd' is not defined"
     ]
    }
   ],
   "source": [
    "data_combined = pd.concat([Out_y , Out_X ], axis=1)\n",
    "data_combined.to_csv('output.csv', index=False)"
   ]
  },
  {
   "cell_type": "markdown",
   "id": "00b29dab",
   "metadata": {},
   "source": [
    "# LASSO再次筛"
   ]
  },
  {
   "cell_type": "code",
   "execution_count": 34,
   "id": "79016504",
   "metadata": {},
   "outputs": [],
   "source": [
    "from sklearn.linear_model import LassoCV\n",
    "import pandas as pd\n",
    "import numpy as np"
   ]
  },
  {
   "cell_type": "code",
   "execution_count": 40,
   "id": "22a15a55",
   "metadata": {},
   "outputs": [
    {
     "name": "stderr",
     "output_type": "stream",
     "text": [
      "/home/gg/mambaforge/envs/radiomics_env/lib/python3.9/site-packages/sklearn/linear_model/_coordinate_descent.py:683: ConvergenceWarning: Objective did not converge. You might want to increase the number of iterations. Duality gap: 0.013002738707990957, tolerance: 0.0019549999999999997\n",
      "  model = cd_fast.enet_coordinate_descent_gram(\n",
      "/home/gg/mambaforge/envs/radiomics_env/lib/python3.9/site-packages/sklearn/linear_model/_coordinate_descent.py:683: ConvergenceWarning: Objective did not converge. You might want to increase the number of iterations. Duality gap: 0.02384961549703668, tolerance: 0.0019549999999999997\n",
      "  model = cd_fast.enet_coordinate_descent_gram(\n",
      "/home/gg/mambaforge/envs/radiomics_env/lib/python3.9/site-packages/sklearn/linear_model/_coordinate_descent.py:683: ConvergenceWarning: Objective did not converge. You might want to increase the number of iterations. Duality gap: 0.024331084120600366, tolerance: 0.0019549999999999997\n",
      "  model = cd_fast.enet_coordinate_descent_gram(\n",
      "/home/gg/mambaforge/envs/radiomics_env/lib/python3.9/site-packages/sklearn/linear_model/_coordinate_descent.py:683: ConvergenceWarning: Objective did not converge. You might want to increase the number of iterations. Duality gap: 0.010965141916134513, tolerance: 0.0019549999999999997\n",
      "  model = cd_fast.enet_coordinate_descent_gram(\n",
      "/home/gg/mambaforge/envs/radiomics_env/lib/python3.9/site-packages/sklearn/linear_model/_coordinate_descent.py:683: ConvergenceWarning: Objective did not converge. You might want to increase the number of iterations. Duality gap: 0.00503877270737263, tolerance: 0.0018987500000000005\n",
      "  model = cd_fast.enet_coordinate_descent_gram(\n",
      "/home/gg/mambaforge/envs/radiomics_env/lib/python3.9/site-packages/sklearn/linear_model/_coordinate_descent.py:683: ConvergenceWarning: Objective did not converge. You might want to increase the number of iterations. Duality gap: 0.008540537778252144, tolerance: 0.0018987500000000005\n",
      "  model = cd_fast.enet_coordinate_descent_gram(\n",
      "/home/gg/mambaforge/envs/radiomics_env/lib/python3.9/site-packages/sklearn/linear_model/_coordinate_descent.py:683: ConvergenceWarning: Objective did not converge. You might want to increase the number of iterations. Duality gap: 0.008448240971308252, tolerance: 0.0018987500000000005\n",
      "  model = cd_fast.enet_coordinate_descent_gram(\n",
      "/home/gg/mambaforge/envs/radiomics_env/lib/python3.9/site-packages/sklearn/linear_model/_coordinate_descent.py:683: ConvergenceWarning: Objective did not converge. You might want to increase the number of iterations. Duality gap: 0.0054786179876860075, tolerance: 0.0018987500000000005\n",
      "  model = cd_fast.enet_coordinate_descent_gram(\n",
      "/home/gg/mambaforge/envs/radiomics_env/lib/python3.9/site-packages/sklearn/linear_model/_coordinate_descent.py:683: ConvergenceWarning: Objective did not converge. You might want to increase the number of iterations. Duality gap: 0.008641371233771622, tolerance: 0.0018987500000000005\n",
      "  model = cd_fast.enet_coordinate_descent_gram(\n",
      "/home/gg/mambaforge/envs/radiomics_env/lib/python3.9/site-packages/sklearn/linear_model/_coordinate_descent.py:683: ConvergenceWarning: Objective did not converge. You might want to increase the number of iterations. Duality gap: 0.008009377858014588, tolerance: 0.0018987500000000005\n",
      "  model = cd_fast.enet_coordinate_descent_gram(\n",
      "/home/gg/mambaforge/envs/radiomics_env/lib/python3.9/site-packages/sklearn/linear_model/_coordinate_descent.py:683: ConvergenceWarning: Objective did not converge. You might want to increase the number of iterations. Duality gap: 0.007489259759381639, tolerance: 0.0018987500000000005\n",
      "  model = cd_fast.enet_coordinate_descent_gram(\n",
      "/home/gg/mambaforge/envs/radiomics_env/lib/python3.9/site-packages/sklearn/linear_model/_coordinate_descent.py:683: ConvergenceWarning: Objective did not converge. You might want to increase the number of iterations. Duality gap: 0.007091071248908065, tolerance: 0.0018987500000000005\n",
      "  model = cd_fast.enet_coordinate_descent_gram(\n",
      "/home/gg/mambaforge/envs/radiomics_env/lib/python3.9/site-packages/sklearn/linear_model/_coordinate_descent.py:683: ConvergenceWarning: Objective did not converge. You might want to increase the number of iterations. Duality gap: 0.006664482630451829, tolerance: 0.0018987500000000005\n",
      "  model = cd_fast.enet_coordinate_descent_gram(\n",
      "/home/gg/mambaforge/envs/radiomics_env/lib/python3.9/site-packages/sklearn/linear_model/_coordinate_descent.py:683: ConvergenceWarning: Objective did not converge. You might want to increase the number of iterations. Duality gap: 0.006400285268965078, tolerance: 0.0018987500000000005\n",
      "  model = cd_fast.enet_coordinate_descent_gram(\n",
      "/home/gg/mambaforge/envs/radiomics_env/lib/python3.9/site-packages/sklearn/linear_model/_coordinate_descent.py:683: ConvergenceWarning: Objective did not converge. You might want to increase the number of iterations. Duality gap: 0.006114679317231975, tolerance: 0.0018987500000000005\n",
      "  model = cd_fast.enet_coordinate_descent_gram(\n",
      "/home/gg/mambaforge/envs/radiomics_env/lib/python3.9/site-packages/sklearn/linear_model/_coordinate_descent.py:683: ConvergenceWarning: Objective did not converge. You might want to increase the number of iterations. Duality gap: 0.005864426840455295, tolerance: 0.0018987500000000005\n",
      "  model = cd_fast.enet_coordinate_descent_gram(\n",
      "/home/gg/mambaforge/envs/radiomics_env/lib/python3.9/site-packages/sklearn/linear_model/_coordinate_descent.py:683: ConvergenceWarning: Objective did not converge. You might want to increase the number of iterations. Duality gap: 0.005544967425338498, tolerance: 0.0018987500000000005\n",
      "  model = cd_fast.enet_coordinate_descent_gram(\n",
      "/home/gg/mambaforge/envs/radiomics_env/lib/python3.9/site-packages/sklearn/linear_model/_coordinate_descent.py:683: ConvergenceWarning: Objective did not converge. You might want to increase the number of iterations. Duality gap: 0.005467879973235057, tolerance: 0.0018987500000000005\n",
      "  model = cd_fast.enet_coordinate_descent_gram(\n",
      "/home/gg/mambaforge/envs/radiomics_env/lib/python3.9/site-packages/sklearn/linear_model/_coordinate_descent.py:683: ConvergenceWarning: Objective did not converge. You might want to increase the number of iterations. Duality gap: 0.005326351465004819, tolerance: 0.0018987500000000005\n",
      "  model = cd_fast.enet_coordinate_descent_gram(\n",
      "/home/gg/mambaforge/envs/radiomics_env/lib/python3.9/site-packages/sklearn/linear_model/_coordinate_descent.py:683: ConvergenceWarning: Objective did not converge. You might want to increase the number of iterations. Duality gap: 0.005202859581924457, tolerance: 0.0018987500000000005\n",
      "  model = cd_fast.enet_coordinate_descent_gram(\n",
      "/home/gg/mambaforge/envs/radiomics_env/lib/python3.9/site-packages/sklearn/linear_model/_coordinate_descent.py:683: ConvergenceWarning: Objective did not converge. You might want to increase the number of iterations. Duality gap: 0.005100399639237807, tolerance: 0.0018987500000000005\n",
      "  model = cd_fast.enet_coordinate_descent_gram(\n",
      "/home/gg/mambaforge/envs/radiomics_env/lib/python3.9/site-packages/sklearn/linear_model/_coordinate_descent.py:683: ConvergenceWarning: Objective did not converge. You might want to increase the number of iterations. Duality gap: 0.0050160547587658755, tolerance: 0.0018987500000000005\n",
      "  model = cd_fast.enet_coordinate_descent_gram(\n",
      "/home/gg/mambaforge/envs/radiomics_env/lib/python3.9/site-packages/sklearn/linear_model/_coordinate_descent.py:683: ConvergenceWarning: Objective did not converge. You might want to increase the number of iterations. Duality gap: 0.004946847454696979, tolerance: 0.0018987500000000005\n",
      "  model = cd_fast.enet_coordinate_descent_gram(\n",
      "/home/gg/mambaforge/envs/radiomics_env/lib/python3.9/site-packages/sklearn/linear_model/_coordinate_descent.py:683: ConvergenceWarning: Objective did not converge. You might want to increase the number of iterations. Duality gap: 0.00489019137169322, tolerance: 0.0018987500000000005\n",
      "  model = cd_fast.enet_coordinate_descent_gram(\n",
      "/home/gg/mambaforge/envs/radiomics_env/lib/python3.9/site-packages/sklearn/linear_model/_coordinate_descent.py:683: ConvergenceWarning: Objective did not converge. You might want to increase the number of iterations. Duality gap: 0.0048438956807608236, tolerance: 0.0018987500000000005\n",
      "  model = cd_fast.enet_coordinate_descent_gram(\n",
      "/home/gg/mambaforge/envs/radiomics_env/lib/python3.9/site-packages/sklearn/linear_model/_coordinate_descent.py:683: ConvergenceWarning: Objective did not converge. You might want to increase the number of iterations. Duality gap: 0.004806117690534961, tolerance: 0.0018987500000000005\n",
      "  model = cd_fast.enet_coordinate_descent_gram(\n",
      "/home/gg/mambaforge/envs/radiomics_env/lib/python3.9/site-packages/sklearn/linear_model/_coordinate_descent.py:683: ConvergenceWarning: Objective did not converge. You might want to increase the number of iterations. Duality gap: 0.004775329515585014, tolerance: 0.0018987500000000005\n",
      "  model = cd_fast.enet_coordinate_descent_gram(\n",
      "/home/gg/mambaforge/envs/radiomics_env/lib/python3.9/site-packages/sklearn/linear_model/_coordinate_descent.py:683: ConvergenceWarning: Objective did not converge. You might want to increase the number of iterations. Duality gap: 0.004750253455320319, tolerance: 0.0018987500000000005\n",
      "  model = cd_fast.enet_coordinate_descent_gram(\n",
      "/home/gg/mambaforge/envs/radiomics_env/lib/python3.9/site-packages/sklearn/linear_model/_coordinate_descent.py:683: ConvergenceWarning: Objective did not converge. You might want to increase the number of iterations. Duality gap: 0.004729854081436002, tolerance: 0.0018987500000000005\n",
      "  model = cd_fast.enet_coordinate_descent_gram(\n"
     ]
    },
    {
     "name": "stderr",
     "output_type": "stream",
     "text": [
      "/home/gg/mambaforge/envs/radiomics_env/lib/python3.9/site-packages/sklearn/linear_model/_coordinate_descent.py:683: ConvergenceWarning: Objective did not converge. You might want to increase the number of iterations. Duality gap: 0.00471326722533405, tolerance: 0.0018987500000000005\n",
      "  model = cd_fast.enet_coordinate_descent_gram(\n",
      "/home/gg/mambaforge/envs/radiomics_env/lib/python3.9/site-packages/sklearn/linear_model/_coordinate_descent.py:683: ConvergenceWarning: Objective did not converge. You might want to increase the number of iterations. Duality gap: 0.00469978341039301, tolerance: 0.0018987500000000005\n",
      "  model = cd_fast.enet_coordinate_descent_gram(\n",
      "/home/gg/mambaforge/envs/radiomics_env/lib/python3.9/site-packages/sklearn/linear_model/_coordinate_descent.py:683: ConvergenceWarning: Objective did not converge. You might want to increase the number of iterations. Duality gap: 0.004688818520087068, tolerance: 0.0018987500000000005\n",
      "  model = cd_fast.enet_coordinate_descent_gram(\n",
      "/home/gg/mambaforge/envs/radiomics_env/lib/python3.9/site-packages/sklearn/linear_model/_coordinate_descent.py:683: ConvergenceWarning: Objective did not converge. You might want to increase the number of iterations. Duality gap: 0.004679927384058757, tolerance: 0.0018987500000000005\n",
      "  model = cd_fast.enet_coordinate_descent_gram(\n",
      "/home/gg/mambaforge/envs/radiomics_env/lib/python3.9/site-packages/sklearn/linear_model/_coordinate_descent.py:683: ConvergenceWarning: Objective did not converge. You might want to increase the number of iterations. Duality gap: 0.0046727064547482655, tolerance: 0.0018987500000000005\n",
      "  model = cd_fast.enet_coordinate_descent_gram(\n",
      "/home/gg/mambaforge/envs/radiomics_env/lib/python3.9/site-packages/sklearn/linear_model/_coordinate_descent.py:683: ConvergenceWarning: Objective did not converge. You might want to increase the number of iterations. Duality gap: 0.004666843564384848, tolerance: 0.0018987500000000005\n",
      "  model = cd_fast.enet_coordinate_descent_gram(\n",
      "/home/gg/mambaforge/envs/radiomics_env/lib/python3.9/site-packages/sklearn/linear_model/_coordinate_descent.py:683: ConvergenceWarning: Objective did not converge. You might want to increase the number of iterations. Duality gap: 0.004662070941860108, tolerance: 0.0018987500000000005\n",
      "  model = cd_fast.enet_coordinate_descent_gram(\n",
      "/home/gg/mambaforge/envs/radiomics_env/lib/python3.9/site-packages/sklearn/linear_model/_coordinate_descent.py:683: ConvergenceWarning: Objective did not converge. You might want to increase the number of iterations. Duality gap: 0.004658200188401906, tolerance: 0.0018987500000000005\n",
      "  model = cd_fast.enet_coordinate_descent_gram(\n",
      "/home/gg/mambaforge/envs/radiomics_env/lib/python3.9/site-packages/sklearn/linear_model/_coordinate_descent.py:683: ConvergenceWarning: Objective did not converge. You might want to increase the number of iterations. Duality gap: 0.004655087992139428, tolerance: 0.0018987500000000005\n",
      "  model = cd_fast.enet_coordinate_descent_gram(\n",
      "/home/gg/mambaforge/envs/radiomics_env/lib/python3.9/site-packages/sklearn/linear_model/_coordinate_descent.py:683: ConvergenceWarning: Objective did not converge. You might want to increase the number of iterations. Duality gap: 0.004652525820286968, tolerance: 0.0018987500000000005\n",
      "  model = cd_fast.enet_coordinate_descent_gram(\n",
      "/home/gg/mambaforge/envs/radiomics_env/lib/python3.9/site-packages/sklearn/linear_model/_coordinate_descent.py:683: ConvergenceWarning: Objective did not converge. You might want to increase the number of iterations. Duality gap: 0.004650470669727014, tolerance: 0.0018987500000000005\n",
      "  model = cd_fast.enet_coordinate_descent_gram(\n",
      "/home/gg/mambaforge/envs/radiomics_env/lib/python3.9/site-packages/sklearn/linear_model/_coordinate_descent.py:683: ConvergenceWarning: Objective did not converge. You might want to increase the number of iterations. Duality gap: 0.004648803904794718, tolerance: 0.0018987500000000005\n",
      "  model = cd_fast.enet_coordinate_descent_gram(\n",
      "/home/gg/mambaforge/envs/radiomics_env/lib/python3.9/site-packages/sklearn/linear_model/_coordinate_descent.py:683: ConvergenceWarning: Objective did not converge. You might want to increase the number of iterations. Duality gap: 0.004647420753887133, tolerance: 0.0018987500000000005\n",
      "  model = cd_fast.enet_coordinate_descent_gram(\n",
      "/home/gg/mambaforge/envs/radiomics_env/lib/python3.9/site-packages/sklearn/linear_model/_coordinate_descent.py:683: ConvergenceWarning: Objective did not converge. You might want to increase the number of iterations. Duality gap: 0.004646318091914736, tolerance: 0.0018987500000000005\n",
      "  model = cd_fast.enet_coordinate_descent_gram(\n",
      "/home/gg/mambaforge/envs/radiomics_env/lib/python3.9/site-packages/sklearn/linear_model/_coordinate_descent.py:683: ConvergenceWarning: Objective did not converge. You might want to increase the number of iterations. Duality gap: 0.004645399433149677, tolerance: 0.0018987500000000005\n",
      "  model = cd_fast.enet_coordinate_descent_gram(\n",
      "/home/gg/mambaforge/envs/radiomics_env/lib/python3.9/site-packages/sklearn/linear_model/_coordinate_descent.py:683: ConvergenceWarning: Objective did not converge. You might want to increase the number of iterations. Duality gap: 0.004644703320778376, tolerance: 0.0018987500000000005\n",
      "  model = cd_fast.enet_coordinate_descent_gram(\n",
      "/home/gg/mambaforge/envs/radiomics_env/lib/python3.9/site-packages/sklearn/linear_model/_coordinate_descent.py:683: ConvergenceWarning: Objective did not converge. You might want to increase the number of iterations. Duality gap: 0.0046441728299697616, tolerance: 0.0018987500000000005\n",
      "  model = cd_fast.enet_coordinate_descent_gram(\n",
      "/home/gg/mambaforge/envs/radiomics_env/lib/python3.9/site-packages/sklearn/linear_model/_coordinate_descent.py:683: ConvergenceWarning: Objective did not converge. You might want to increase the number of iterations. Duality gap: 0.004643582050229966, tolerance: 0.0018987500000000005\n",
      "  model = cd_fast.enet_coordinate_descent_gram(\n",
      "/home/gg/mambaforge/envs/radiomics_env/lib/python3.9/site-packages/sklearn/linear_model/_coordinate_descent.py:683: ConvergenceWarning: Objective did not converge. You might want to increase the number of iterations. Duality gap: 0.004643186276119593, tolerance: 0.0018987500000000005\n",
      "  model = cd_fast.enet_coordinate_descent_gram(\n",
      "/home/gg/mambaforge/envs/radiomics_env/lib/python3.9/site-packages/sklearn/linear_model/_coordinate_descent.py:683: ConvergenceWarning: Objective did not converge. You might want to increase the number of iterations. Duality gap: 0.004643086739889668, tolerance: 0.0018987500000000005\n",
      "  model = cd_fast.enet_coordinate_descent_gram(\n",
      "/home/gg/mambaforge/envs/radiomics_env/lib/python3.9/site-packages/sklearn/linear_model/_coordinate_descent.py:683: ConvergenceWarning: Objective did not converge. You might want to increase the number of iterations. Duality gap: 0.004642889505721115, tolerance: 0.0018987500000000005\n",
      "  model = cd_fast.enet_coordinate_descent_gram(\n",
      "/home/gg/mambaforge/envs/radiomics_env/lib/python3.9/site-packages/sklearn/linear_model/_coordinate_descent.py:683: ConvergenceWarning: Objective did not converge. You might want to increase the number of iterations. Duality gap: 0.004642348051390854, tolerance: 0.0018987500000000005\n",
      "  model = cd_fast.enet_coordinate_descent_gram(\n",
      "/home/gg/mambaforge/envs/radiomics_env/lib/python3.9/site-packages/sklearn/linear_model/_coordinate_descent.py:683: ConvergenceWarning: Objective did not converge. You might want to increase the number of iterations. Duality gap: 0.004642279011724426, tolerance: 0.0018987500000000005\n",
      "  model = cd_fast.enet_coordinate_descent_gram(\n",
      "/home/gg/mambaforge/envs/radiomics_env/lib/python3.9/site-packages/sklearn/linear_model/_coordinate_descent.py:683: ConvergenceWarning: Objective did not converge. You might want to increase the number of iterations. Duality gap: 0.004642063233539773, tolerance: 0.0018987500000000005\n",
      "  model = cd_fast.enet_coordinate_descent_gram(\n",
      "/home/gg/mambaforge/envs/radiomics_env/lib/python3.9/site-packages/sklearn/linear_model/_coordinate_descent.py:683: ConvergenceWarning: Objective did not converge. You might want to increase the number of iterations. Duality gap: 0.004641818739335335, tolerance: 0.0018987500000000005\n",
      "  model = cd_fast.enet_coordinate_descent_gram(\n",
      "/home/gg/mambaforge/envs/radiomics_env/lib/python3.9/site-packages/sklearn/linear_model/_coordinate_descent.py:683: ConvergenceWarning: Objective did not converge. You might want to increase the number of iterations. Duality gap: 0.004641732366895468, tolerance: 0.0018987500000000005\n",
      "  model = cd_fast.enet_coordinate_descent_gram(\n",
      "/home/gg/mambaforge/envs/radiomics_env/lib/python3.9/site-packages/sklearn/linear_model/_coordinate_descent.py:683: ConvergenceWarning: Objective did not converge. You might want to increase the number of iterations. Duality gap: 0.004641281616370563, tolerance: 0.0018987500000000005\n",
      "  model = cd_fast.enet_coordinate_descent_gram(\n",
      "/home/gg/mambaforge/envs/radiomics_env/lib/python3.9/site-packages/sklearn/linear_model/_coordinate_descent.py:683: ConvergenceWarning: Objective did not converge. You might want to increase the number of iterations. Duality gap: 0.004642175860304576, tolerance: 0.0018987500000000005\n",
      "  model = cd_fast.enet_coordinate_descent_gram(\n",
      "/home/gg/mambaforge/envs/radiomics_env/lib/python3.9/site-packages/sklearn/linear_model/_coordinate_descent.py:683: ConvergenceWarning: Objective did not converge. You might want to increase the number of iterations. Duality gap: 0.004642542511994918, tolerance: 0.0018987500000000005\n",
      "  model = cd_fast.enet_coordinate_descent_gram(\n",
      "/home/gg/mambaforge/envs/radiomics_env/lib/python3.9/site-packages/sklearn/linear_model/_coordinate_descent.py:683: ConvergenceWarning: Objective did not converge. You might want to increase the number of iterations. Duality gap: 0.004642534772244744, tolerance: 0.0018987500000000005\n",
      "  model = cd_fast.enet_coordinate_descent_gram(\n"
     ]
    },
    {
     "name": "stderr",
     "output_type": "stream",
     "text": [
      "/home/gg/mambaforge/envs/radiomics_env/lib/python3.9/site-packages/sklearn/linear_model/_coordinate_descent.py:683: ConvergenceWarning: Objective did not converge. You might want to increase the number of iterations. Duality gap: 0.004641872741066422, tolerance: 0.0018987500000000005\n",
      "  model = cd_fast.enet_coordinate_descent_gram(\n",
      "/home/gg/mambaforge/envs/radiomics_env/lib/python3.9/site-packages/sklearn/linear_model/_coordinate_descent.py:683: ConvergenceWarning: Objective did not converge. You might want to increase the number of iterations. Duality gap: 0.00464233006340109, tolerance: 0.0018987500000000005\n",
      "  model = cd_fast.enet_coordinate_descent_gram(\n",
      "/home/gg/mambaforge/envs/radiomics_env/lib/python3.9/site-packages/sklearn/linear_model/_coordinate_descent.py:683: ConvergenceWarning: Objective did not converge. You might want to increase the number of iterations. Duality gap: 0.004642608676679316, tolerance: 0.0018987500000000005\n",
      "  model = cd_fast.enet_coordinate_descent_gram(\n",
      "/home/gg/mambaforge/envs/radiomics_env/lib/python3.9/site-packages/sklearn/linear_model/_coordinate_descent.py:683: ConvergenceWarning: Objective did not converge. You might want to increase the number of iterations. Duality gap: 0.004638408255301485, tolerance: 0.0018987500000000005\n",
      "  model = cd_fast.enet_coordinate_descent_gram(\n",
      "/home/gg/mambaforge/envs/radiomics_env/lib/python3.9/site-packages/sklearn/linear_model/_coordinate_descent.py:683: ConvergenceWarning: Objective did not converge. You might want to increase the number of iterations. Duality gap: 0.0046396524863379085, tolerance: 0.0018987500000000005\n",
      "  model = cd_fast.enet_coordinate_descent_gram(\n",
      "/home/gg/mambaforge/envs/radiomics_env/lib/python3.9/site-packages/sklearn/linear_model/_coordinate_descent.py:683: ConvergenceWarning: Objective did not converge. You might want to increase the number of iterations. Duality gap: 0.012869648869191508, tolerance: 0.0018987500000000005\n",
      "  model = cd_fast.enet_coordinate_descent_gram(\n"
     ]
    },
    {
     "data": {
      "text/html": [
       "<style>#sk-container-id-1 {\n",
       "  /* Definition of color scheme common for light and dark mode */\n",
       "  --sklearn-color-text: black;\n",
       "  --sklearn-color-line: gray;\n",
       "  /* Definition of color scheme for unfitted estimators */\n",
       "  --sklearn-color-unfitted-level-0: #fff5e6;\n",
       "  --sklearn-color-unfitted-level-1: #f6e4d2;\n",
       "  --sklearn-color-unfitted-level-2: #ffe0b3;\n",
       "  --sklearn-color-unfitted-level-3: chocolate;\n",
       "  /* Definition of color scheme for fitted estimators */\n",
       "  --sklearn-color-fitted-level-0: #f0f8ff;\n",
       "  --sklearn-color-fitted-level-1: #d4ebff;\n",
       "  --sklearn-color-fitted-level-2: #b3dbfd;\n",
       "  --sklearn-color-fitted-level-3: cornflowerblue;\n",
       "\n",
       "  /* Specific color for light theme */\n",
       "  --sklearn-color-text-on-default-background: var(--sg-text-color, var(--theme-code-foreground, var(--jp-content-font-color1, black)));\n",
       "  --sklearn-color-background: var(--sg-background-color, var(--theme-background, var(--jp-layout-color0, white)));\n",
       "  --sklearn-color-border-box: var(--sg-text-color, var(--theme-code-foreground, var(--jp-content-font-color1, black)));\n",
       "  --sklearn-color-icon: #696969;\n",
       "\n",
       "  @media (prefers-color-scheme: dark) {\n",
       "    /* Redefinition of color scheme for dark theme */\n",
       "    --sklearn-color-text-on-default-background: var(--sg-text-color, var(--theme-code-foreground, var(--jp-content-font-color1, white)));\n",
       "    --sklearn-color-background: var(--sg-background-color, var(--theme-background, var(--jp-layout-color0, #111)));\n",
       "    --sklearn-color-border-box: var(--sg-text-color, var(--theme-code-foreground, var(--jp-content-font-color1, white)));\n",
       "    --sklearn-color-icon: #878787;\n",
       "  }\n",
       "}\n",
       "\n",
       "#sk-container-id-1 {\n",
       "  color: var(--sklearn-color-text);\n",
       "}\n",
       "\n",
       "#sk-container-id-1 pre {\n",
       "  padding: 0;\n",
       "}\n",
       "\n",
       "#sk-container-id-1 input.sk-hidden--visually {\n",
       "  border: 0;\n",
       "  clip: rect(1px 1px 1px 1px);\n",
       "  clip: rect(1px, 1px, 1px, 1px);\n",
       "  height: 1px;\n",
       "  margin: -1px;\n",
       "  overflow: hidden;\n",
       "  padding: 0;\n",
       "  position: absolute;\n",
       "  width: 1px;\n",
       "}\n",
       "\n",
       "#sk-container-id-1 div.sk-dashed-wrapped {\n",
       "  border: 1px dashed var(--sklearn-color-line);\n",
       "  margin: 0 0.4em 0.5em 0.4em;\n",
       "  box-sizing: border-box;\n",
       "  padding-bottom: 0.4em;\n",
       "  background-color: var(--sklearn-color-background);\n",
       "}\n",
       "\n",
       "#sk-container-id-1 div.sk-container {\n",
       "  /* jupyter's `normalize.less` sets `[hidden] { display: none; }`\n",
       "     but bootstrap.min.css set `[hidden] { display: none !important; }`\n",
       "     so we also need the `!important` here to be able to override the\n",
       "     default hidden behavior on the sphinx rendered scikit-learn.org.\n",
       "     See: https://github.com/scikit-learn/scikit-learn/issues/21755 */\n",
       "  display: inline-block !important;\n",
       "  position: relative;\n",
       "}\n",
       "\n",
       "#sk-container-id-1 div.sk-text-repr-fallback {\n",
       "  display: none;\n",
       "}\n",
       "\n",
       "div.sk-parallel-item,\n",
       "div.sk-serial,\n",
       "div.sk-item {\n",
       "  /* draw centered vertical line to link estimators */\n",
       "  background-image: linear-gradient(var(--sklearn-color-text-on-default-background), var(--sklearn-color-text-on-default-background));\n",
       "  background-size: 2px 100%;\n",
       "  background-repeat: no-repeat;\n",
       "  background-position: center center;\n",
       "}\n",
       "\n",
       "/* Parallel-specific style estimator block */\n",
       "\n",
       "#sk-container-id-1 div.sk-parallel-item::after {\n",
       "  content: \"\";\n",
       "  width: 100%;\n",
       "  border-bottom: 2px solid var(--sklearn-color-text-on-default-background);\n",
       "  flex-grow: 1;\n",
       "}\n",
       "\n",
       "#sk-container-id-1 div.sk-parallel {\n",
       "  display: flex;\n",
       "  align-items: stretch;\n",
       "  justify-content: center;\n",
       "  background-color: var(--sklearn-color-background);\n",
       "  position: relative;\n",
       "}\n",
       "\n",
       "#sk-container-id-1 div.sk-parallel-item {\n",
       "  display: flex;\n",
       "  flex-direction: column;\n",
       "}\n",
       "\n",
       "#sk-container-id-1 div.sk-parallel-item:first-child::after {\n",
       "  align-self: flex-end;\n",
       "  width: 50%;\n",
       "}\n",
       "\n",
       "#sk-container-id-1 div.sk-parallel-item:last-child::after {\n",
       "  align-self: flex-start;\n",
       "  width: 50%;\n",
       "}\n",
       "\n",
       "#sk-container-id-1 div.sk-parallel-item:only-child::after {\n",
       "  width: 0;\n",
       "}\n",
       "\n",
       "/* Serial-specific style estimator block */\n",
       "\n",
       "#sk-container-id-1 div.sk-serial {\n",
       "  display: flex;\n",
       "  flex-direction: column;\n",
       "  align-items: center;\n",
       "  background-color: var(--sklearn-color-background);\n",
       "  padding-right: 1em;\n",
       "  padding-left: 1em;\n",
       "}\n",
       "\n",
       "\n",
       "/* Toggleable style: style used for estimator/Pipeline/ColumnTransformer box that is\n",
       "clickable and can be expanded/collapsed.\n",
       "- Pipeline and ColumnTransformer use this feature and define the default style\n",
       "- Estimators will overwrite some part of the style using the `sk-estimator` class\n",
       "*/\n",
       "\n",
       "/* Pipeline and ColumnTransformer style (default) */\n",
       "\n",
       "#sk-container-id-1 div.sk-toggleable {\n",
       "  /* Default theme specific background. It is overwritten whether we have a\n",
       "  specific estimator or a Pipeline/ColumnTransformer */\n",
       "  background-color: var(--sklearn-color-background);\n",
       "}\n",
       "\n",
       "/* Toggleable label */\n",
       "#sk-container-id-1 label.sk-toggleable__label {\n",
       "  cursor: pointer;\n",
       "  display: block;\n",
       "  width: 100%;\n",
       "  margin-bottom: 0;\n",
       "  padding: 0.5em;\n",
       "  box-sizing: border-box;\n",
       "  text-align: center;\n",
       "}\n",
       "\n",
       "#sk-container-id-1 label.sk-toggleable__label-arrow:before {\n",
       "  /* Arrow on the left of the label */\n",
       "  content: \"▸\";\n",
       "  float: left;\n",
       "  margin-right: 0.25em;\n",
       "  color: var(--sklearn-color-icon);\n",
       "}\n",
       "\n",
       "#sk-container-id-1 label.sk-toggleable__label-arrow:hover:before {\n",
       "  color: var(--sklearn-color-text);\n",
       "}\n",
       "\n",
       "/* Toggleable content - dropdown */\n",
       "\n",
       "#sk-container-id-1 div.sk-toggleable__content {\n",
       "  max-height: 0;\n",
       "  max-width: 0;\n",
       "  overflow: hidden;\n",
       "  text-align: left;\n",
       "  /* unfitted */\n",
       "  background-color: var(--sklearn-color-unfitted-level-0);\n",
       "}\n",
       "\n",
       "#sk-container-id-1 div.sk-toggleable__content.fitted {\n",
       "  /* fitted */\n",
       "  background-color: var(--sklearn-color-fitted-level-0);\n",
       "}\n",
       "\n",
       "#sk-container-id-1 div.sk-toggleable__content pre {\n",
       "  margin: 0.2em;\n",
       "  border-radius: 0.25em;\n",
       "  color: var(--sklearn-color-text);\n",
       "  /* unfitted */\n",
       "  background-color: var(--sklearn-color-unfitted-level-0);\n",
       "}\n",
       "\n",
       "#sk-container-id-1 div.sk-toggleable__content.fitted pre {\n",
       "  /* unfitted */\n",
       "  background-color: var(--sklearn-color-fitted-level-0);\n",
       "}\n",
       "\n",
       "#sk-container-id-1 input.sk-toggleable__control:checked~div.sk-toggleable__content {\n",
       "  /* Expand drop-down */\n",
       "  max-height: 200px;\n",
       "  max-width: 100%;\n",
       "  overflow: auto;\n",
       "}\n",
       "\n",
       "#sk-container-id-1 input.sk-toggleable__control:checked~label.sk-toggleable__label-arrow:before {\n",
       "  content: \"▾\";\n",
       "}\n",
       "\n",
       "/* Pipeline/ColumnTransformer-specific style */\n",
       "\n",
       "#sk-container-id-1 div.sk-label input.sk-toggleable__control:checked~label.sk-toggleable__label {\n",
       "  color: var(--sklearn-color-text);\n",
       "  background-color: var(--sklearn-color-unfitted-level-2);\n",
       "}\n",
       "\n",
       "#sk-container-id-1 div.sk-label.fitted input.sk-toggleable__control:checked~label.sk-toggleable__label {\n",
       "  background-color: var(--sklearn-color-fitted-level-2);\n",
       "}\n",
       "\n",
       "/* Estimator-specific style */\n",
       "\n",
       "/* Colorize estimator box */\n",
       "#sk-container-id-1 div.sk-estimator input.sk-toggleable__control:checked~label.sk-toggleable__label {\n",
       "  /* unfitted */\n",
       "  background-color: var(--sklearn-color-unfitted-level-2);\n",
       "}\n",
       "\n",
       "#sk-container-id-1 div.sk-estimator.fitted input.sk-toggleable__control:checked~label.sk-toggleable__label {\n",
       "  /* fitted */\n",
       "  background-color: var(--sklearn-color-fitted-level-2);\n",
       "}\n",
       "\n",
       "#sk-container-id-1 div.sk-label label.sk-toggleable__label,\n",
       "#sk-container-id-1 div.sk-label label {\n",
       "  /* The background is the default theme color */\n",
       "  color: var(--sklearn-color-text-on-default-background);\n",
       "}\n",
       "\n",
       "/* On hover, darken the color of the background */\n",
       "#sk-container-id-1 div.sk-label:hover label.sk-toggleable__label {\n",
       "  color: var(--sklearn-color-text);\n",
       "  background-color: var(--sklearn-color-unfitted-level-2);\n",
       "}\n",
       "\n",
       "/* Label box, darken color on hover, fitted */\n",
       "#sk-container-id-1 div.sk-label.fitted:hover label.sk-toggleable__label.fitted {\n",
       "  color: var(--sklearn-color-text);\n",
       "  background-color: var(--sklearn-color-fitted-level-2);\n",
       "}\n",
       "\n",
       "/* Estimator label */\n",
       "\n",
       "#sk-container-id-1 div.sk-label label {\n",
       "  font-family: monospace;\n",
       "  font-weight: bold;\n",
       "  display: inline-block;\n",
       "  line-height: 1.2em;\n",
       "}\n",
       "\n",
       "#sk-container-id-1 div.sk-label-container {\n",
       "  text-align: center;\n",
       "}\n",
       "\n",
       "/* Estimator-specific */\n",
       "#sk-container-id-1 div.sk-estimator {\n",
       "  font-family: monospace;\n",
       "  border: 1px dotted var(--sklearn-color-border-box);\n",
       "  border-radius: 0.25em;\n",
       "  box-sizing: border-box;\n",
       "  margin-bottom: 0.5em;\n",
       "  /* unfitted */\n",
       "  background-color: var(--sklearn-color-unfitted-level-0);\n",
       "}\n",
       "\n",
       "#sk-container-id-1 div.sk-estimator.fitted {\n",
       "  /* fitted */\n",
       "  background-color: var(--sklearn-color-fitted-level-0);\n",
       "}\n",
       "\n",
       "/* on hover */\n",
       "#sk-container-id-1 div.sk-estimator:hover {\n",
       "  /* unfitted */\n",
       "  background-color: var(--sklearn-color-unfitted-level-2);\n",
       "}\n",
       "\n",
       "#sk-container-id-1 div.sk-estimator.fitted:hover {\n",
       "  /* fitted */\n",
       "  background-color: var(--sklearn-color-fitted-level-2);\n",
       "}\n",
       "\n",
       "/* Specification for estimator info (e.g. \"i\" and \"?\") */\n",
       "\n",
       "/* Common style for \"i\" and \"?\" */\n",
       "\n",
       ".sk-estimator-doc-link,\n",
       "a:link.sk-estimator-doc-link,\n",
       "a:visited.sk-estimator-doc-link {\n",
       "  float: right;\n",
       "  font-size: smaller;\n",
       "  line-height: 1em;\n",
       "  font-family: monospace;\n",
       "  background-color: var(--sklearn-color-background);\n",
       "  border-radius: 1em;\n",
       "  height: 1em;\n",
       "  width: 1em;\n",
       "  text-decoration: none !important;\n",
       "  margin-left: 1ex;\n",
       "  /* unfitted */\n",
       "  border: var(--sklearn-color-unfitted-level-1) 1pt solid;\n",
       "  color: var(--sklearn-color-unfitted-level-1);\n",
       "}\n",
       "\n",
       ".sk-estimator-doc-link.fitted,\n",
       "a:link.sk-estimator-doc-link.fitted,\n",
       "a:visited.sk-estimator-doc-link.fitted {\n",
       "  /* fitted */\n",
       "  border: var(--sklearn-color-fitted-level-1) 1pt solid;\n",
       "  color: var(--sklearn-color-fitted-level-1);\n",
       "}\n",
       "\n",
       "/* On hover */\n",
       "div.sk-estimator:hover .sk-estimator-doc-link:hover,\n",
       ".sk-estimator-doc-link:hover,\n",
       "div.sk-label-container:hover .sk-estimator-doc-link:hover,\n",
       ".sk-estimator-doc-link:hover {\n",
       "  /* unfitted */\n",
       "  background-color: var(--sklearn-color-unfitted-level-3);\n",
       "  color: var(--sklearn-color-background);\n",
       "  text-decoration: none;\n",
       "}\n",
       "\n",
       "div.sk-estimator.fitted:hover .sk-estimator-doc-link.fitted:hover,\n",
       ".sk-estimator-doc-link.fitted:hover,\n",
       "div.sk-label-container:hover .sk-estimator-doc-link.fitted:hover,\n",
       ".sk-estimator-doc-link.fitted:hover {\n",
       "  /* fitted */\n",
       "  background-color: var(--sklearn-color-fitted-level-3);\n",
       "  color: var(--sklearn-color-background);\n",
       "  text-decoration: none;\n",
       "}\n",
       "\n",
       "/* Span, style for the box shown on hovering the info icon */\n",
       ".sk-estimator-doc-link span {\n",
       "  display: none;\n",
       "  z-index: 9999;\n",
       "  position: relative;\n",
       "  font-weight: normal;\n",
       "  right: .2ex;\n",
       "  padding: .5ex;\n",
       "  margin: .5ex;\n",
       "  width: min-content;\n",
       "  min-width: 20ex;\n",
       "  max-width: 50ex;\n",
       "  color: var(--sklearn-color-text);\n",
       "  box-shadow: 2pt 2pt 4pt #999;\n",
       "  /* unfitted */\n",
       "  background: var(--sklearn-color-unfitted-level-0);\n",
       "  border: .5pt solid var(--sklearn-color-unfitted-level-3);\n",
       "}\n",
       "\n",
       ".sk-estimator-doc-link.fitted span {\n",
       "  /* fitted */\n",
       "  background: var(--sklearn-color-fitted-level-0);\n",
       "  border: var(--sklearn-color-fitted-level-3);\n",
       "}\n",
       "\n",
       ".sk-estimator-doc-link:hover span {\n",
       "  display: block;\n",
       "}\n",
       "\n",
       "/* \"?\"-specific style due to the `<a>` HTML tag */\n",
       "\n",
       "#sk-container-id-1 a.estimator_doc_link {\n",
       "  float: right;\n",
       "  font-size: 1rem;\n",
       "  line-height: 1em;\n",
       "  font-family: monospace;\n",
       "  background-color: var(--sklearn-color-background);\n",
       "  border-radius: 1rem;\n",
       "  height: 1rem;\n",
       "  width: 1rem;\n",
       "  text-decoration: none;\n",
       "  /* unfitted */\n",
       "  color: var(--sklearn-color-unfitted-level-1);\n",
       "  border: var(--sklearn-color-unfitted-level-1) 1pt solid;\n",
       "}\n",
       "\n",
       "#sk-container-id-1 a.estimator_doc_link.fitted {\n",
       "  /* fitted */\n",
       "  border: var(--sklearn-color-fitted-level-1) 1pt solid;\n",
       "  color: var(--sklearn-color-fitted-level-1);\n",
       "}\n",
       "\n",
       "/* On hover */\n",
       "#sk-container-id-1 a.estimator_doc_link:hover {\n",
       "  /* unfitted */\n",
       "  background-color: var(--sklearn-color-unfitted-level-3);\n",
       "  color: var(--sklearn-color-background);\n",
       "  text-decoration: none;\n",
       "}\n",
       "\n",
       "#sk-container-id-1 a.estimator_doc_link.fitted:hover {\n",
       "  /* fitted */\n",
       "  background-color: var(--sklearn-color-fitted-level-3);\n",
       "}\n",
       "</style><div id=\"sk-container-id-1\" class=\"sk-top-container\"><div class=\"sk-text-repr-fallback\"><pre>LassoCV(alphas=array([1.00000000e-10, 1.23284674e-10, 1.51991108e-10, 1.87381742e-10,\n",
       "       2.31012970e-10, 2.84803587e-10, 3.51119173e-10, 4.32876128e-10,\n",
       "       5.33669923e-10, 6.57933225e-10, 8.11130831e-10, 1.00000000e-09,\n",
       "       1.23284674e-09, 1.51991108e-09, 1.87381742e-09, 2.31012970e-09,\n",
       "       2.84803587e-09, 3.51119173e-09, 4.32876128e-09, 5.33669923e-09,\n",
       "       6.57933225e-09, 8.11130831e-0...\n",
       "       8.11130831e-04, 1.00000000e-03, 1.23284674e-03, 1.51991108e-03,\n",
       "       1.87381742e-03, 2.31012970e-03, 2.84803587e-03, 3.51119173e-03,\n",
       "       4.32876128e-03, 5.33669923e-03, 6.57933225e-03, 8.11130831e-03,\n",
       "       1.00000000e-02, 1.23284674e-02, 1.51991108e-02, 1.87381742e-02,\n",
       "       2.31012970e-02, 2.84803587e-02, 3.51119173e-02, 4.32876128e-02,\n",
       "       5.33669923e-02, 6.57933225e-02, 8.11130831e-02, 1.00000000e-01]),\n",
       "        cv=5, max_iter=10000)</pre><b>In a Jupyter environment, please rerun this cell to show the HTML representation or trust the notebook. <br />On GitHub, the HTML representation is unable to render, please try loading this page with nbviewer.org.</b></div><div class=\"sk-container\" hidden><div class=\"sk-item\"><div class=\"sk-estimator fitted sk-toggleable\"><input class=\"sk-toggleable__control sk-hidden--visually\" id=\"sk-estimator-id-1\" type=\"checkbox\" checked><label for=\"sk-estimator-id-1\" class=\"sk-toggleable__label fitted sk-toggleable__label-arrow fitted\">&nbsp;&nbsp;LassoCV<a class=\"sk-estimator-doc-link fitted\" rel=\"noreferrer\" target=\"_blank\" href=\"https://scikit-learn.org/1.5/modules/generated/sklearn.linear_model.LassoCV.html\">?<span>Documentation for LassoCV</span></a><span class=\"sk-estimator-doc-link fitted\">i<span>Fitted</span></span></label><div class=\"sk-toggleable__content fitted\"><pre>LassoCV(alphas=array([1.00000000e-10, 1.23284674e-10, 1.51991108e-10, 1.87381742e-10,\n",
       "       2.31012970e-10, 2.84803587e-10, 3.51119173e-10, 4.32876128e-10,\n",
       "       5.33669923e-10, 6.57933225e-10, 8.11130831e-10, 1.00000000e-09,\n",
       "       1.23284674e-09, 1.51991108e-09, 1.87381742e-09, 2.31012970e-09,\n",
       "       2.84803587e-09, 3.51119173e-09, 4.32876128e-09, 5.33669923e-09,\n",
       "       6.57933225e-09, 8.11130831e-0...\n",
       "       8.11130831e-04, 1.00000000e-03, 1.23284674e-03, 1.51991108e-03,\n",
       "       1.87381742e-03, 2.31012970e-03, 2.84803587e-03, 3.51119173e-03,\n",
       "       4.32876128e-03, 5.33669923e-03, 6.57933225e-03, 8.11130831e-03,\n",
       "       1.00000000e-02, 1.23284674e-02, 1.51991108e-02, 1.87381742e-02,\n",
       "       2.31012970e-02, 2.84803587e-02, 3.51119173e-02, 4.32876128e-02,\n",
       "       5.33669923e-02, 6.57933225e-02, 8.11130831e-02, 1.00000000e-01]),\n",
       "        cv=5, max_iter=10000)</pre></div> </div></div></div></div>"
      ],
      "text/plain": [
       "LassoCV(alphas=array([1.00000000e-10, 1.23284674e-10, 1.51991108e-10, 1.87381742e-10,\n",
       "       2.31012970e-10, 2.84803587e-10, 3.51119173e-10, 4.32876128e-10,\n",
       "       5.33669923e-10, 6.57933225e-10, 8.11130831e-10, 1.00000000e-09,\n",
       "       1.23284674e-09, 1.51991108e-09, 1.87381742e-09, 2.31012970e-09,\n",
       "       2.84803587e-09, 3.51119173e-09, 4.32876128e-09, 5.33669923e-09,\n",
       "       6.57933225e-09, 8.11130831e-0...\n",
       "       8.11130831e-04, 1.00000000e-03, 1.23284674e-03, 1.51991108e-03,\n",
       "       1.87381742e-03, 2.31012970e-03, 2.84803587e-03, 3.51119173e-03,\n",
       "       4.32876128e-03, 5.33669923e-03, 6.57933225e-03, 8.11130831e-03,\n",
       "       1.00000000e-02, 1.23284674e-02, 1.51991108e-02, 1.87381742e-02,\n",
       "       2.31012970e-02, 2.84803587e-02, 3.51119173e-02, 4.32876128e-02,\n",
       "       5.33669923e-02, 6.57933225e-02, 8.11130831e-02, 1.00000000e-01]),\n",
       "        cv=5, max_iter=10000)"
      ]
     },
     "execution_count": 40,
     "metadata": {},
     "output_type": "execute_result"
    }
   ],
   "source": [
    "alphas = np.logspace(-10, -1, 100, base = 10)\n",
    "\n",
    "selector_lasso = LassoCV(alphas=alphas, cv = 5, max_iter = 10000)\n",
    "selector_lasso.fit(Out_X , Out_y)"
   ]
  },
  {
   "cell_type": "code",
   "execution_count": 41,
   "id": "aa3f131c",
   "metadata": {},
   "outputs": [
    {
     "data": {
      "text/plain": [
       "0.043287612810830614"
      ]
     },
     "execution_count": 41,
     "metadata": {},
     "output_type": "execute_result"
    }
   ],
   "source": [
    "#注意观察最终的结果alpha是否是在设定的alpha边界\n",
    "selector_lasso.alpha_"
   ]
  },
  {
   "cell_type": "code",
   "execution_count": 44,
   "id": "e2fae827",
   "metadata": {},
   "outputs": [
    {
     "data": {
      "text/plain": [
       "array([ 4.93864524e-02, -0.00000000e+00,  0.00000000e+00,  0.00000000e+00,\n",
       "        0.00000000e+00,  0.00000000e+00,  0.00000000e+00, -0.00000000e+00,\n",
       "        0.00000000e+00,  0.00000000e+00, -0.00000000e+00, -0.00000000e+00,\n",
       "        0.00000000e+00, -0.00000000e+00,  0.00000000e+00,  1.78604038e-03,\n",
       "       -0.00000000e+00,  0.00000000e+00,  0.00000000e+00, -0.00000000e+00,\n",
       "       -0.00000000e+00,  0.00000000e+00,  0.00000000e+00,  3.48232733e-07])"
      ]
     },
     "execution_count": 44,
     "metadata": {},
     "output_type": "execute_result"
    }
   ],
   "source": [
    "selector_lasso.coef_\n"
   ]
  },
  {
   "cell_type": "code",
   "execution_count": 46,
   "id": "2f2968a0",
   "metadata": {},
   "outputs": [
    {
     "data": {
      "text/plain": [
       "Index(['wavelet-LLH_glszm_GrayLevelNonUniformity',\n",
       "       'wavelet-HHL_glszm_GrayLevelNonUniformity',\n",
       "       'wavelet-HHH_glszm_ZoneVariance'],\n",
       "      dtype='object')"
      ]
     },
     "execution_count": 46,
     "metadata": {},
     "output_type": "execute_result"
    }
   ],
   "source": [
    "Out_X.columns[selector_lasso.coef_ != 0]"
   ]
  },
  {
   "cell_type": "markdown",
   "id": "7c52e608",
   "metadata": {},
   "source": [
    "## LASSO绘图"
   ]
  },
  {
   "cell_type": "code",
   "execution_count": 48,
   "id": "cb7f5664",
   "metadata": {},
   "outputs": [
    {
     "data": {
      "image/png": "[encoded data removed]",
      "text/plain": [
       "<Figure size 640x480 with 1 Axes>"
      ]
     },
     "metadata": {},
     "output_type": "display_data"
    }
   ],
   "source": [
    "import matplotlib.pyplot as plt\n",
    "MSEs_mean = selector_lasso.mse_path_.mean(axis = 1)\n",
    "MSEs_std = selector_lasso.mse_path_.std(axis = 1)\n",
    "# MSEs_mean = np.apply_along_axis(np.mean,1,MSEs) ☆\n",
    "# MSEs_std = np.apply_along_axis(np.std,1,MSEs) ☆\n",
    "plt.figure()\n",
    "plt.errorbar(selector_lasso.alphas_,MSEs_mean    #x, y数据，一一对应\n",
    "             , yerr=MSEs_std                    #y误差范围\n",
    "             , fmt=\"o\"                          #数据点标记\n",
    "             , ms=3                             #数据点大小\n",
    "             , mfc=\"r\"                          #数据点颜色\n",
    "             , mec=\"r\"                          #数据点边缘颜色\n",
    "             , ecolor=\"lightblue\"               #误差棒颜色\n",
    "             , elinewidth=2                     #误差棒线宽\n",
    "             , capsize=4                        #误差棒边界线长度\n",
    "             , capthick=1\n",
    "            )                      #误差棒边界线厚度\n",
    "plt.semilogx()\n",
    "plt.axvline(selector_lasso.alpha_,color = 'black',ls=\"--\")\n",
    "plt.xlabel('Lambda')\n",
    "plt.ylabel('MSE')\n",
    "plt.show()"
   ]
  },
  {
   "cell_type": "code",
   "execution_count": 49,
   "id": "9363e22c",
   "metadata": {},
   "outputs": [
    {
     "name": "stderr",
     "output_type": "stream",
     "text": [
      "/home/gg/mambaforge/envs/radiomics_env/lib/python3.9/site-packages/sklearn/linear_model/_coordinate_descent.py:697: ConvergenceWarning: Objective did not converge. You might want to increase the number of iterations, check the scale of the features or consider increasing regularisation. Duality gap: 5.429e+00, tolerance: 4.000e-03\n",
      "  model = cd_fast.enet_coordinate_descent(\n",
      "/home/gg/mambaforge/envs/radiomics_env/lib/python3.9/site-packages/sklearn/linear_model/_coordinate_descent.py:697: ConvergenceWarning: Objective did not converge. You might want to increase the number of iterations, check the scale of the features or consider increasing regularisation. Duality gap: 4.974e+00, tolerance: 4.000e-03\n",
      "  model = cd_fast.enet_coordinate_descent(\n",
      "/home/gg/mambaforge/envs/radiomics_env/lib/python3.9/site-packages/sklearn/linear_model/_coordinate_descent.py:697: ConvergenceWarning: Objective did not converge. You might want to increase the number of iterations, check the scale of the features or consider increasing regularisation. Duality gap: 4.603e+00, tolerance: 4.000e-03\n",
      "  model = cd_fast.enet_coordinate_descent(\n",
      "/home/gg/mambaforge/envs/radiomics_env/lib/python3.9/site-packages/sklearn/linear_model/_coordinate_descent.py:697: ConvergenceWarning: Objective did not converge. You might want to increase the number of iterations, check the scale of the features or consider increasing regularisation. Duality gap: 4.271e+00, tolerance: 4.000e-03\n",
      "  model = cd_fast.enet_coordinate_descent(\n",
      "/home/gg/mambaforge/envs/radiomics_env/lib/python3.9/site-packages/sklearn/linear_model/_coordinate_descent.py:697: ConvergenceWarning: Objective did not converge. You might want to increase the number of iterations, check the scale of the features or consider increasing regularisation. Duality gap: 3.975e+00, tolerance: 4.000e-03\n",
      "  model = cd_fast.enet_coordinate_descent(\n",
      "/home/gg/mambaforge/envs/radiomics_env/lib/python3.9/site-packages/sklearn/linear_model/_coordinate_descent.py:697: ConvergenceWarning: Objective did not converge. You might want to increase the number of iterations, check the scale of the features or consider increasing regularisation. Duality gap: 3.669e+00, tolerance: 4.000e-03\n",
      "  model = cd_fast.enet_coordinate_descent(\n",
      "/home/gg/mambaforge/envs/radiomics_env/lib/python3.9/site-packages/sklearn/linear_model/_coordinate_descent.py:697: ConvergenceWarning: Objective did not converge. You might want to increase the number of iterations, check the scale of the features or consider increasing regularisation. Duality gap: 3.359e+00, tolerance: 4.000e-03\n",
      "  model = cd_fast.enet_coordinate_descent(\n",
      "/home/gg/mambaforge/envs/radiomics_env/lib/python3.9/site-packages/sklearn/linear_model/_coordinate_descent.py:697: ConvergenceWarning: Objective did not converge. You might want to increase the number of iterations, check the scale of the features or consider increasing regularisation. Duality gap: 3.053e+00, tolerance: 4.000e-03\n",
      "  model = cd_fast.enet_coordinate_descent(\n",
      "/home/gg/mambaforge/envs/radiomics_env/lib/python3.9/site-packages/sklearn/linear_model/_coordinate_descent.py:697: ConvergenceWarning: Objective did not converge. You might want to increase the number of iterations, check the scale of the features or consider increasing regularisation. Duality gap: 2.758e+00, tolerance: 4.000e-03\n",
      "  model = cd_fast.enet_coordinate_descent(\n",
      "/home/gg/mambaforge/envs/radiomics_env/lib/python3.9/site-packages/sklearn/linear_model/_coordinate_descent.py:697: ConvergenceWarning: Objective did not converge. You might want to increase the number of iterations, check the scale of the features or consider increasing regularisation. Duality gap: 2.478e+00, tolerance: 4.000e-03\n",
      "  model = cd_fast.enet_coordinate_descent(\n",
      "/home/gg/mambaforge/envs/radiomics_env/lib/python3.9/site-packages/sklearn/linear_model/_coordinate_descent.py:697: ConvergenceWarning: Objective did not converge. You might want to increase the number of iterations, check the scale of the features or consider increasing regularisation. Duality gap: 2.212e+00, tolerance: 4.000e-03\n",
      "  model = cd_fast.enet_coordinate_descent(\n",
      "/home/gg/mambaforge/envs/radiomics_env/lib/python3.9/site-packages/sklearn/linear_model/_coordinate_descent.py:697: ConvergenceWarning: Objective did not converge. You might want to increase the number of iterations, check the scale of the features or consider increasing regularisation. Duality gap: 1.963e+00, tolerance: 4.000e-03\n",
      "  model = cd_fast.enet_coordinate_descent(\n",
      "/home/gg/mambaforge/envs/radiomics_env/lib/python3.9/site-packages/sklearn/linear_model/_coordinate_descent.py:697: ConvergenceWarning: Objective did not converge. You might want to increase the number of iterations, check the scale of the features or consider increasing regularisation. Duality gap: 1.728e+00, tolerance: 4.000e-03\n",
      "  model = cd_fast.enet_coordinate_descent(\n",
      "/home/gg/mambaforge/envs/radiomics_env/lib/python3.9/site-packages/sklearn/linear_model/_coordinate_descent.py:697: ConvergenceWarning: Objective did not converge. You might want to increase the number of iterations, check the scale of the features or consider increasing regularisation. Duality gap: 1.503e+00, tolerance: 4.000e-03\n",
      "  model = cd_fast.enet_coordinate_descent(\n",
      "/home/gg/mambaforge/envs/radiomics_env/lib/python3.9/site-packages/sklearn/linear_model/_coordinate_descent.py:697: ConvergenceWarning: Objective did not converge. You might want to increase the number of iterations, check the scale of the features or consider increasing regularisation. Duality gap: 1.292e+00, tolerance: 4.000e-03\n",
      "  model = cd_fast.enet_coordinate_descent(\n",
      "/home/gg/mambaforge/envs/radiomics_env/lib/python3.9/site-packages/sklearn/linear_model/_coordinate_descent.py:697: ConvergenceWarning: Objective did not converge. You might want to increase the number of iterations, check the scale of the features or consider increasing regularisation. Duality gap: 1.101e+00, tolerance: 4.000e-03\n",
      "  model = cd_fast.enet_coordinate_descent(\n",
      "/home/gg/mambaforge/envs/radiomics_env/lib/python3.9/site-packages/sklearn/linear_model/_coordinate_descent.py:697: ConvergenceWarning: Objective did not converge. You might want to increase the number of iterations, check the scale of the features or consider increasing regularisation. Duality gap: 9.304e-01, tolerance: 4.000e-03\n",
      "  model = cd_fast.enet_coordinate_descent(\n",
      "/home/gg/mambaforge/envs/radiomics_env/lib/python3.9/site-packages/sklearn/linear_model/_coordinate_descent.py:697: ConvergenceWarning: Objective did not converge. You might want to increase the number of iterations, check the scale of the features or consider increasing regularisation. Duality gap: 7.811e-01, tolerance: 4.000e-03\n",
      "  model = cd_fast.enet_coordinate_descent(\n",
      "/home/gg/mambaforge/envs/radiomics_env/lib/python3.9/site-packages/sklearn/linear_model/_coordinate_descent.py:697: ConvergenceWarning: Objective did not converge. You might want to increase the number of iterations, check the scale of the features or consider increasing regularisation. Duality gap: 6.517e-01, tolerance: 4.000e-03\n",
      "  model = cd_fast.enet_coordinate_descent(\n",
      "/home/gg/mambaforge/envs/radiomics_env/lib/python3.9/site-packages/sklearn/linear_model/_coordinate_descent.py:697: ConvergenceWarning: Objective did not converge. You might want to increase the number of iterations, check the scale of the features or consider increasing regularisation. Duality gap: 5.405e-01, tolerance: 4.000e-03\n",
      "  model = cd_fast.enet_coordinate_descent(\n",
      "/home/gg/mambaforge/envs/radiomics_env/lib/python3.9/site-packages/sklearn/linear_model/_coordinate_descent.py:697: ConvergenceWarning: Objective did not converge. You might want to increase the number of iterations, check the scale of the features or consider increasing regularisation. Duality gap: 4.463e-01, tolerance: 4.000e-03\n",
      "  model = cd_fast.enet_coordinate_descent(\n",
      "/home/gg/mambaforge/envs/radiomics_env/lib/python3.9/site-packages/sklearn/linear_model/_coordinate_descent.py:697: ConvergenceWarning: Objective did not converge. You might want to increase the number of iterations, check the scale of the features or consider increasing regularisation. Duality gap: 3.673e-01, tolerance: 4.000e-03\n",
      "  model = cd_fast.enet_coordinate_descent(\n"
     ]
    },
    {
     "name": "stderr",
     "output_type": "stream",
     "text": [
      "/home/gg/mambaforge/envs/radiomics_env/lib/python3.9/site-packages/sklearn/linear_model/_coordinate_descent.py:697: ConvergenceWarning: Objective did not converge. You might want to increase the number of iterations, check the scale of the features or consider increasing regularisation. Duality gap: 3.015e-01, tolerance: 4.000e-03\n",
      "  model = cd_fast.enet_coordinate_descent(\n",
      "/home/gg/mambaforge/envs/radiomics_env/lib/python3.9/site-packages/sklearn/linear_model/_coordinate_descent.py:697: ConvergenceWarning: Objective did not converge. You might want to increase the number of iterations, check the scale of the features or consider increasing regularisation. Duality gap: 2.469e-01, tolerance: 4.000e-03\n",
      "  model = cd_fast.enet_coordinate_descent(\n",
      "/home/gg/mambaforge/envs/radiomics_env/lib/python3.9/site-packages/sklearn/linear_model/_coordinate_descent.py:697: ConvergenceWarning: Objective did not converge. You might want to increase the number of iterations, check the scale of the features or consider increasing regularisation. Duality gap: 2.018e-01, tolerance: 4.000e-03\n",
      "  model = cd_fast.enet_coordinate_descent(\n",
      "/home/gg/mambaforge/envs/radiomics_env/lib/python3.9/site-packages/sklearn/linear_model/_coordinate_descent.py:697: ConvergenceWarning: Objective did not converge. You might want to increase the number of iterations, check the scale of the features or consider increasing regularisation. Duality gap: 1.648e-01, tolerance: 4.000e-03\n",
      "  model = cd_fast.enet_coordinate_descent(\n",
      "/home/gg/mambaforge/envs/radiomics_env/lib/python3.9/site-packages/sklearn/linear_model/_coordinate_descent.py:697: ConvergenceWarning: Objective did not converge. You might want to increase the number of iterations, check the scale of the features or consider increasing regularisation. Duality gap: 1.343e-01, tolerance: 4.000e-03\n",
      "  model = cd_fast.enet_coordinate_descent(\n",
      "/home/gg/mambaforge/envs/radiomics_env/lib/python3.9/site-packages/sklearn/linear_model/_coordinate_descent.py:697: ConvergenceWarning: Objective did not converge. You might want to increase the number of iterations, check the scale of the features or consider increasing regularisation. Duality gap: 1.094e-01, tolerance: 4.000e-03\n",
      "  model = cd_fast.enet_coordinate_descent(\n",
      "/home/gg/mambaforge/envs/radiomics_env/lib/python3.9/site-packages/sklearn/linear_model/_coordinate_descent.py:697: ConvergenceWarning: Objective did not converge. You might want to increase the number of iterations, check the scale of the features or consider increasing regularisation. Duality gap: 8.904e-02, tolerance: 4.000e-03\n",
      "  model = cd_fast.enet_coordinate_descent(\n",
      "/home/gg/mambaforge/envs/radiomics_env/lib/python3.9/site-packages/sklearn/linear_model/_coordinate_descent.py:697: ConvergenceWarning: Objective did not converge. You might want to increase the number of iterations, check the scale of the features or consider increasing regularisation. Duality gap: 7.242e-02, tolerance: 4.000e-03\n",
      "  model = cd_fast.enet_coordinate_descent(\n",
      "/home/gg/mambaforge/envs/radiomics_env/lib/python3.9/site-packages/sklearn/linear_model/_coordinate_descent.py:697: ConvergenceWarning: Objective did not converge. You might want to increase the number of iterations, check the scale of the features or consider increasing regularisation. Duality gap: 5.887e-02, tolerance: 4.000e-03\n",
      "  model = cd_fast.enet_coordinate_descent(\n",
      "/home/gg/mambaforge/envs/radiomics_env/lib/python3.9/site-packages/sklearn/linear_model/_coordinate_descent.py:697: ConvergenceWarning: Objective did not converge. You might want to increase the number of iterations, check the scale of the features or consider increasing regularisation. Duality gap: 4.784e-02, tolerance: 4.000e-03\n",
      "  model = cd_fast.enet_coordinate_descent(\n",
      "/home/gg/mambaforge/envs/radiomics_env/lib/python3.9/site-packages/sklearn/linear_model/_coordinate_descent.py:697: ConvergenceWarning: Objective did not converge. You might want to increase the number of iterations, check the scale of the features or consider increasing regularisation. Duality gap: 3.886e-02, tolerance: 4.000e-03\n",
      "  model = cd_fast.enet_coordinate_descent(\n",
      "/home/gg/mambaforge/envs/radiomics_env/lib/python3.9/site-packages/sklearn/linear_model/_coordinate_descent.py:697: ConvergenceWarning: Objective did not converge. You might want to increase the number of iterations, check the scale of the features or consider increasing regularisation. Duality gap: 3.156e-02, tolerance: 4.000e-03\n",
      "  model = cd_fast.enet_coordinate_descent(\n",
      "/home/gg/mambaforge/envs/radiomics_env/lib/python3.9/site-packages/sklearn/linear_model/_coordinate_descent.py:697: ConvergenceWarning: Objective did not converge. You might want to increase the number of iterations, check the scale of the features or consider increasing regularisation. Duality gap: 2.562e-02, tolerance: 4.000e-03\n",
      "  model = cd_fast.enet_coordinate_descent(\n",
      "/home/gg/mambaforge/envs/radiomics_env/lib/python3.9/site-packages/sklearn/linear_model/_coordinate_descent.py:697: ConvergenceWarning: Objective did not converge. You might want to increase the number of iterations, check the scale of the features or consider increasing regularisation. Duality gap: 2.080e-02, tolerance: 4.000e-03\n",
      "  model = cd_fast.enet_coordinate_descent(\n",
      "/home/gg/mambaforge/envs/radiomics_env/lib/python3.9/site-packages/sklearn/linear_model/_coordinate_descent.py:697: ConvergenceWarning: Objective did not converge. You might want to increase the number of iterations, check the scale of the features or consider increasing regularisation. Duality gap: 1.688e-02, tolerance: 4.000e-03\n",
      "  model = cd_fast.enet_coordinate_descent(\n",
      "/home/gg/mambaforge/envs/radiomics_env/lib/python3.9/site-packages/sklearn/linear_model/_coordinate_descent.py:697: ConvergenceWarning: Objective did not converge. You might want to increase the number of iterations, check the scale of the features or consider increasing regularisation. Duality gap: 1.370e-02, tolerance: 4.000e-03\n",
      "  model = cd_fast.enet_coordinate_descent(\n",
      "/home/gg/mambaforge/envs/radiomics_env/lib/python3.9/site-packages/sklearn/linear_model/_coordinate_descent.py:697: ConvergenceWarning: Objective did not converge. You might want to increase the number of iterations, check the scale of the features or consider increasing regularisation. Duality gap: 1.112e-02, tolerance: 4.000e-03\n",
      "  model = cd_fast.enet_coordinate_descent(\n",
      "/home/gg/mambaforge/envs/radiomics_env/lib/python3.9/site-packages/sklearn/linear_model/_coordinate_descent.py:697: ConvergenceWarning: Objective did not converge. You might want to increase the number of iterations, check the scale of the features or consider increasing regularisation. Duality gap: 9.019e-03, tolerance: 4.000e-03\n",
      "  model = cd_fast.enet_coordinate_descent(\n",
      "/home/gg/mambaforge/envs/radiomics_env/lib/python3.9/site-packages/sklearn/linear_model/_coordinate_descent.py:697: ConvergenceWarning: Objective did not converge. You might want to increase the number of iterations, check the scale of the features or consider increasing regularisation. Duality gap: 7.317e-03, tolerance: 4.000e-03\n",
      "  model = cd_fast.enet_coordinate_descent(\n",
      "/home/gg/mambaforge/envs/radiomics_env/lib/python3.9/site-packages/sklearn/linear_model/_coordinate_descent.py:697: ConvergenceWarning: Objective did not converge. You might want to increase the number of iterations, check the scale of the features or consider increasing regularisation. Duality gap: 5.937e-03, tolerance: 4.000e-03\n",
      "  model = cd_fast.enet_coordinate_descent(\n",
      "/home/gg/mambaforge/envs/radiomics_env/lib/python3.9/site-packages/sklearn/linear_model/_coordinate_descent.py:697: ConvergenceWarning: Objective did not converge. You might want to increase the number of iterations, check the scale of the features or consider increasing regularisation. Duality gap: 4.816e-03, tolerance: 4.000e-03\n",
      "  model = cd_fast.enet_coordinate_descent(\n"
     ]
    },
    {
     "data": {
      "image/png": "[encoded data removed]",
      "text/plain": [
       "<Figure size 640x480 with 1 Axes>"
      ]
     },
     "metadata": {},
     "output_type": "display_data"
    }
   ],
   "source": [
    "coefs = selector_lasso.path(X, y, alphas=alphas, max_iter=10000)[1].T\n",
    "plt.figure()\n",
    "plt.semilogx(selector_lasso.alphas_,coefs, '-')\n",
    "plt.axvline(selector_lasso.alpha_,color = 'black',ls=\"--\")\n",
    "plt.xlabel('Lambda')\n",
    "plt.ylabel('Coefficients')\n",
    "plt.show()"
   ]
  },
  {
   "cell_type": "code",
   "execution_count": 50,
   "id": "0b61b213",
   "metadata": {},
   "outputs": [
    {
     "name": "stdout",
     "output_type": "stream",
     "text": [
      "(array([4]),)\n",
      "0\n",
      "0.1\n"
     ]
    }
   ],
   "source": [
    "alphaIndex = np.where(selector_lasso.alphas_ == selector_lasso.alpha_)\n",
    "print(alphaIndex)\n",
    "MSE_mean_SE = MSEs_mean[alphaIndex] + MSEs_std[alphaIndex]\n",
    "alpha_se_index = np.min(np.where(MSEs_mean <= MSE_mean_SE))\n",
    "print(alpha_se_index)\n",
    "alpha_se = selector_lasso.alphas_[alpha_se_index]\n",
    "print(alpha_se)"
   ]
  },
  {
   "cell_type": "code",
   "execution_count": 51,
   "id": "7c32aaed",
   "metadata": {},
   "outputs": [
    {
     "data": {
      "image/png": "[encoded data removed]",
      "text/plain": [
       "<Figure size 640x480 with 1 Axes>"
      ]
     },
     "metadata": {},
     "output_type": "display_data"
    }
   ],
   "source": [
    "MSEs_mean = selector_lasso.mse_path_.mean(axis = 1)\n",
    "MSEs_std = selector_lasso.mse_path_.std(axis = 1)\n",
    "# MSEs_mean = np.apply_along_axis(np.mean,1,MSEs) ☆\n",
    "# MSEs_std = np.apply_along_axis(np.std,1,MSEs) ☆\n",
    "plt.figure()\n",
    "plt.errorbar(selector_lasso.alphas_,MSEs_mean    #x, y数据，一一对应\n",
    "             , yerr=MSEs_std                    #y误差范围\n",
    "             , fmt=\"o\"                          #数据点标记\n",
    "             , ms=3                             #数据点大小\n",
    "             , mfc=\"r\"                          #数据点颜色\n",
    "             , mec=\"r\"                          #数据点边缘颜色\n",
    "             , ecolor=\"lightblue\"               #误差棒颜色\n",
    "             , elinewidth=2                     #误差棒线宽\n",
    "             , capsize=4                        #误差棒边界线长度\n",
    "             , capthick=1)                      #误差棒边界线厚度\n",
    "plt.semilogx()\n",
    "plt.axvline(selector_lasso.alpha_,color = 'black',ls=\"--\")\n",
    "plt.axvline(alpha_se,color = 'black',ls=\"--\")\n",
    "plt.xlabel('Lambda')\n",
    "plt.ylabel('MSE')\n",
    "plt.show()"
   ]
  },
  {
   "cell_type": "code",
   "execution_count": null,
   "id": "f269c506",
   "metadata": {},
   "outputs": [],
   "source": []
  },
  {
   "cell_type": "code",
   "execution_count": null,
   "id": "f6c91014",
   "metadata": {},
   "outputs": [],
   "source": []
  },
  {
   "cell_type": "code",
   "execution_count": null,
   "id": "47c5f9cb",
   "metadata": {},
   "outputs": [],
   "source": []
  },
  {
   "cell_type": "code",
   "execution_count": null,
   "id": "59305cd7",
   "metadata": {},
   "outputs": [],
   "source": []
  }
 ],
 "metadata": {
  "kernelspec": {
   "display_name": "Python [conda env:radiomics_env]",
   "language": "python",
   "name": "conda-env-radiomics_env-py"
  },
  "language_info": {
   "codemirror_mode": {
    "name": "ipython",
    "version": 3
   },
   "file_extension": ".py",
   "mimetype": "text/x-python",
   "name": "python",
   "nbconvert_exporter": "python",
   "pygments_lexer": "ipython3",
   "version": "3.9.19"
  }
 },
 "nbformat": 4,
 "nbformat_minor": 5
}
